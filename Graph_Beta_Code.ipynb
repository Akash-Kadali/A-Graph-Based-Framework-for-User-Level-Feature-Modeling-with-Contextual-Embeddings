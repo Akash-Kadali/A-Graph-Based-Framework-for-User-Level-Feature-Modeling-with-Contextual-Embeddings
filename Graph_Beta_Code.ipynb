{
  "nbformat": 4,
  "nbformat_minor": 0,
  "metadata": {
    "colab": {
      "provenance": []
    },
    "kernelspec": {
      "name": "python3",
      "display_name": "Python 3"
    },
    "language_info": {
      "name": "python"
    }
  },
  "cells": [
    {
      "cell_type": "code",
      "execution_count": null,
      "metadata": {
        "id": "ZV61FBmRauYd"
      },
      "outputs": [],
      "source": [
        "# Define the input layers\n",
        "bert_seq_pool = Input(shape=(256, 768), dtype=tf.float64, name=\"query_text_input\")\n",
        "adj_sp_tt = Input(shape=(64,), sparse=True, dtype=tf.float64, name=\"Adjacency_Matrix_Sparse\")\n",
        "statuses_count = Input(shape=(1,), dtype=tf.float32, name=\"statuses_count_input\")\n",
        "followers_count = Input(shape=(1,), dtype=tf.float32, name=\"followers_count_input\")\n",
        "friends_count = Input(shape=(1,), dtype=tf.float32, name=\"friends_count_input\")\n",
        "favourites_count = Input(shape=(1,), dtype=tf.float32, name=\"favourites_count_input\")\n",
        "\n",
        "enc = tf.concat([enc_bert_pool,statuses_count, followers_count, friends_count, favourites_count], axis=-1)\n",
        "adj, adj_sparse = get_adj(enc)"
      ]
    },
    {
      "cell_type": "code",
      "source": [
        "import tensorflow as tf\n",
        "import numpy as np\n",
        "from sklearn.metrics.pairwise import cosine_similarity\n",
        "\n",
        "def get_adj(enco):\n",
        "    # Move data to GPU\n",
        "    with tf.device('/GPU:0'):  # Change '/GPU:0' to the appropriate GPU device if needed\n",
        "        norm_enco = enco / np.linalg.norm(enco, axis=1, keepdims=True)\n",
        "        similarity_matrix = cosine_similarity(enco)\n",
        "        #adjacency_matrix = similarity_matrix\n",
        "        adjacency_matrix = np.where(similarity_matrix > 0.8, 1, 0)\n",
        "        adj_sparse = tf.convert_to_tensor(adjacency_matrix, dtype=tf.float32)\n",
        "        adjacency_matrix_sparse = tf.sparse.from_dense(adj_sparse)\n",
        "\n",
        "    return adjacency_matrix, adjacency_matrix_sparse"
      ],
      "metadata": {
        "id": "SzOM9iLMbQaz"
      },
      "execution_count": null,
      "outputs": []
    },
    {
      "cell_type": "code",
      "source": [
        "rest_enc = tf.concat([statuses_count, followers_count, friends_count, favourites_count], axis=-1)\n",
        "\n",
        "# Concatenate the attention-weighted representation with rest_enc\n",
        "concatenated = tf.keras.layers.Concatenate()([rest_enc, enc_bert_pool])\n",
        "\n",
        "# Define your deep layers with dropout rate 0.5\n",
        "gso = GraphSageConv(channels=782)([concatenated, adj_sp_tt])\n",
        "\n",
        "do = Dense(782, activation=\"relu\", name=\"Dense_Layer_1\")(gso)\n",
        "do = BatchNormalization()(do)\n",
        "do = Dropout(0.3)(do)"
      ],
      "metadata": {
        "id": "tJcoaYs_bpZ6"
      },
      "execution_count": null,
      "outputs": []
    }
  ]
}