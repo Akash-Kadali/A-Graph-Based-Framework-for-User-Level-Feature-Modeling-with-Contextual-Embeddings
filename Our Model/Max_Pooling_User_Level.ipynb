{
  "nbformat": 4,
  "nbformat_minor": 0,
  "metadata": {
    "colab": {
      "provenance": []
    },
    "kernelspec": {
      "name": "python3",
      "display_name": "Python 3"
    },
    "language_info": {
      "name": "python"
    }
  },
  "cells": [
    {
      "cell_type": "code",
      "source": [
        "from google.colab import drive\n",
        "drive.mount('/content/drive/')\n",
        "\n",
        "import pandas as pd\n",
        "import numpy as np\n",
        "import shutil\n",
        "import os\n",
        "import torch\n",
        "from transformers import BertTokenizer, BertModel\n",
        "from tqdm import tqdm\n",
        "\n",
        "# Check if GPU is available and set the device\n",
        "device = torch.device('cuda' if torch.cuda.is_available() else 'cpu')\n",
        "\n",
        "# Load BERT model and tokenizer\n",
        "tokenizer = BertTokenizer.from_pretrained('bert-base-uncased')\n",
        "model = BertModel.from_pretrained('bert-base-uncased').to(device)  # Move model to GPU\n",
        "\n",
        "def get_bert_embeddings(text):\n",
        "    # Tokenize and get input IDs and attention masks\n",
        "    inputs = tokenizer(text, return_tensors='pt', truncation=True, padding=True, max_length=512)\n",
        "\n",
        "    # Move inputs to the same device as the model\n",
        "    inputs = {key: value.to(device) for key, value in inputs.items()}\n",
        "\n",
        "    # Get embeddings from BERT\n",
        "    with torch.no_grad():\n",
        "        outputs = model(**inputs)\n",
        "\n",
        "    # Extract last hidden state\n",
        "    last_hidden_state = outputs.last_hidden_state\n",
        "\n",
        "    return last_hidden_state\n",
        "\n",
        "def max_pooling(embeddings):\n",
        "    # Max pooling along the sequence dimension\n",
        "    return torch.max(embeddings, dim=1).values\n",
        "\n",
        "# Define the path to the folder containing CSV files\n",
        "folder_path = '/content/drive/MyDrive/MiB Dataset/NPY Files/split files/subfolder_1/'\n",
        "\n",
        "# List all CSV files in the folder\n",
        "files = [f for f in os.listdir(folder_path) if f.endswith('.csv')]\n",
        "\n",
        "# Initialize dictionary to store user-wise pooled outputs\n",
        "user_pooled_outputs = {}\n",
        "\n",
        "# Wrap the file processing loop with tqdm to show progress for each file\n",
        "for file_name in tqdm(files, desc=\"Processing CSV files\"):\n",
        "    file_path = os.path.join(folder_path, file_name)\n",
        "    print(f\"Processing file: {file_path}\")\n",
        "\n",
        "    try:\n",
        "        # Load the CSV file\n",
        "        df = pd.read_csv(file_path)\n",
        "\n",
        "        # Extract the user ID and text columns\n",
        "        user_ids = df['user_id'].tolist()  # Replace 'user_id' with the actual column name\n",
        "        texts = df['text'].tolist()  # Replace 'text' with the actual column name\n",
        "\n",
        "        # Process each text entry\n",
        "        for user_id, text in zip(user_ids, texts):\n",
        "            try:\n",
        "                embeddings = get_bert_embeddings(text)\n",
        "                pooled_output = max_pooling(embeddings)\n",
        "                pooled_output = pooled_output.cpu()  # Move pooled output to CPU\n",
        "\n",
        "                # Add pooled output to the corresponding user's list\n",
        "                if user_id not in user_pooled_outputs:\n",
        "                    user_pooled_outputs[user_id] = []\n",
        "                user_pooled_outputs[user_id].append(pooled_output)\n",
        "\n",
        "            except Exception as e:\n",
        "                print(f\"Error processing text: {text[:30]}... Error: {e}\")\n",
        "\n",
        "    except Exception as e:\n",
        "        print(f\"Error processing file {file_name}: {e}\")\n",
        "\n",
        "# Compute the final pooled output for each user\n",
        "final_user_embeddings = []\n",
        "\n",
        "for user_id, outputs in user_pooled_outputs.items():\n",
        "    if outputs:\n",
        "        # Stack and aggregate the pooled outputs for each user\n",
        "        pooled_outputs_tensor = torch.stack(outputs)\n",
        "        user_embedding = torch.max(pooled_outputs_tensor, dim=0)  # Average pooling across tweets\n",
        "        final_user_embeddings.append(user_embedding)\n",
        "\n",
        "# Convert final embeddings to a tensor\n",
        "if final_user_embeddings:\n",
        "    final_user_embeddings_tensor = torch.stack(final_user_embeddings)\n",
        "    print(f\"Shape of final user embeddings: {final_user_embeddings_tensor.shape}\")\n",
        "\n",
        "    # Example tensor with shape [no_of_users, 768]\n",
        "    print(final_user_embeddings_tensor.shape)\n",
        "else:\n",
        "    print(\"No user embeddings to aggregate.\")"
      ],
      "metadata": {
        "colab": {
          "base_uri": "https://localhost:8080/"
        },
        "id": "_dH8Tq_oFdCt",
        "outputId": "75367e05-93c8-4944-b506-0fe4f31a3072"
      },
      "execution_count": 6,
      "outputs": [
        {
          "output_type": "stream",
          "name": "stdout",
          "text": [
            "Drive already mounted at /content/drive/; to attempt to forcibly remount, call drive.mount(\"/content/drive/\", force_remount=True).\n"
          ]
        },
        {
          "output_type": "stream",
          "name": "stderr",
          "text": [
            "\rProcessing CSV files:   0%|          | 0/286 [00:00<?, ?it/s]"
          ]
        },
        {
          "output_type": "stream",
          "name": "stdout",
          "text": [
            "Processing file: /content/drive/MyDrive/MiB Dataset/NPY Files/split files/subfolder_1/user_2378332362.0.csv\n"
          ]
        },
        {
          "output_type": "stream",
          "name": "stderr",
          "text": [
            "\rProcessing CSV files:   0%|          | 1/286 [00:11<52:22, 11.03s/it]"
          ]
        },
        {
          "output_type": "stream",
          "name": "stdout",
          "text": [
            "Processing file: /content/drive/MyDrive/MiB Dataset/NPY Files/split files/subfolder_1/user_2378336040.0.csv\n"
          ]
        },
        {
          "output_type": "stream",
          "name": "stderr",
          "text": [
            "\rProcessing CSV files:   1%|          | 2/286 [00:23<56:12, 11.88s/it]"
          ]
        },
        {
          "output_type": "stream",
          "name": "stdout",
          "text": [
            "Processing file: /content/drive/MyDrive/MiB Dataset/NPY Files/split files/subfolder_1/user_2378353614.0.csv\n"
          ]
        },
        {
          "output_type": "stream",
          "name": "stderr",
          "text": [
            "\rProcessing CSV files:   1%|          | 3/286 [00:36<57:34, 12.21s/it]"
          ]
        },
        {
          "output_type": "stream",
          "name": "stdout",
          "text": [
            "Processing file: /content/drive/MyDrive/MiB Dataset/NPY Files/split files/subfolder_1/user_2378357743.0.csv\n"
          ]
        },
        {
          "output_type": "stream",
          "name": "stderr",
          "text": [
            "\rProcessing CSV files:   1%|▏         | 4/286 [00:47<55:16, 11.76s/it]"
          ]
        },
        {
          "output_type": "stream",
          "name": "stdout",
          "text": [
            "Processing file: /content/drive/MyDrive/MiB Dataset/NPY Files/split files/subfolder_1/user_2378360713.0.csv\n"
          ]
        },
        {
          "output_type": "stream",
          "name": "stderr",
          "text": [
            "\rProcessing CSV files:   2%|▏         | 5/286 [00:59<55:13, 11.79s/it]"
          ]
        },
        {
          "output_type": "stream",
          "name": "stdout",
          "text": [
            "Processing file: /content/drive/MyDrive/MiB Dataset/NPY Files/split files/subfolder_1/user_2378379048.0.csv\n"
          ]
        },
        {
          "output_type": "stream",
          "name": "stderr",
          "text": [
            "\rProcessing CSV files:   2%|▏         | 6/286 [01:08<51:10, 10.97s/it]"
          ]
        },
        {
          "output_type": "stream",
          "name": "stdout",
          "text": [
            "Processing file: /content/drive/MyDrive/MiB Dataset/NPY Files/split files/subfolder_1/user_2378380094.0.csv\n"
          ]
        },
        {
          "output_type": "stream",
          "name": "stderr",
          "text": [
            "\rProcessing CSV files:   2%|▏         | 7/286 [01:18<49:57, 10.75s/it]"
          ]
        },
        {
          "output_type": "stream",
          "name": "stdout",
          "text": [
            "Processing file: /content/drive/MyDrive/MiB Dataset/NPY Files/split files/subfolder_1/user_2378385974.0.csv\n"
          ]
        },
        {
          "output_type": "stream",
          "name": "stderr",
          "text": [
            "\rProcessing CSV files:   3%|▎         | 8/286 [01:30<50:55, 10.99s/it]"
          ]
        },
        {
          "output_type": "stream",
          "name": "stdout",
          "text": [
            "Processing file: /content/drive/MyDrive/MiB Dataset/NPY Files/split files/subfolder_1/user_2378402216.0.csv\n"
          ]
        },
        {
          "output_type": "stream",
          "name": "stderr",
          "text": [
            "\rProcessing CSV files:   3%|▎         | 9/286 [01:40<49:19, 10.69s/it]"
          ]
        },
        {
          "output_type": "stream",
          "name": "stdout",
          "text": [
            "Processing file: /content/drive/MyDrive/MiB Dataset/NPY Files/split files/subfolder_1/user_2378429094.0.csv\n"
          ]
        },
        {
          "output_type": "stream",
          "name": "stderr",
          "text": [
            "\rProcessing CSV files:   3%|▎         | 10/286 [01:50<49:11, 10.69s/it]"
          ]
        },
        {
          "output_type": "stream",
          "name": "stdout",
          "text": [
            "Processing file: /content/drive/MyDrive/MiB Dataset/NPY Files/split files/subfolder_1/user_2378432126.0.csv\n"
          ]
        },
        {
          "output_type": "stream",
          "name": "stderr",
          "text": [
            "\rProcessing CSV files:   4%|▍         | 11/286 [02:02<50:26, 11.00s/it]"
          ]
        },
        {
          "output_type": "stream",
          "name": "stdout",
          "text": [
            "Processing file: /content/drive/MyDrive/MiB Dataset/NPY Files/split files/subfolder_1/user_2378439283.0.csv\n"
          ]
        },
        {
          "output_type": "stream",
          "name": "stderr",
          "text": [
            "\rProcessing CSV files:   4%|▍         | 12/286 [02:12<48:52, 10.70s/it]"
          ]
        },
        {
          "output_type": "stream",
          "name": "stdout",
          "text": [
            "Processing file: /content/drive/MyDrive/MiB Dataset/NPY Files/split files/subfolder_1/user_2378440728.0.csv\n"
          ]
        },
        {
          "output_type": "stream",
          "name": "stderr",
          "text": [
            "\rProcessing CSV files:   5%|▍         | 13/286 [02:24<50:44, 11.15s/it]"
          ]
        },
        {
          "output_type": "stream",
          "name": "stdout",
          "text": [
            "Processing file: /content/drive/MyDrive/MiB Dataset/NPY Files/split files/subfolder_1/user_2378447250.0.csv\n"
          ]
        },
        {
          "output_type": "stream",
          "name": "stderr",
          "text": [
            "\rProcessing CSV files:   5%|▍         | 14/286 [02:36<51:36, 11.39s/it]"
          ]
        },
        {
          "output_type": "stream",
          "name": "stdout",
          "text": [
            "Processing file: /content/drive/MyDrive/MiB Dataset/NPY Files/split files/subfolder_1/user_2378451139.0.csv\n"
          ]
        },
        {
          "output_type": "stream",
          "name": "stderr",
          "text": [
            "\rProcessing CSV files:   5%|▌         | 15/286 [02:47<50:32, 11.19s/it]"
          ]
        },
        {
          "output_type": "stream",
          "name": "stdout",
          "text": [
            "Processing file: /content/drive/MyDrive/MiB Dataset/NPY Files/split files/subfolder_1/user_2378460950.0.csv\n"
          ]
        },
        {
          "output_type": "stream",
          "name": "stderr",
          "text": [
            "\rProcessing CSV files:   6%|▌         | 16/286 [02:57<49:05, 10.91s/it]"
          ]
        },
        {
          "output_type": "stream",
          "name": "stdout",
          "text": [
            "Processing file: /content/drive/MyDrive/MiB Dataset/NPY Files/split files/subfolder_1/user_2378475132.0.csv\n"
          ]
        },
        {
          "output_type": "stream",
          "name": "stderr",
          "text": [
            "\rProcessing CSV files:   6%|▌         | 17/286 [03:09<50:41, 11.31s/it]"
          ]
        },
        {
          "output_type": "stream",
          "name": "stdout",
          "text": [
            "Processing file: /content/drive/MyDrive/MiB Dataset/NPY Files/split files/subfolder_1/user_2378476622.0.csv\n"
          ]
        },
        {
          "output_type": "stream",
          "name": "stderr",
          "text": [
            "\rProcessing CSV files:   6%|▋         | 18/286 [03:21<50:23, 11.28s/it]"
          ]
        },
        {
          "output_type": "stream",
          "name": "stdout",
          "text": [
            "Processing file: /content/drive/MyDrive/MiB Dataset/NPY Files/split files/subfolder_1/user_2378481212.0.csv\n"
          ]
        },
        {
          "output_type": "stream",
          "name": "stderr",
          "text": [
            "\rProcessing CSV files:   7%|▋         | 19/286 [03:32<50:28, 11.34s/it]"
          ]
        },
        {
          "output_type": "stream",
          "name": "stdout",
          "text": [
            "Processing file: /content/drive/MyDrive/MiB Dataset/NPY Files/split files/subfolder_1/user_2378484415.0.csv\n"
          ]
        },
        {
          "output_type": "stream",
          "name": "stderr",
          "text": [
            "\rProcessing CSV files:   7%|▋         | 20/286 [03:44<50:27, 11.38s/it]"
          ]
        },
        {
          "output_type": "stream",
          "name": "stdout",
          "text": [
            "Processing file: /content/drive/MyDrive/MiB Dataset/NPY Files/split files/subfolder_1/user_2378500051.0.csv\n"
          ]
        },
        {
          "output_type": "stream",
          "name": "stderr",
          "text": [
            "\rProcessing CSV files:   7%|▋         | 21/286 [03:55<50:47, 11.50s/it]"
          ]
        },
        {
          "output_type": "stream",
          "name": "stdout",
          "text": [
            "Processing file: /content/drive/MyDrive/MiB Dataset/NPY Files/split files/subfolder_1/user_2378500346.0.csv\n"
          ]
        },
        {
          "output_type": "stream",
          "name": "stderr",
          "text": [
            "\rProcessing CSV files:   8%|▊         | 22/286 [04:05<47:24, 10.78s/it]"
          ]
        },
        {
          "output_type": "stream",
          "name": "stdout",
          "text": [
            "Processing file: /content/drive/MyDrive/MiB Dataset/NPY Files/split files/subfolder_1/user_2378545333.0.csv\n"
          ]
        },
        {
          "output_type": "stream",
          "name": "stderr",
          "text": [
            "\rProcessing CSV files:   8%|▊         | 23/286 [04:17<48:59, 11.18s/it]"
          ]
        },
        {
          "output_type": "stream",
          "name": "stdout",
          "text": [
            "Processing file: /content/drive/MyDrive/MiB Dataset/NPY Files/split files/subfolder_1/user_2378650778.0.csv\n"
          ]
        },
        {
          "output_type": "stream",
          "name": "stderr",
          "text": [
            "\rProcessing CSV files:   8%|▊         | 24/286 [04:31<52:37, 12.05s/it]"
          ]
        },
        {
          "output_type": "stream",
          "name": "stdout",
          "text": [
            "Processing file: /content/drive/MyDrive/MiB Dataset/NPY Files/split files/subfolder_1/user_2378652246.0.csv\n"
          ]
        },
        {
          "output_type": "stream",
          "name": "stderr",
          "text": [
            "\rProcessing CSV files:   9%|▊         | 25/286 [04:41<50:15, 11.55s/it]"
          ]
        },
        {
          "output_type": "stream",
          "name": "stdout",
          "text": [
            "Processing file: /content/drive/MyDrive/MiB Dataset/NPY Files/split files/subfolder_1/user_2378653928.0.csv\n"
          ]
        },
        {
          "output_type": "stream",
          "name": "stderr",
          "text": [
            "\rProcessing CSV files:   9%|▉         | 26/286 [04:51<47:25, 10.94s/it]"
          ]
        },
        {
          "output_type": "stream",
          "name": "stdout",
          "text": [
            "Processing file: /content/drive/MyDrive/MiB Dataset/NPY Files/split files/subfolder_1/user_2378671002.0.csv\n"
          ]
        },
        {
          "output_type": "stream",
          "name": "stderr",
          "text": [
            "\rProcessing CSV files:   9%|▉         | 27/286 [05:00<45:33, 10.56s/it]"
          ]
        },
        {
          "output_type": "stream",
          "name": "stdout",
          "text": [
            "Processing file: /content/drive/MyDrive/MiB Dataset/NPY Files/split files/subfolder_1/user_2378693646.0.csv\n"
          ]
        },
        {
          "output_type": "stream",
          "name": "stderr",
          "text": [
            "\rProcessing CSV files:  10%|▉         | 28/286 [05:12<46:15, 10.76s/it]"
          ]
        },
        {
          "output_type": "stream",
          "name": "stdout",
          "text": [
            "Processing file: /content/drive/MyDrive/MiB Dataset/NPY Files/split files/subfolder_1/user_2378812603.0.csv\n"
          ]
        },
        {
          "output_type": "stream",
          "name": "stderr",
          "text": [
            "\rProcessing CSV files:  10%|█         | 29/286 [05:23<46:42, 10.91s/it]"
          ]
        },
        {
          "output_type": "stream",
          "name": "stdout",
          "text": [
            "Processing file: /content/drive/MyDrive/MiB Dataset/NPY Files/split files/subfolder_1/user_2378825264.0.csv\n"
          ]
        },
        {
          "output_type": "stream",
          "name": "stderr",
          "text": [
            "\rProcessing CSV files:  10%|█         | 30/286 [05:34<46:28, 10.89s/it]"
          ]
        },
        {
          "output_type": "stream",
          "name": "stdout",
          "text": [
            "Processing file: /content/drive/MyDrive/MiB Dataset/NPY Files/split files/subfolder_1/user_2378847420.0.csv\n"
          ]
        },
        {
          "output_type": "stream",
          "name": "stderr",
          "text": [
            "\rProcessing CSV files:  11%|█         | 31/286 [05:43<44:45, 10.53s/it]"
          ]
        },
        {
          "output_type": "stream",
          "name": "stdout",
          "text": [
            "Processing file: /content/drive/MyDrive/MiB Dataset/NPY Files/split files/subfolder_1/user_2378868756.0.csv\n"
          ]
        },
        {
          "output_type": "stream",
          "name": "stderr",
          "text": [
            "\rProcessing CSV files:  11%|█         | 32/286 [05:54<44:58, 10.63s/it]"
          ]
        },
        {
          "output_type": "stream",
          "name": "stdout",
          "text": [
            "Processing file: /content/drive/MyDrive/MiB Dataset/NPY Files/split files/subfolder_1/user_2378875842.0.csv\n"
          ]
        },
        {
          "output_type": "stream",
          "name": "stderr",
          "text": [
            "\rProcessing CSV files:  12%|█▏        | 33/286 [06:05<44:27, 10.54s/it]"
          ]
        },
        {
          "output_type": "stream",
          "name": "stdout",
          "text": [
            "Processing file: /content/drive/MyDrive/MiB Dataset/NPY Files/split files/subfolder_1/user_2378889606.0.csv\n"
          ]
        },
        {
          "output_type": "stream",
          "name": "stderr",
          "text": [
            "\rProcessing CSV files:  12%|█▏        | 34/286 [06:16<45:48, 10.91s/it]"
          ]
        },
        {
          "output_type": "stream",
          "name": "stdout",
          "text": [
            "Processing file: /content/drive/MyDrive/MiB Dataset/NPY Files/split files/subfolder_1/user_2378904895.0.csv\n"
          ]
        },
        {
          "output_type": "stream",
          "name": "stderr",
          "text": [
            "\rProcessing CSV files:  12%|█▏        | 35/286 [06:26<44:04, 10.54s/it]"
          ]
        },
        {
          "output_type": "stream",
          "name": "stdout",
          "text": [
            "Processing file: /content/drive/MyDrive/MiB Dataset/NPY Files/split files/subfolder_1/user_2378917717.0.csv\n"
          ]
        },
        {
          "output_type": "stream",
          "name": "stderr",
          "text": [
            "\rProcessing CSV files:  13%|█▎        | 36/286 [06:36<43:34, 10.46s/it]"
          ]
        },
        {
          "output_type": "stream",
          "name": "stdout",
          "text": [
            "Processing file: /content/drive/MyDrive/MiB Dataset/NPY Files/split files/subfolder_1/user_2378980568.0.csv\n"
          ]
        },
        {
          "output_type": "stream",
          "name": "stderr",
          "text": [
            "\rProcessing CSV files:  13%|█▎        | 37/286 [06:47<44:04, 10.62s/it]"
          ]
        },
        {
          "output_type": "stream",
          "name": "stdout",
          "text": [
            "Processing file: /content/drive/MyDrive/MiB Dataset/NPY Files/split files/subfolder_1/user_2379010088.0.csv\n"
          ]
        },
        {
          "output_type": "stream",
          "name": "stderr",
          "text": [
            "\rProcessing CSV files:  13%|█▎        | 38/286 [06:59<45:47, 11.08s/it]"
          ]
        },
        {
          "output_type": "stream",
          "name": "stdout",
          "text": [
            "Processing file: /content/drive/MyDrive/MiB Dataset/NPY Files/split files/subfolder_1/user_2379032874.0.csv\n"
          ]
        },
        {
          "output_type": "stream",
          "name": "stderr",
          "text": [
            "\rProcessing CSV files:  14%|█▎        | 39/286 [07:09<43:26, 10.55s/it]"
          ]
        },
        {
          "output_type": "stream",
          "name": "stdout",
          "text": [
            "Processing file: /content/drive/MyDrive/MiB Dataset/NPY Files/split files/subfolder_1/user_2379041683.0.csv\n"
          ]
        },
        {
          "output_type": "stream",
          "name": "stderr",
          "text": [
            "\rProcessing CSV files:  14%|█▍        | 40/286 [07:20<44:22, 10.82s/it]"
          ]
        },
        {
          "output_type": "stream",
          "name": "stdout",
          "text": [
            "Processing file: /content/drive/MyDrive/MiB Dataset/NPY Files/split files/subfolder_1/user_2379050120.0.csv\n"
          ]
        },
        {
          "output_type": "stream",
          "name": "stderr",
          "text": [
            "\rProcessing CSV files:  14%|█▍        | 41/286 [07:31<44:23, 10.87s/it]"
          ]
        },
        {
          "output_type": "stream",
          "name": "stdout",
          "text": [
            "Processing file: /content/drive/MyDrive/MiB Dataset/NPY Files/split files/subfolder_1/user_2379096589.0.csv\n"
          ]
        },
        {
          "output_type": "stream",
          "name": "stderr",
          "text": [
            "\rProcessing CSV files:  15%|█▍        | 42/286 [07:42<44:40, 10.98s/it]"
          ]
        },
        {
          "output_type": "stream",
          "name": "stdout",
          "text": [
            "Processing file: /content/drive/MyDrive/MiB Dataset/NPY Files/split files/subfolder_1/user_2379106592.0.csv\n"
          ]
        },
        {
          "output_type": "stream",
          "name": "stderr",
          "text": [
            "\rProcessing CSV files:  15%|█▌        | 43/286 [07:52<42:19, 10.45s/it]"
          ]
        },
        {
          "output_type": "stream",
          "name": "stdout",
          "text": [
            "Processing file: /content/drive/MyDrive/MiB Dataset/NPY Files/split files/subfolder_1/user_2379108673.0.csv\n"
          ]
        },
        {
          "output_type": "stream",
          "name": "stderr",
          "text": [
            "\rProcessing CSV files:  15%|█▌        | 44/286 [08:03<43:48, 10.86s/it]"
          ]
        },
        {
          "output_type": "stream",
          "name": "stdout",
          "text": [
            "Processing file: /content/drive/MyDrive/MiB Dataset/NPY Files/split files/subfolder_1/user_2379132271.0.csv\n"
          ]
        },
        {
          "output_type": "stream",
          "name": "stderr",
          "text": [
            "\rProcessing CSV files:  16%|█▌        | 45/286 [08:15<44:29, 11.07s/it]"
          ]
        },
        {
          "output_type": "stream",
          "name": "stdout",
          "text": [
            "Processing file: /content/drive/MyDrive/MiB Dataset/NPY Files/split files/subfolder_1/user_2379174853.0.csv\n"
          ]
        },
        {
          "output_type": "stream",
          "name": "stderr",
          "text": [
            "\rProcessing CSV files:  16%|█▌        | 46/286 [08:27<45:21, 11.34s/it]"
          ]
        },
        {
          "output_type": "stream",
          "name": "stdout",
          "text": [
            "Processing file: /content/drive/MyDrive/MiB Dataset/NPY Files/split files/subfolder_1/user_2379180066.0.csv\n"
          ]
        },
        {
          "output_type": "stream",
          "name": "stderr",
          "text": [
            "\rProcessing CSV files:  16%|█▋        | 47/286 [08:38<45:22, 11.39s/it]"
          ]
        },
        {
          "output_type": "stream",
          "name": "stdout",
          "text": [
            "Processing file: /content/drive/MyDrive/MiB Dataset/NPY Files/split files/subfolder_1/user_2379381841.0.csv\n"
          ]
        },
        {
          "output_type": "stream",
          "name": "stderr",
          "text": [
            "\rProcessing CSV files:  17%|█▋        | 48/286 [08:47<41:36, 10.49s/it]"
          ]
        },
        {
          "output_type": "stream",
          "name": "stdout",
          "text": [
            "Processing file: /content/drive/MyDrive/MiB Dataset/NPY Files/split files/subfolder_1/user_2379389678.0.csv\n"
          ]
        },
        {
          "output_type": "stream",
          "name": "stderr",
          "text": [
            "\rProcessing CSV files:  17%|█▋        | 49/286 [08:58<42:17, 10.71s/it]"
          ]
        },
        {
          "output_type": "stream",
          "name": "stdout",
          "text": [
            "Processing file: /content/drive/MyDrive/MiB Dataset/NPY Files/split files/subfolder_1/user_2379407449.0.csv\n"
          ]
        },
        {
          "output_type": "stream",
          "name": "stderr",
          "text": [
            "\rProcessing CSV files:  17%|█▋        | 50/286 [09:12<45:23, 11.54s/it]"
          ]
        },
        {
          "output_type": "stream",
          "name": "stdout",
          "text": [
            "Processing file: /content/drive/MyDrive/MiB Dataset/NPY Files/split files/subfolder_1/user_2379422593.0.csv\n"
          ]
        },
        {
          "output_type": "stream",
          "name": "stderr",
          "text": [
            "\rProcessing CSV files:  18%|█▊        | 51/286 [16:36<9:14:14, 141.51s/it]"
          ]
        },
        {
          "output_type": "stream",
          "name": "stdout",
          "text": [
            "Processing file: /content/drive/MyDrive/MiB Dataset/NPY Files/split files/subfolder_1/user_2379443893.0.csv\n"
          ]
        },
        {
          "output_type": "stream",
          "name": "stderr",
          "text": [
            "\rProcessing CSV files:  18%|█▊        | 52/286 [16:47<6:39:23, 102.41s/it]"
          ]
        },
        {
          "output_type": "stream",
          "name": "stdout",
          "text": [
            "Processing file: /content/drive/MyDrive/MiB Dataset/NPY Files/split files/subfolder_1/user_2379454507.0.csv\n"
          ]
        },
        {
          "output_type": "stream",
          "name": "stderr",
          "text": [
            "\rProcessing CSV files:  19%|█▊        | 53/286 [16:59<4:51:21, 75.03s/it] "
          ]
        },
        {
          "output_type": "stream",
          "name": "stdout",
          "text": [
            "Processing file: /content/drive/MyDrive/MiB Dataset/NPY Files/split files/subfolder_1/user_2379457004.0.csv\n"
          ]
        },
        {
          "output_type": "stream",
          "name": "stderr",
          "text": [
            "\rProcessing CSV files:  19%|█▉        | 54/286 [17:11<3:37:00, 56.12s/it]"
          ]
        },
        {
          "output_type": "stream",
          "name": "stdout",
          "text": [
            "Processing file: /content/drive/MyDrive/MiB Dataset/NPY Files/split files/subfolder_1/user_2379473820.0.csv\n"
          ]
        },
        {
          "output_type": "stream",
          "name": "stderr",
          "text": [
            "\rProcessing CSV files:  19%|█▉        | 55/286 [17:21<2:43:25, 42.45s/it]"
          ]
        },
        {
          "output_type": "stream",
          "name": "stdout",
          "text": [
            "Processing file: /content/drive/MyDrive/MiB Dataset/NPY Files/split files/subfolder_1/user_2379517262.0.csv\n"
          ]
        },
        {
          "output_type": "stream",
          "name": "stderr",
          "text": [
            "\rProcessing CSV files:  20%|█▉        | 56/286 [17:33<2:07:59, 33.39s/it]"
          ]
        },
        {
          "output_type": "stream",
          "name": "stdout",
          "text": [
            "Processing file: /content/drive/MyDrive/MiB Dataset/NPY Files/split files/subfolder_1/user_2379524288.0.csv\n"
          ]
        },
        {
          "output_type": "stream",
          "name": "stderr",
          "text": [
            "\rProcessing CSV files:  20%|█▉        | 57/286 [17:45<1:42:18, 26.80s/it]"
          ]
        },
        {
          "output_type": "stream",
          "name": "stdout",
          "text": [
            "Processing file: /content/drive/MyDrive/MiB Dataset/NPY Files/split files/subfolder_1/user_2379541638.0.csv\n"
          ]
        },
        {
          "output_type": "stream",
          "name": "stderr",
          "text": [
            "\rProcessing CSV files:  20%|██        | 58/286 [17:55<1:23:26, 21.96s/it]"
          ]
        },
        {
          "output_type": "stream",
          "name": "stdout",
          "text": [
            "Processing file: /content/drive/MyDrive/MiB Dataset/NPY Files/split files/subfolder_1/user_2379608905.0.csv\n"
          ]
        },
        {
          "output_type": "stream",
          "name": "stderr",
          "text": [
            "\rProcessing CSV files:  21%|██        | 59/286 [18:06<1:09:34, 18.39s/it]"
          ]
        },
        {
          "output_type": "stream",
          "name": "stdout",
          "text": [
            "Processing file: /content/drive/MyDrive/MiB Dataset/NPY Files/split files/subfolder_1/user_2379663571.0.csv\n"
          ]
        },
        {
          "output_type": "stream",
          "name": "stderr",
          "text": [
            "\rProcessing CSV files:  21%|██        | 60/286 [18:15<59:06, 15.69s/it]  "
          ]
        },
        {
          "output_type": "stream",
          "name": "stdout",
          "text": [
            "Processing file: /content/drive/MyDrive/MiB Dataset/NPY Files/split files/subfolder_1/user_2379672560.0.csv\n"
          ]
        },
        {
          "output_type": "stream",
          "name": "stderr",
          "text": [
            "\rProcessing CSV files:  21%|██▏       | 61/286 [18:25<52:59, 14.13s/it]"
          ]
        },
        {
          "output_type": "stream",
          "name": "stdout",
          "text": [
            "Processing file: /content/drive/MyDrive/MiB Dataset/NPY Files/split files/subfolder_1/user_2379702133.0.csv\n"
          ]
        },
        {
          "output_type": "stream",
          "name": "stderr",
          "text": [
            "\rProcessing CSV files:  22%|██▏       | 62/286 [18:35<48:04, 12.88s/it]"
          ]
        },
        {
          "output_type": "stream",
          "name": "stdout",
          "text": [
            "Processing file: /content/drive/MyDrive/MiB Dataset/NPY Files/split files/subfolder_1/user_2379708266.0.csv\n"
          ]
        },
        {
          "output_type": "stream",
          "name": "stderr",
          "text": [
            "\rProcessing CSV files:  22%|██▏       | 63/286 [18:48<47:06, 12.67s/it]"
          ]
        },
        {
          "output_type": "stream",
          "name": "stdout",
          "text": [
            "Processing file: /content/drive/MyDrive/MiB Dataset/NPY Files/split files/subfolder_1/user_2379741378.0.csv\n"
          ]
        },
        {
          "output_type": "stream",
          "name": "stderr",
          "text": [
            "\rProcessing CSV files:  22%|██▏       | 64/286 [19:01<47:22, 12.80s/it]"
          ]
        },
        {
          "output_type": "stream",
          "name": "stdout",
          "text": [
            "Processing file: /content/drive/MyDrive/MiB Dataset/NPY Files/split files/subfolder_1/user_2379750060.0.csv\n"
          ]
        },
        {
          "output_type": "stream",
          "name": "stderr",
          "text": [
            "\rProcessing CSV files:  23%|██▎       | 65/286 [19:11<44:51, 12.18s/it]"
          ]
        },
        {
          "output_type": "stream",
          "name": "stdout",
          "text": [
            "Processing file: /content/drive/MyDrive/MiB Dataset/NPY Files/split files/subfolder_1/user_2379755827.0.csv\n"
          ]
        },
        {
          "output_type": "stream",
          "name": "stderr",
          "text": [
            "\rProcessing CSV files:  23%|██▎       | 66/286 [19:24<44:32, 12.15s/it]"
          ]
        },
        {
          "output_type": "stream",
          "name": "stdout",
          "text": [
            "Processing file: /content/drive/MyDrive/MiB Dataset/NPY Files/split files/subfolder_1/user_2379771720.0.csv\n"
          ]
        },
        {
          "output_type": "stream",
          "name": "stderr",
          "text": [
            "\rProcessing CSV files:  23%|██▎       | 67/286 [19:34<42:17, 11.59s/it]"
          ]
        },
        {
          "output_type": "stream",
          "name": "stdout",
          "text": [
            "Processing file: /content/drive/MyDrive/MiB Dataset/NPY Files/split files/subfolder_1/user_2379797204.0.csv\n"
          ]
        },
        {
          "output_type": "stream",
          "name": "stderr",
          "text": [
            "\rProcessing CSV files:  24%|██▍       | 68/286 [19:46<42:46, 11.77s/it]"
          ]
        },
        {
          "output_type": "stream",
          "name": "stdout",
          "text": [
            "Processing file: /content/drive/MyDrive/MiB Dataset/NPY Files/split files/subfolder_1/user_2379797442.0.csv\n"
          ]
        },
        {
          "output_type": "stream",
          "name": "stderr",
          "text": [
            "\rProcessing CSV files:  24%|██▍       | 69/286 [19:56<40:21, 11.16s/it]"
          ]
        },
        {
          "output_type": "stream",
          "name": "stdout",
          "text": [
            "Processing file: /content/drive/MyDrive/MiB Dataset/NPY Files/split files/subfolder_1/user_2379801618.0.csv\n"
          ]
        },
        {
          "output_type": "stream",
          "name": "stderr",
          "text": [
            "\rProcessing CSV files:  24%|██▍       | 70/286 [20:06<38:54, 10.81s/it]"
          ]
        },
        {
          "output_type": "stream",
          "name": "stdout",
          "text": [
            "Processing file: /content/drive/MyDrive/MiB Dataset/NPY Files/split files/subfolder_1/user_2379836293.0.csv\n"
          ]
        },
        {
          "output_type": "stream",
          "name": "stderr",
          "text": [
            "\rProcessing CSV files:  25%|██▍       | 71/286 [20:15<36:57, 10.31s/it]"
          ]
        },
        {
          "output_type": "stream",
          "name": "stdout",
          "text": [
            "Processing file: /content/drive/MyDrive/MiB Dataset/NPY Files/split files/subfolder_1/user_2379872966.0.csv\n"
          ]
        },
        {
          "output_type": "stream",
          "name": "stderr",
          "text": [
            "\rProcessing CSV files:  25%|██▌       | 72/286 [20:25<36:51, 10.34s/it]"
          ]
        },
        {
          "output_type": "stream",
          "name": "stdout",
          "text": [
            "Processing file: /content/drive/MyDrive/MiB Dataset/NPY Files/split files/subfolder_1/user_2379874970.0.csv\n"
          ]
        },
        {
          "output_type": "stream",
          "name": "stderr",
          "text": [
            "\rProcessing CSV files:  26%|██▌       | 73/286 [20:36<37:00, 10.42s/it]"
          ]
        },
        {
          "output_type": "stream",
          "name": "stdout",
          "text": [
            "Processing file: /content/drive/MyDrive/MiB Dataset/NPY Files/split files/subfolder_1/user_2379928824.0.csv\n"
          ]
        },
        {
          "output_type": "stream",
          "name": "stderr",
          "text": [
            "\rProcessing CSV files:  26%|██▌       | 74/286 [20:46<36:54, 10.45s/it]"
          ]
        },
        {
          "output_type": "stream",
          "name": "stdout",
          "text": [
            "Processing file: /content/drive/MyDrive/MiB Dataset/NPY Files/split files/subfolder_1/user_2379958296.0.csv\n"
          ]
        },
        {
          "output_type": "stream",
          "name": "stderr",
          "text": [
            "\rProcessing CSV files:  26%|██▌       | 75/286 [20:57<37:24, 10.64s/it]"
          ]
        },
        {
          "output_type": "stream",
          "name": "stdout",
          "text": [
            "Processing file: /content/drive/MyDrive/MiB Dataset/NPY Files/split files/subfolder_1/user_2379970706.0.csv\n"
          ]
        },
        {
          "output_type": "stream",
          "name": "stderr",
          "text": [
            "\rProcessing CSV files:  27%|██▋       | 76/286 [21:08<36:48, 10.52s/it]"
          ]
        },
        {
          "output_type": "stream",
          "name": "stdout",
          "text": [
            "Processing file: /content/drive/MyDrive/MiB Dataset/NPY Files/split files/subfolder_1/user_2380030183.0.csv\n"
          ]
        },
        {
          "output_type": "stream",
          "name": "stderr",
          "text": [
            "\rProcessing CSV files:  27%|██▋       | 77/286 [21:20<38:25, 11.03s/it]"
          ]
        },
        {
          "output_type": "stream",
          "name": "stdout",
          "text": [
            "Processing file: /content/drive/MyDrive/MiB Dataset/NPY Files/split files/subfolder_1/user_2380043263.0.csv\n"
          ]
        },
        {
          "output_type": "stream",
          "name": "stderr",
          "text": [
            "\rProcessing CSV files:  27%|██▋       | 78/286 [21:30<37:10, 10.72s/it]"
          ]
        },
        {
          "output_type": "stream",
          "name": "stdout",
          "text": [
            "Processing file: /content/drive/MyDrive/MiB Dataset/NPY Files/split files/subfolder_1/user_2380045964.0.csv\n"
          ]
        },
        {
          "output_type": "stream",
          "name": "stderr",
          "text": [
            "\rProcessing CSV files:  28%|██▊       | 79/286 [21:42<38:18, 11.11s/it]"
          ]
        },
        {
          "output_type": "stream",
          "name": "stdout",
          "text": [
            "Processing file: /content/drive/MyDrive/MiB Dataset/NPY Files/split files/subfolder_1/user_2380058875.0.csv\n"
          ]
        },
        {
          "output_type": "stream",
          "name": "stderr",
          "text": [
            "\rProcessing CSV files:  28%|██▊       | 80/286 [21:51<35:59, 10.48s/it]"
          ]
        },
        {
          "output_type": "stream",
          "name": "stdout",
          "text": [
            "Processing file: /content/drive/MyDrive/MiB Dataset/NPY Files/split files/subfolder_1/user_2380062097.0.csv\n"
          ]
        },
        {
          "output_type": "stream",
          "name": "stderr",
          "text": [
            "\rProcessing CSV files:  28%|██▊       | 81/286 [22:01<35:15, 10.32s/it]"
          ]
        },
        {
          "output_type": "stream",
          "name": "stdout",
          "text": [
            "Processing file: /content/drive/MyDrive/MiB Dataset/NPY Files/split files/subfolder_1/user_2380151005.0.csv\n"
          ]
        },
        {
          "output_type": "stream",
          "name": "stderr",
          "text": [
            "\rProcessing CSV files:  29%|██▊       | 82/286 [22:12<36:16, 10.67s/it]"
          ]
        },
        {
          "output_type": "stream",
          "name": "stdout",
          "text": [
            "Processing file: /content/drive/MyDrive/MiB Dataset/NPY Files/split files/subfolder_1/user_2380168394.0.csv\n"
          ]
        },
        {
          "output_type": "stream",
          "name": "stderr",
          "text": [
            "\rProcessing CSV files:  29%|██▉       | 83/286 [22:24<36:53, 10.91s/it]"
          ]
        },
        {
          "output_type": "stream",
          "name": "stdout",
          "text": [
            "Processing file: /content/drive/MyDrive/MiB Dataset/NPY Files/split files/subfolder_1/user_2380183135.0.csv\n"
          ]
        },
        {
          "output_type": "stream",
          "name": "stderr",
          "text": [
            "\rProcessing CSV files:  29%|██▉       | 84/286 [22:37<38:36, 11.47s/it]"
          ]
        },
        {
          "output_type": "stream",
          "name": "stdout",
          "text": [
            "Processing file: /content/drive/MyDrive/MiB Dataset/NPY Files/split files/subfolder_1/user_2380197396.0.csv\n"
          ]
        },
        {
          "output_type": "stream",
          "name": "stderr",
          "text": [
            "\rProcessing CSV files:  30%|██▉       | 85/286 [22:47<37:10, 11.09s/it]"
          ]
        },
        {
          "output_type": "stream",
          "name": "stdout",
          "text": [
            "Processing file: /content/drive/MyDrive/MiB Dataset/NPY Files/split files/subfolder_1/user_2380211371.0.csv\n"
          ]
        },
        {
          "output_type": "stream",
          "name": "stderr",
          "text": [
            "\rProcessing CSV files:  30%|███       | 86/286 [22:55<34:06, 10.23s/it]"
          ]
        },
        {
          "output_type": "stream",
          "name": "stdout",
          "text": [
            "Processing file: /content/drive/MyDrive/MiB Dataset/NPY Files/split files/subfolder_1/user_2380212774.0.csv\n"
          ]
        },
        {
          "output_type": "stream",
          "name": "stderr",
          "text": [
            "\rProcessing CSV files:  30%|███       | 87/286 [23:07<35:51, 10.81s/it]"
          ]
        },
        {
          "output_type": "stream",
          "name": "stdout",
          "text": [
            "Processing file: /content/drive/MyDrive/MiB Dataset/NPY Files/split files/subfolder_1/user_2380214491.0.csv\n"
          ]
        },
        {
          "output_type": "stream",
          "name": "stderr",
          "text": [
            "\rProcessing CSV files:  31%|███       | 88/286 [23:19<36:08, 10.95s/it]"
          ]
        },
        {
          "output_type": "stream",
          "name": "stdout",
          "text": [
            "Processing file: /content/drive/MyDrive/MiB Dataset/NPY Files/split files/subfolder_1/user_2380231328.0.csv\n"
          ]
        },
        {
          "output_type": "stream",
          "name": "stderr",
          "text": [
            "\rProcessing CSV files:  31%|███       | 89/286 [23:32<37:59, 11.57s/it]"
          ]
        },
        {
          "output_type": "stream",
          "name": "stdout",
          "text": [
            "Processing file: /content/drive/MyDrive/MiB Dataset/NPY Files/split files/subfolder_1/user_2380239920.0.csv\n"
          ]
        },
        {
          "output_type": "stream",
          "name": "stderr",
          "text": [
            "\rProcessing CSV files:  31%|███▏      | 90/286 [23:43<38:08, 11.68s/it]"
          ]
        },
        {
          "output_type": "stream",
          "name": "stdout",
          "text": [
            "Processing file: /content/drive/MyDrive/MiB Dataset/NPY Files/split files/subfolder_1/user_2380267099.0.csv\n"
          ]
        },
        {
          "output_type": "stream",
          "name": "stderr",
          "text": [
            "\rProcessing CSV files:  32%|███▏      | 91/286 [23:53<35:31, 10.93s/it]"
          ]
        },
        {
          "output_type": "stream",
          "name": "stdout",
          "text": [
            "Processing file: /content/drive/MyDrive/MiB Dataset/NPY Files/split files/subfolder_1/user_2380298010.0.csv\n"
          ]
        },
        {
          "output_type": "stream",
          "name": "stderr",
          "text": [
            "\rProcessing CSV files:  32%|███▏      | 92/286 [24:05<36:34, 11.31s/it]"
          ]
        },
        {
          "output_type": "stream",
          "name": "stdout",
          "text": [
            "Processing file: /content/drive/MyDrive/MiB Dataset/NPY Files/split files/subfolder_1/user_2380303262.0.csv\n"
          ]
        },
        {
          "output_type": "stream",
          "name": "stderr",
          "text": [
            "\rProcessing CSV files:  33%|███▎      | 93/286 [24:17<37:29, 11.66s/it]"
          ]
        },
        {
          "output_type": "stream",
          "name": "stdout",
          "text": [
            "Processing file: /content/drive/MyDrive/MiB Dataset/NPY Files/split files/subfolder_1/user_2380341170.0.csv\n"
          ]
        },
        {
          "output_type": "stream",
          "name": "stderr",
          "text": [
            "\rProcessing CSV files:  33%|███▎      | 94/286 [24:28<36:28, 11.40s/it]"
          ]
        },
        {
          "output_type": "stream",
          "name": "stdout",
          "text": [
            "Processing file: /content/drive/MyDrive/MiB Dataset/NPY Files/split files/subfolder_1/user_2380356271.0.csv\n"
          ]
        },
        {
          "output_type": "stream",
          "name": "stderr",
          "text": [
            "\rProcessing CSV files:  33%|███▎      | 95/286 [24:40<36:35, 11.50s/it]"
          ]
        },
        {
          "output_type": "stream",
          "name": "stdout",
          "text": [
            "Processing file: /content/drive/MyDrive/MiB Dataset/NPY Files/split files/subfolder_1/user_2380368409.0.csv\n"
          ]
        },
        {
          "output_type": "stream",
          "name": "stderr",
          "text": [
            "\rProcessing CSV files:  34%|███▎      | 96/286 [24:52<37:12, 11.75s/it]"
          ]
        },
        {
          "output_type": "stream",
          "name": "stdout",
          "text": [
            "Processing file: /content/drive/MyDrive/MiB Dataset/NPY Files/split files/subfolder_1/user_2380373089.0.csv\n"
          ]
        },
        {
          "output_type": "stream",
          "name": "stderr",
          "text": [
            "\rProcessing CSV files:  34%|███▍      | 97/286 [25:05<38:28, 12.21s/it]"
          ]
        },
        {
          "output_type": "stream",
          "name": "stdout",
          "text": [
            "Processing file: /content/drive/MyDrive/MiB Dataset/NPY Files/split files/subfolder_1/user_2380376893.0.csv\n"
          ]
        },
        {
          "output_type": "stream",
          "name": "stderr",
          "text": [
            "\rProcessing CSV files:  34%|███▍      | 98/286 [25:15<35:58, 11.48s/it]"
          ]
        },
        {
          "output_type": "stream",
          "name": "stdout",
          "text": [
            "Processing file: /content/drive/MyDrive/MiB Dataset/NPY Files/split files/subfolder_1/user_2380383847.0.csv\n"
          ]
        },
        {
          "output_type": "stream",
          "name": "stderr",
          "text": [
            "\rProcessing CSV files:  35%|███▍      | 99/286 [25:25<34:10, 10.97s/it]"
          ]
        },
        {
          "output_type": "stream",
          "name": "stdout",
          "text": [
            "Processing file: /content/drive/MyDrive/MiB Dataset/NPY Files/split files/subfolder_1/user_2380402136.0.csv\n"
          ]
        },
        {
          "output_type": "stream",
          "name": "stderr",
          "text": [
            "\rProcessing CSV files:  35%|███▍      | 100/286 [25:37<34:46, 11.22s/it]"
          ]
        },
        {
          "output_type": "stream",
          "name": "stdout",
          "text": [
            "Processing file: /content/drive/MyDrive/MiB Dataset/NPY Files/split files/subfolder_1/user_2380406281.0.csv\n"
          ]
        },
        {
          "output_type": "stream",
          "name": "stderr",
          "text": [
            "\rProcessing CSV files:  35%|███▌      | 101/286 [25:50<36:11, 11.74s/it]"
          ]
        },
        {
          "output_type": "stream",
          "name": "stdout",
          "text": [
            "Processing file: /content/drive/MyDrive/MiB Dataset/NPY Files/split files/subfolder_1/user_2380413493.0.csv\n"
          ]
        },
        {
          "output_type": "stream",
          "name": "stderr",
          "text": [
            "\rProcessing CSV files:  36%|███▌      | 102/286 [26:04<38:17, 12.49s/it]"
          ]
        },
        {
          "output_type": "stream",
          "name": "stdout",
          "text": [
            "Processing file: /content/drive/MyDrive/MiB Dataset/NPY Files/split files/subfolder_1/user_2380431692.0.csv\n"
          ]
        },
        {
          "output_type": "stream",
          "name": "stderr",
          "text": [
            "\rProcessing CSV files:  36%|███▌      | 103/286 [26:16<38:04, 12.49s/it]"
          ]
        },
        {
          "output_type": "stream",
          "name": "stdout",
          "text": [
            "Processing file: /content/drive/MyDrive/MiB Dataset/NPY Files/split files/subfolder_1/user_2380444051.0.csv\n"
          ]
        },
        {
          "output_type": "stream",
          "name": "stderr",
          "text": [
            "\rProcessing CSV files:  36%|███▋      | 104/286 [26:29<37:35, 12.39s/it]"
          ]
        },
        {
          "output_type": "stream",
          "name": "stdout",
          "text": [
            "Processing file: /content/drive/MyDrive/MiB Dataset/NPY Files/split files/subfolder_1/user_2380445972.0.csv\n"
          ]
        },
        {
          "output_type": "stream",
          "name": "stderr",
          "text": [
            "\rProcessing CSV files:  37%|███▋      | 105/286 [26:39<35:42, 11.84s/it]"
          ]
        },
        {
          "output_type": "stream",
          "name": "stdout",
          "text": [
            "Processing file: /content/drive/MyDrive/MiB Dataset/NPY Files/split files/subfolder_1/user_2380452584.0.csv\n"
          ]
        },
        {
          "output_type": "stream",
          "name": "stderr",
          "text": [
            "\rProcessing CSV files:  37%|███▋      | 106/286 [26:49<33:52, 11.29s/it]"
          ]
        },
        {
          "output_type": "stream",
          "name": "stdout",
          "text": [
            "Processing file: /content/drive/MyDrive/MiB Dataset/NPY Files/split files/subfolder_1/user_2380458997.0.csv\n"
          ]
        },
        {
          "output_type": "stream",
          "name": "stderr",
          "text": [
            "\rProcessing CSV files:  37%|███▋      | 107/286 [26:59<32:38, 10.94s/it]"
          ]
        },
        {
          "output_type": "stream",
          "name": "stdout",
          "text": [
            "Processing file: /content/drive/MyDrive/MiB Dataset/NPY Files/split files/subfolder_1/user_2380459284.0.csv\n"
          ]
        },
        {
          "output_type": "stream",
          "name": "stderr",
          "text": [
            "\rProcessing CSV files:  38%|███▊      | 108/286 [27:12<33:41, 11.36s/it]"
          ]
        },
        {
          "output_type": "stream",
          "name": "stdout",
          "text": [
            "Processing file: /content/drive/MyDrive/MiB Dataset/NPY Files/split files/subfolder_1/user_2380473392.0.csv\n"
          ]
        },
        {
          "output_type": "stream",
          "name": "stderr",
          "text": [
            "\rProcessing CSV files:  38%|███▊      | 109/286 [27:21<32:02, 10.86s/it]"
          ]
        },
        {
          "output_type": "stream",
          "name": "stdout",
          "text": [
            "Processing file: /content/drive/MyDrive/MiB Dataset/NPY Files/split files/subfolder_1/user_2380507915.0.csv\n"
          ]
        },
        {
          "output_type": "stream",
          "name": "stderr",
          "text": [
            "\rProcessing CSV files:  38%|███▊      | 110/286 [27:31<30:43, 10.48s/it]"
          ]
        },
        {
          "output_type": "stream",
          "name": "stdout",
          "text": [
            "Processing file: /content/drive/MyDrive/MiB Dataset/NPY Files/split files/subfolder_1/user_2380630098.0.csv\n"
          ]
        },
        {
          "output_type": "stream",
          "name": "stderr",
          "text": [
            "\rProcessing CSV files:  39%|███▉      | 111/286 [27:42<30:41, 10.52s/it]"
          ]
        },
        {
          "output_type": "stream",
          "name": "stdout",
          "text": [
            "Processing file: /content/drive/MyDrive/MiB Dataset/NPY Files/split files/subfolder_1/user_2380657250.0.csv\n"
          ]
        },
        {
          "output_type": "stream",
          "name": "stderr",
          "text": [
            "\rProcessing CSV files:  39%|███▉      | 112/286 [27:53<31:13, 10.77s/it]"
          ]
        },
        {
          "output_type": "stream",
          "name": "stdout",
          "text": [
            "Processing file: /content/drive/MyDrive/MiB Dataset/NPY Files/split files/subfolder_1/user_2380679000.0.csv\n"
          ]
        },
        {
          "output_type": "stream",
          "name": "stderr",
          "text": [
            "\rProcessing CSV files:  40%|███▉      | 113/286 [28:04<31:37, 10.97s/it]"
          ]
        },
        {
          "output_type": "stream",
          "name": "stdout",
          "text": [
            "Processing file: /content/drive/MyDrive/MiB Dataset/NPY Files/split files/subfolder_1/user_2380724089.0.csv\n"
          ]
        },
        {
          "output_type": "stream",
          "name": "stderr",
          "text": [
            "\rProcessing CSV files:  40%|███▉      | 114/286 [28:13<29:48, 10.40s/it]"
          ]
        },
        {
          "output_type": "stream",
          "name": "stdout",
          "text": [
            "Processing file: /content/drive/MyDrive/MiB Dataset/NPY Files/split files/subfolder_1/user_2380729915.0.csv\n"
          ]
        },
        {
          "output_type": "stream",
          "name": "stderr",
          "text": [
            "\rProcessing CSV files:  40%|████      | 115/286 [28:26<31:09, 10.93s/it]"
          ]
        },
        {
          "output_type": "stream",
          "name": "stdout",
          "text": [
            "Processing file: /content/drive/MyDrive/MiB Dataset/NPY Files/split files/subfolder_1/user_2380732760.0.csv\n"
          ]
        },
        {
          "output_type": "stream",
          "name": "stderr",
          "text": [
            "\rProcessing CSV files:  41%|████      | 116/286 [28:40<33:37, 11.87s/it]"
          ]
        },
        {
          "output_type": "stream",
          "name": "stdout",
          "text": [
            "Processing file: /content/drive/MyDrive/MiB Dataset/NPY Files/split files/subfolder_1/user_2380735502.0.csv\n"
          ]
        },
        {
          "output_type": "stream",
          "name": "stderr",
          "text": [
            "\rProcessing CSV files:  41%|████      | 117/286 [28:51<33:17, 11.82s/it]"
          ]
        },
        {
          "output_type": "stream",
          "name": "stdout",
          "text": [
            "Processing file: /content/drive/MyDrive/MiB Dataset/NPY Files/split files/subfolder_1/user_2380747615.0.csv\n"
          ]
        },
        {
          "output_type": "stream",
          "name": "stderr",
          "text": [
            "\rProcessing CSV files:  41%|████▏     | 118/286 [29:01<31:39, 11.31s/it]"
          ]
        },
        {
          "output_type": "stream",
          "name": "stdout",
          "text": [
            "Processing file: /content/drive/MyDrive/MiB Dataset/NPY Files/split files/subfolder_1/user_2380749122.0.csv\n"
          ]
        },
        {
          "output_type": "stream",
          "name": "stderr",
          "text": [
            "\rProcessing CSV files:  42%|████▏     | 119/286 [29:12<30:53, 11.10s/it]"
          ]
        },
        {
          "output_type": "stream",
          "name": "stdout",
          "text": [
            "Processing file: /content/drive/MyDrive/MiB Dataset/NPY Files/split files/subfolder_1/user_2380766137.0.csv\n"
          ]
        },
        {
          "output_type": "stream",
          "name": "stderr",
          "text": [
            "\rProcessing CSV files:  42%|████▏     | 120/286 [29:23<30:11, 10.91s/it]"
          ]
        },
        {
          "output_type": "stream",
          "name": "stdout",
          "text": [
            "Processing file: /content/drive/MyDrive/MiB Dataset/NPY Files/split files/subfolder_1/user_2380768238.0.csv\n"
          ]
        },
        {
          "output_type": "stream",
          "name": "stderr",
          "text": [
            "\rProcessing CSV files:  42%|████▏     | 121/286 [29:33<29:39, 10.79s/it]"
          ]
        },
        {
          "output_type": "stream",
          "name": "stdout",
          "text": [
            "Processing file: /content/drive/MyDrive/MiB Dataset/NPY Files/split files/subfolder_1/user_2380773902.0.csv\n"
          ]
        },
        {
          "output_type": "stream",
          "name": "stderr",
          "text": [
            "\rProcessing CSV files:  43%|████▎     | 122/286 [29:45<30:25, 11.13s/it]"
          ]
        },
        {
          "output_type": "stream",
          "name": "stdout",
          "text": [
            "Processing file: /content/drive/MyDrive/MiB Dataset/NPY Files/split files/subfolder_1/user_2380777544.0.csv\n"
          ]
        },
        {
          "output_type": "stream",
          "name": "stderr",
          "text": [
            "\rProcessing CSV files:  43%|████▎     | 123/286 [29:56<30:01, 11.05s/it]"
          ]
        },
        {
          "output_type": "stream",
          "name": "stdout",
          "text": [
            "Processing file: /content/drive/MyDrive/MiB Dataset/NPY Files/split files/subfolder_1/user_2380777692.0.csv\n"
          ]
        },
        {
          "output_type": "stream",
          "name": "stderr",
          "text": [
            "\rProcessing CSV files:  43%|████▎     | 124/286 [30:05<28:28, 10.54s/it]"
          ]
        },
        {
          "output_type": "stream",
          "name": "stdout",
          "text": [
            "Processing file: /content/drive/MyDrive/MiB Dataset/NPY Files/split files/subfolder_1/user_2380781340.0.csv\n"
          ]
        },
        {
          "output_type": "stream",
          "name": "stderr",
          "text": [
            "\rProcessing CSV files:  44%|████▎     | 125/286 [30:15<28:01, 10.44s/it]"
          ]
        },
        {
          "output_type": "stream",
          "name": "stdout",
          "text": [
            "Processing file: /content/drive/MyDrive/MiB Dataset/NPY Files/split files/subfolder_1/user_2380793118.0.csv\n"
          ]
        },
        {
          "output_type": "stream",
          "name": "stderr",
          "text": [
            "\rProcessing CSV files:  44%|████▍     | 126/286 [30:27<28:30, 10.69s/it]"
          ]
        },
        {
          "output_type": "stream",
          "name": "stdout",
          "text": [
            "Processing file: /content/drive/MyDrive/MiB Dataset/NPY Files/split files/subfolder_1/user_2380797054.0.csv\n"
          ]
        },
        {
          "output_type": "stream",
          "name": "stderr",
          "text": [
            "\rProcessing CSV files:  44%|████▍     | 127/286 [30:37<28:25, 10.72s/it]"
          ]
        },
        {
          "output_type": "stream",
          "name": "stdout",
          "text": [
            "Processing file: /content/drive/MyDrive/MiB Dataset/NPY Files/split files/subfolder_1/user_2380797061.0.csv\n"
          ]
        },
        {
          "output_type": "stream",
          "name": "stderr",
          "text": [
            "\rProcessing CSV files:  45%|████▍     | 128/286 [30:46<26:44, 10.15s/it]"
          ]
        },
        {
          "output_type": "stream",
          "name": "stdout",
          "text": [
            "Processing file: /content/drive/MyDrive/MiB Dataset/NPY Files/split files/subfolder_1/user_2380802996.0.csv\n"
          ]
        },
        {
          "output_type": "stream",
          "name": "stderr",
          "text": [
            "\rProcessing CSV files:  45%|████▌     | 129/286 [30:57<27:09, 10.38s/it]"
          ]
        },
        {
          "output_type": "stream",
          "name": "stdout",
          "text": [
            "Processing file: /content/drive/MyDrive/MiB Dataset/NPY Files/split files/subfolder_1/user_2380810310.0.csv\n"
          ]
        },
        {
          "output_type": "stream",
          "name": "stderr",
          "text": [
            "\rProcessing CSV files:  45%|████▌     | 130/286 [31:08<27:15, 10.48s/it]"
          ]
        },
        {
          "output_type": "stream",
          "name": "stdout",
          "text": [
            "Processing file: /content/drive/MyDrive/MiB Dataset/NPY Files/split files/subfolder_1/user_2380814376.0.csv\n"
          ]
        },
        {
          "output_type": "stream",
          "name": "stderr",
          "text": [
            "\rProcessing CSV files:  46%|████▌     | 131/286 [31:19<27:25, 10.62s/it]"
          ]
        },
        {
          "output_type": "stream",
          "name": "stdout",
          "text": [
            "Processing file: /content/drive/MyDrive/MiB Dataset/NPY Files/split files/subfolder_1/user_2380833098.0.csv\n"
          ]
        },
        {
          "output_type": "stream",
          "name": "stderr",
          "text": [
            "\rProcessing CSV files:  46%|████▌     | 132/286 [31:29<26:47, 10.44s/it]"
          ]
        },
        {
          "output_type": "stream",
          "name": "stdout",
          "text": [
            "Processing file: /content/drive/MyDrive/MiB Dataset/NPY Files/split files/subfolder_1/user_2380854356.0.csv\n"
          ]
        },
        {
          "output_type": "stream",
          "name": "stderr",
          "text": [
            "\rProcessing CSV files:  47%|████▋     | 133/286 [31:41<27:54, 10.95s/it]"
          ]
        },
        {
          "output_type": "stream",
          "name": "stdout",
          "text": [
            "Processing file: /content/drive/MyDrive/MiB Dataset/NPY Files/split files/subfolder_1/user_2380870370.0.csv\n"
          ]
        },
        {
          "output_type": "stream",
          "name": "stderr",
          "text": [
            "\rProcessing CSV files:  47%|████▋     | 134/286 [31:52<27:50, 10.99s/it]"
          ]
        },
        {
          "output_type": "stream",
          "name": "stdout",
          "text": [
            "Processing file: /content/drive/MyDrive/MiB Dataset/NPY Files/split files/subfolder_1/user_2380870878.0.csv\n"
          ]
        },
        {
          "output_type": "stream",
          "name": "stderr",
          "text": [
            "\rProcessing CSV files:  47%|████▋     | 135/286 [32:03<27:14, 10.83s/it]"
          ]
        },
        {
          "output_type": "stream",
          "name": "stdout",
          "text": [
            "Processing file: /content/drive/MyDrive/MiB Dataset/NPY Files/split files/subfolder_1/user_2380880329.0.csv\n"
          ]
        },
        {
          "output_type": "stream",
          "name": "stderr",
          "text": [
            "\rProcessing CSV files:  48%|████▊     | 136/286 [32:12<26:21, 10.54s/it]"
          ]
        },
        {
          "output_type": "stream",
          "name": "stdout",
          "text": [
            "Processing file: /content/drive/MyDrive/MiB Dataset/NPY Files/split files/subfolder_1/user_2380888711.0.csv\n"
          ]
        },
        {
          "output_type": "stream",
          "name": "stderr",
          "text": [
            "\rProcessing CSV files:  48%|████▊     | 137/286 [32:22<25:41, 10.35s/it]"
          ]
        },
        {
          "output_type": "stream",
          "name": "stdout",
          "text": [
            "Processing file: /content/drive/MyDrive/MiB Dataset/NPY Files/split files/subfolder_1/user_2380891766.0.csv\n"
          ]
        },
        {
          "output_type": "stream",
          "name": "stderr",
          "text": [
            "\rProcessing CSV files:  48%|████▊     | 138/286 [32:33<25:56, 10.51s/it]"
          ]
        },
        {
          "output_type": "stream",
          "name": "stdout",
          "text": [
            "Processing file: /content/drive/MyDrive/MiB Dataset/NPY Files/split files/subfolder_1/user_2380899332.0.csv\n"
          ]
        },
        {
          "output_type": "stream",
          "name": "stderr",
          "text": [
            "\rProcessing CSV files:  49%|████▊     | 139/286 [32:47<28:09, 11.49s/it]"
          ]
        },
        {
          "output_type": "stream",
          "name": "stdout",
          "text": [
            "Processing file: /content/drive/MyDrive/MiB Dataset/NPY Files/split files/subfolder_1/user_2380903033.0.csv\n"
          ]
        },
        {
          "output_type": "stream",
          "name": "stderr",
          "text": [
            "\rProcessing CSV files:  49%|████▉     | 140/286 [33:00<28:51, 11.86s/it]"
          ]
        },
        {
          "output_type": "stream",
          "name": "stdout",
          "text": [
            "Processing file: /content/drive/MyDrive/MiB Dataset/NPY Files/split files/subfolder_1/user_2380910732.0.csv\n"
          ]
        },
        {
          "output_type": "stream",
          "name": "stderr",
          "text": [
            "\rProcessing CSV files:  49%|████▉     | 141/286 [33:13<29:44, 12.30s/it]"
          ]
        },
        {
          "output_type": "stream",
          "name": "stdout",
          "text": [
            "Processing file: /content/drive/MyDrive/MiB Dataset/NPY Files/split files/subfolder_1/user_2380912087.0.csv\n"
          ]
        },
        {
          "output_type": "stream",
          "name": "stderr",
          "text": [
            "\rProcessing CSV files:  50%|████▉     | 142/286 [33:26<29:54, 12.46s/it]"
          ]
        },
        {
          "output_type": "stream",
          "name": "stdout",
          "text": [
            "Processing file: /content/drive/MyDrive/MiB Dataset/NPY Files/split files/subfolder_1/user_2380941368.0.csv\n"
          ]
        },
        {
          "output_type": "stream",
          "name": "stderr",
          "text": [
            "\rProcessing CSV files:  50%|█████     | 143/286 [33:35<27:04, 11.36s/it]"
          ]
        },
        {
          "output_type": "stream",
          "name": "stdout",
          "text": [
            "Processing file: /content/drive/MyDrive/MiB Dataset/NPY Files/split files/subfolder_1/user_2380969262.0.csv\n"
          ]
        },
        {
          "output_type": "stream",
          "name": "stderr",
          "text": [
            "\rProcessing CSV files:  50%|█████     | 144/286 [33:46<26:59, 11.40s/it]"
          ]
        },
        {
          "output_type": "stream",
          "name": "stdout",
          "text": [
            "Processing file: /content/drive/MyDrive/MiB Dataset/NPY Files/split files/subfolder_1/user_2380991072.0.csv\n"
          ]
        },
        {
          "output_type": "stream",
          "name": "stderr",
          "text": [
            "\rProcessing CSV files:  51%|█████     | 145/286 [33:59<27:37, 11.76s/it]"
          ]
        },
        {
          "output_type": "stream",
          "name": "stdout",
          "text": [
            "Processing file: /content/drive/MyDrive/MiB Dataset/NPY Files/split files/subfolder_1/user_2380994893.0.csv\n"
          ]
        },
        {
          "output_type": "stream",
          "name": "stderr",
          "text": [
            "\rProcessing CSV files:  51%|█████     | 146/286 [34:11<27:49, 11.92s/it]"
          ]
        },
        {
          "output_type": "stream",
          "name": "stdout",
          "text": [
            "Processing file: /content/drive/MyDrive/MiB Dataset/NPY Files/split files/subfolder_1/user_2381017446.0.csv\n"
          ]
        },
        {
          "output_type": "stream",
          "name": "stderr",
          "text": [
            "\rProcessing CSV files:  51%|█████▏    | 147/286 [34:23<27:25, 11.84s/it]"
          ]
        },
        {
          "output_type": "stream",
          "name": "stdout",
          "text": [
            "Processing file: /content/drive/MyDrive/MiB Dataset/NPY Files/split files/subfolder_1/user_2381053058.0.csv\n"
          ]
        },
        {
          "output_type": "stream",
          "name": "stderr",
          "text": [
            "\rProcessing CSV files:  52%|█████▏    | 148/286 [34:33<26:24, 11.48s/it]"
          ]
        },
        {
          "output_type": "stream",
          "name": "stdout",
          "text": [
            "Processing file: /content/drive/MyDrive/MiB Dataset/NPY Files/split files/subfolder_1/user_2381053519.0.csv\n"
          ]
        },
        {
          "output_type": "stream",
          "name": "stderr",
          "text": [
            "\rProcessing CSV files:  52%|█████▏    | 149/286 [34:45<26:29, 11.60s/it]"
          ]
        },
        {
          "output_type": "stream",
          "name": "stdout",
          "text": [
            "Processing file: /content/drive/MyDrive/MiB Dataset/NPY Files/split files/subfolder_1/user_2381057383.0.csv\n"
          ]
        },
        {
          "output_type": "stream",
          "name": "stderr",
          "text": [
            "\rProcessing CSV files:  52%|█████▏    | 150/286 [34:55<25:10, 11.11s/it]"
          ]
        },
        {
          "output_type": "stream",
          "name": "stdout",
          "text": [
            "Processing file: /content/drive/MyDrive/MiB Dataset/NPY Files/split files/subfolder_1/user_2381064133.0.csv\n"
          ]
        },
        {
          "output_type": "stream",
          "name": "stderr",
          "text": [
            "\rProcessing CSV files:  53%|█████▎    | 151/286 [35:07<25:10, 11.19s/it]"
          ]
        },
        {
          "output_type": "stream",
          "name": "stdout",
          "text": [
            "Processing file: /content/drive/MyDrive/MiB Dataset/NPY Files/split files/subfolder_1/user_2381097096.0.csv\n"
          ]
        },
        {
          "output_type": "stream",
          "name": "stderr",
          "text": [
            "\rProcessing CSV files:  53%|█████▎    | 152/286 [35:17<24:32, 10.99s/it]"
          ]
        },
        {
          "output_type": "stream",
          "name": "stdout",
          "text": [
            "Processing file: /content/drive/MyDrive/MiB Dataset/NPY Files/split files/subfolder_1/user_2381116117.0.csv\n"
          ]
        },
        {
          "output_type": "stream",
          "name": "stderr",
          "text": [
            "\rProcessing CSV files:  53%|█████▎    | 153/286 [35:28<24:31, 11.07s/it]"
          ]
        },
        {
          "output_type": "stream",
          "name": "stdout",
          "text": [
            "Processing file: /content/drive/MyDrive/MiB Dataset/NPY Files/split files/subfolder_1/user_2381120330.0.csv\n"
          ]
        },
        {
          "output_type": "stream",
          "name": "stderr",
          "text": [
            "\rProcessing CSV files:  54%|█████▍    | 154/286 [35:41<25:28, 11.58s/it]"
          ]
        },
        {
          "output_type": "stream",
          "name": "stdout",
          "text": [
            "Processing file: /content/drive/MyDrive/MiB Dataset/NPY Files/split files/subfolder_1/user_2381124445.0.csv\n"
          ]
        },
        {
          "output_type": "stream",
          "name": "stderr",
          "text": [
            "\rProcessing CSV files:  54%|█████▍    | 155/286 [35:52<24:39, 11.30s/it]"
          ]
        },
        {
          "output_type": "stream",
          "name": "stdout",
          "text": [
            "Processing file: /content/drive/MyDrive/MiB Dataset/NPY Files/split files/subfolder_1/user_2381131111.0.csv\n"
          ]
        },
        {
          "output_type": "stream",
          "name": "stderr",
          "text": [
            "\rProcessing CSV files:  55%|█████▍    | 156/286 [36:04<24:48, 11.45s/it]"
          ]
        },
        {
          "output_type": "stream",
          "name": "stdout",
          "text": [
            "Processing file: /content/drive/MyDrive/MiB Dataset/NPY Files/split files/subfolder_1/user_2381131928.0.csv\n"
          ]
        },
        {
          "output_type": "stream",
          "name": "stderr",
          "text": [
            "\rProcessing CSV files:  55%|█████▍    | 157/286 [36:14<23:57, 11.14s/it]"
          ]
        },
        {
          "output_type": "stream",
          "name": "stdout",
          "text": [
            "Processing file: /content/drive/MyDrive/MiB Dataset/NPY Files/split files/subfolder_1/user_2381137993.0.csv\n"
          ]
        },
        {
          "output_type": "stream",
          "name": "stderr",
          "text": [
            "\rProcessing CSV files:  55%|█████▌    | 158/286 [36:25<23:22, 10.96s/it]"
          ]
        },
        {
          "output_type": "stream",
          "name": "stdout",
          "text": [
            "Processing file: /content/drive/MyDrive/MiB Dataset/NPY Files/split files/subfolder_1/user_2381141238.0.csv\n"
          ]
        },
        {
          "output_type": "stream",
          "name": "stderr",
          "text": [
            "\rProcessing CSV files:  56%|█████▌    | 159/286 [36:35<22:45, 10.75s/it]"
          ]
        },
        {
          "output_type": "stream",
          "name": "stdout",
          "text": [
            "Processing file: /content/drive/MyDrive/MiB Dataset/NPY Files/split files/subfolder_1/user_2381149129.0.csv\n"
          ]
        },
        {
          "output_type": "stream",
          "name": "stderr",
          "text": [
            "\rProcessing CSV files:  56%|█████▌    | 160/286 [36:45<22:08, 10.55s/it]"
          ]
        },
        {
          "output_type": "stream",
          "name": "stdout",
          "text": [
            "Processing file: /content/drive/MyDrive/MiB Dataset/NPY Files/split files/subfolder_1/user_2381196158.0.csv\n"
          ]
        },
        {
          "output_type": "stream",
          "name": "stderr",
          "text": [
            "\rProcessing CSV files:  56%|█████▋    | 161/286 [36:55<22:00, 10.56s/it]"
          ]
        },
        {
          "output_type": "stream",
          "name": "stdout",
          "text": [
            "Processing file: /content/drive/MyDrive/MiB Dataset/NPY Files/split files/subfolder_1/user_2381209188.0.csv\n"
          ]
        },
        {
          "output_type": "stream",
          "name": "stderr",
          "text": [
            "\rProcessing CSV files:  57%|█████▋    | 162/286 [37:06<21:50, 10.57s/it]"
          ]
        },
        {
          "output_type": "stream",
          "name": "stdout",
          "text": [
            "Processing file: /content/drive/MyDrive/MiB Dataset/NPY Files/split files/subfolder_1/user_2381212399.0.csv\n"
          ]
        },
        {
          "output_type": "stream",
          "name": "stderr",
          "text": [
            "\rProcessing CSV files:  57%|█████▋    | 163/286 [37:15<20:44, 10.12s/it]"
          ]
        },
        {
          "output_type": "stream",
          "name": "stdout",
          "text": [
            "Processing file: /content/drive/MyDrive/MiB Dataset/NPY Files/split files/subfolder_1/user_2381223642.0.csv\n"
          ]
        },
        {
          "output_type": "stream",
          "name": "stderr",
          "text": [
            "\rProcessing CSV files:  57%|█████▋    | 164/286 [37:26<21:20, 10.50s/it]"
          ]
        },
        {
          "output_type": "stream",
          "name": "stdout",
          "text": [
            "Processing file: /content/drive/MyDrive/MiB Dataset/NPY Files/split files/subfolder_1/user_2381239056.0.csv\n"
          ]
        },
        {
          "output_type": "stream",
          "name": "stderr",
          "text": [
            "\rProcessing CSV files:  58%|█████▊    | 165/286 [37:36<20:44, 10.29s/it]"
          ]
        },
        {
          "output_type": "stream",
          "name": "stdout",
          "text": [
            "Processing file: /content/drive/MyDrive/MiB Dataset/NPY Files/split files/subfolder_1/user_2381246208.0.csv\n"
          ]
        },
        {
          "output_type": "stream",
          "name": "stderr",
          "text": [
            "\rProcessing CSV files:  58%|█████▊    | 166/286 [37:48<21:14, 10.62s/it]"
          ]
        },
        {
          "output_type": "stream",
          "name": "stdout",
          "text": [
            "Processing file: /content/drive/MyDrive/MiB Dataset/NPY Files/split files/subfolder_1/user_2381247019.0.csv\n"
          ]
        },
        {
          "output_type": "stream",
          "name": "stderr",
          "text": [
            "\rProcessing CSV files:  58%|█████▊    | 167/286 [37:57<20:07, 10.15s/it]"
          ]
        },
        {
          "output_type": "stream",
          "name": "stdout",
          "text": [
            "Processing file: /content/drive/MyDrive/MiB Dataset/NPY Files/split files/subfolder_1/user_2381255766.0.csv\n"
          ]
        },
        {
          "output_type": "stream",
          "name": "stderr",
          "text": [
            "\rProcessing CSV files:  59%|█████▊    | 168/286 [38:08<20:25, 10.39s/it]"
          ]
        },
        {
          "output_type": "stream",
          "name": "stdout",
          "text": [
            "Processing file: /content/drive/MyDrive/MiB Dataset/NPY Files/split files/subfolder_1/user_2381262787.0.csv\n"
          ]
        },
        {
          "output_type": "stream",
          "name": "stderr",
          "text": [
            "\rProcessing CSV files:  59%|█████▉    | 169/286 [38:21<22:00, 11.29s/it]"
          ]
        },
        {
          "output_type": "stream",
          "name": "stdout",
          "text": [
            "Processing file: /content/drive/MyDrive/MiB Dataset/NPY Files/split files/subfolder_1/user_2381263592.0.csv\n"
          ]
        },
        {
          "output_type": "stream",
          "name": "stderr",
          "text": [
            "\rProcessing CSV files:  59%|█████▉    | 170/286 [38:32<21:50, 11.30s/it]"
          ]
        },
        {
          "output_type": "stream",
          "name": "stdout",
          "text": [
            "Processing file: /content/drive/MyDrive/MiB Dataset/NPY Files/split files/subfolder_1/user_2381263688.0.csv\n"
          ]
        },
        {
          "output_type": "stream",
          "name": "stderr",
          "text": [
            "\rProcessing CSV files:  60%|█████▉    | 171/286 [38:44<21:36, 11.27s/it]"
          ]
        },
        {
          "output_type": "stream",
          "name": "stdout",
          "text": [
            "Processing file: /content/drive/MyDrive/MiB Dataset/NPY Files/split files/subfolder_1/user_2381294144.0.csv\n"
          ]
        },
        {
          "output_type": "stream",
          "name": "stderr",
          "text": [
            "\rProcessing CSV files:  60%|██████    | 172/286 [38:54<21:06, 11.11s/it]"
          ]
        },
        {
          "output_type": "stream",
          "name": "stdout",
          "text": [
            "Processing file: /content/drive/MyDrive/MiB Dataset/NPY Files/split files/subfolder_1/user_2381305999.0.csv\n"
          ]
        },
        {
          "output_type": "stream",
          "name": "stderr",
          "text": [
            "\rProcessing CSV files:  60%|██████    | 173/286 [39:05<20:53, 11.10s/it]"
          ]
        },
        {
          "output_type": "stream",
          "name": "stdout",
          "text": [
            "Processing file: /content/drive/MyDrive/MiB Dataset/NPY Files/split files/subfolder_1/user_2381324954.0.csv\n"
          ]
        },
        {
          "output_type": "stream",
          "name": "stderr",
          "text": [
            "\rProcessing CSV files:  61%|██████    | 174/286 [39:17<20:48, 11.15s/it]"
          ]
        },
        {
          "output_type": "stream",
          "name": "stdout",
          "text": [
            "Processing file: /content/drive/MyDrive/MiB Dataset/NPY Files/split files/subfolder_1/user_2381340571.0.csv\n"
          ]
        },
        {
          "output_type": "stream",
          "name": "stderr",
          "text": [
            "\rProcessing CSV files:  61%|██████    | 175/286 [39:28<20:41, 11.19s/it]"
          ]
        },
        {
          "output_type": "stream",
          "name": "stdout",
          "text": [
            "Processing file: /content/drive/MyDrive/MiB Dataset/NPY Files/split files/subfolder_1/user_2381372120.0.csv\n"
          ]
        },
        {
          "output_type": "stream",
          "name": "stderr",
          "text": [
            "\rProcessing CSV files:  62%|██████▏   | 176/286 [39:39<20:16, 11.06s/it]"
          ]
        },
        {
          "output_type": "stream",
          "name": "stdout",
          "text": [
            "Processing file: /content/drive/MyDrive/MiB Dataset/NPY Files/split files/subfolder_1/user_2381381947.0.csv\n"
          ]
        },
        {
          "output_type": "stream",
          "name": "stderr",
          "text": [
            "\rProcessing CSV files:  62%|██████▏   | 177/286 [39:47<18:31, 10.20s/it]"
          ]
        },
        {
          "output_type": "stream",
          "name": "stdout",
          "text": [
            "Processing file: /content/drive/MyDrive/MiB Dataset/NPY Files/split files/subfolder_1/user_2381397469.0.csv\n"
          ]
        },
        {
          "output_type": "stream",
          "name": "stderr",
          "text": [
            "\rProcessing CSV files:  62%|██████▏   | 178/286 [39:58<19:03, 10.59s/it]"
          ]
        },
        {
          "output_type": "stream",
          "name": "stdout",
          "text": [
            "Processing file: /content/drive/MyDrive/MiB Dataset/NPY Files/split files/subfolder_1/user_2381401574.0.csv\n"
          ]
        },
        {
          "output_type": "stream",
          "name": "stderr",
          "text": [
            "\rProcessing CSV files:  63%|██████▎   | 179/286 [40:10<19:11, 10.76s/it]"
          ]
        },
        {
          "output_type": "stream",
          "name": "stdout",
          "text": [
            "Processing file: /content/drive/MyDrive/MiB Dataset/NPY Files/split files/subfolder_1/user_2381402388.0.csv\n"
          ]
        },
        {
          "output_type": "stream",
          "name": "stderr",
          "text": [
            "\rProcessing CSV files:  63%|██████▎   | 180/286 [40:21<19:20, 10.95s/it]"
          ]
        },
        {
          "output_type": "stream",
          "name": "stdout",
          "text": [
            "Processing file: /content/drive/MyDrive/MiB Dataset/NPY Files/split files/subfolder_1/user_2381405952.0.csv\n"
          ]
        },
        {
          "output_type": "stream",
          "name": "stderr",
          "text": [
            "\rProcessing CSV files:  63%|██████▎   | 181/286 [40:33<19:41, 11.25s/it]"
          ]
        },
        {
          "output_type": "stream",
          "name": "stdout",
          "text": [
            "Processing file: /content/drive/MyDrive/MiB Dataset/NPY Files/split files/subfolder_1/user_2381418475.0.csv\n"
          ]
        },
        {
          "output_type": "stream",
          "name": "stderr",
          "text": [
            "\rProcessing CSV files:  64%|██████▎   | 182/286 [40:45<19:41, 11.36s/it]"
          ]
        },
        {
          "output_type": "stream",
          "name": "stdout",
          "text": [
            "Processing file: /content/drive/MyDrive/MiB Dataset/NPY Files/split files/subfolder_1/user_2381421510.0.csv\n"
          ]
        },
        {
          "output_type": "stream",
          "name": "stderr",
          "text": [
            "\rProcessing CSV files:  64%|██████▍   | 183/286 [40:57<19:50, 11.56s/it]"
          ]
        },
        {
          "output_type": "stream",
          "name": "stdout",
          "text": [
            "Processing file: /content/drive/MyDrive/MiB Dataset/NPY Files/split files/subfolder_1/user_2381421956.0.csv\n"
          ]
        },
        {
          "output_type": "stream",
          "name": "stderr",
          "text": [
            "\rProcessing CSV files:  64%|██████▍   | 184/286 [41:08<19:25, 11.43s/it]"
          ]
        },
        {
          "output_type": "stream",
          "name": "stdout",
          "text": [
            "Processing file: /content/drive/MyDrive/MiB Dataset/NPY Files/split files/subfolder_1/user_2381447276.0.csv\n"
          ]
        },
        {
          "output_type": "stream",
          "name": "stderr",
          "text": [
            "\rProcessing CSV files:  65%|██████▍   | 185/286 [41:17<18:15, 10.85s/it]"
          ]
        },
        {
          "output_type": "stream",
          "name": "stdout",
          "text": [
            "Processing file: /content/drive/MyDrive/MiB Dataset/NPY Files/split files/subfolder_1/user_2381454584.0.csv\n"
          ]
        },
        {
          "output_type": "stream",
          "name": "stderr",
          "text": [
            "\rProcessing CSV files:  65%|██████▌   | 186/286 [41:28<18:05, 10.86s/it]"
          ]
        },
        {
          "output_type": "stream",
          "name": "stdout",
          "text": [
            "Processing file: /content/drive/MyDrive/MiB Dataset/NPY Files/split files/subfolder_1/user_2381458105.0.csv\n"
          ]
        },
        {
          "output_type": "stream",
          "name": "stderr",
          "text": [
            "\rProcessing CSV files:  65%|██████▌   | 187/286 [41:40<18:30, 11.22s/it]"
          ]
        },
        {
          "output_type": "stream",
          "name": "stdout",
          "text": [
            "Processing file: /content/drive/MyDrive/MiB Dataset/NPY Files/split files/subfolder_1/user_2381471017.0.csv\n"
          ]
        },
        {
          "output_type": "stream",
          "name": "stderr",
          "text": [
            "\rProcessing CSV files:  66%|██████▌   | 188/286 [41:51<18:11, 11.14s/it]"
          ]
        },
        {
          "output_type": "stream",
          "name": "stdout",
          "text": [
            "Processing file: /content/drive/MyDrive/MiB Dataset/NPY Files/split files/subfolder_1/user_2381480671.0.csv\n"
          ]
        },
        {
          "output_type": "stream",
          "name": "stderr",
          "text": [
            "\rProcessing CSV files:  66%|██████▌   | 189/286 [42:03<18:33, 11.48s/it]"
          ]
        },
        {
          "output_type": "stream",
          "name": "stdout",
          "text": [
            "Processing file: /content/drive/MyDrive/MiB Dataset/NPY Files/split files/subfolder_1/user_2381482603.0.csv\n"
          ]
        },
        {
          "output_type": "stream",
          "name": "stderr",
          "text": [
            "\rProcessing CSV files:  66%|██████▋   | 190/286 [42:16<18:46, 11.73s/it]"
          ]
        },
        {
          "output_type": "stream",
          "name": "stdout",
          "text": [
            "Processing file: /content/drive/MyDrive/MiB Dataset/NPY Files/split files/subfolder_1/user_2381617724.0.csv\n"
          ]
        },
        {
          "output_type": "stream",
          "name": "stderr",
          "text": [
            "\rProcessing CSV files:  67%|██████▋   | 191/286 [42:29<19:16, 12.18s/it]"
          ]
        },
        {
          "output_type": "stream",
          "name": "stdout",
          "text": [
            "Processing file: /content/drive/MyDrive/MiB Dataset/NPY Files/split files/subfolder_1/user_2381626472.0.csv\n"
          ]
        },
        {
          "output_type": "stream",
          "name": "stderr",
          "text": [
            "\rProcessing CSV files:  67%|██████▋   | 192/286 [42:40<18:35, 11.86s/it]"
          ]
        },
        {
          "output_type": "stream",
          "name": "stdout",
          "text": [
            "Processing file: /content/drive/MyDrive/MiB Dataset/NPY Files/split files/subfolder_1/user_2381629880.0.csv\n"
          ]
        },
        {
          "output_type": "stream",
          "name": "stderr",
          "text": [
            "\rProcessing CSV files:  67%|██████▋   | 193/286 [42:50<17:29, 11.29s/it]"
          ]
        },
        {
          "output_type": "stream",
          "name": "stdout",
          "text": [
            "Processing file: /content/drive/MyDrive/MiB Dataset/NPY Files/split files/subfolder_1/user_2381645162.0.csv\n"
          ]
        },
        {
          "output_type": "stream",
          "name": "stderr",
          "text": [
            "\rProcessing CSV files:  68%|██████▊   | 194/286 [43:01<17:17, 11.28s/it]"
          ]
        },
        {
          "output_type": "stream",
          "name": "stdout",
          "text": [
            "Processing file: /content/drive/MyDrive/MiB Dataset/NPY Files/split files/subfolder_1/user_2381648312.0.csv\n"
          ]
        },
        {
          "output_type": "stream",
          "name": "stderr",
          "text": [
            "\rProcessing CSV files:  68%|██████▊   | 195/286 [43:13<17:13, 11.36s/it]"
          ]
        },
        {
          "output_type": "stream",
          "name": "stdout",
          "text": [
            "Processing file: /content/drive/MyDrive/MiB Dataset/NPY Files/split files/subfolder_1/user_2381650784.0.csv\n"
          ]
        },
        {
          "output_type": "stream",
          "name": "stderr",
          "text": [
            "\rProcessing CSV files:  69%|██████▊   | 196/286 [43:22<16:16, 10.86s/it]"
          ]
        },
        {
          "output_type": "stream",
          "name": "stdout",
          "text": [
            "Processing file: /content/drive/MyDrive/MiB Dataset/NPY Files/split files/subfolder_1/user_2381666796.0.csv\n"
          ]
        },
        {
          "output_type": "stream",
          "name": "stderr",
          "text": [
            "\rProcessing CSV files:  69%|██████▉   | 197/286 [43:32<15:21, 10.35s/it]"
          ]
        },
        {
          "output_type": "stream",
          "name": "stdout",
          "text": [
            "Processing file: /content/drive/MyDrive/MiB Dataset/NPY Files/split files/subfolder_1/user_2381675280.0.csv\n"
          ]
        },
        {
          "output_type": "stream",
          "name": "stderr",
          "text": [
            "\rProcessing CSV files:  69%|██████▉   | 198/286 [43:41<14:44, 10.05s/it]"
          ]
        },
        {
          "output_type": "stream",
          "name": "stdout",
          "text": [
            "Processing file: /content/drive/MyDrive/MiB Dataset/NPY Files/split files/subfolder_1/user_2381708148.0.csv\n"
          ]
        },
        {
          "output_type": "stream",
          "name": "stderr",
          "text": [
            "\rProcessing CSV files:  70%|██████▉   | 199/286 [43:53<15:23, 10.62s/it]"
          ]
        },
        {
          "output_type": "stream",
          "name": "stdout",
          "text": [
            "Processing file: /content/drive/MyDrive/MiB Dataset/NPY Files/split files/subfolder_1/user_2381744869.0.csv\n"
          ]
        },
        {
          "output_type": "stream",
          "name": "stderr",
          "text": [
            "\rProcessing CSV files:  70%|██████▉   | 200/286 [44:05<15:47, 11.01s/it]"
          ]
        },
        {
          "output_type": "stream",
          "name": "stdout",
          "text": [
            "Processing file: /content/drive/MyDrive/MiB Dataset/NPY Files/split files/subfolder_1/user_2381746676.0.csv\n"
          ]
        },
        {
          "output_type": "stream",
          "name": "stderr",
          "text": [
            "\rProcessing CSV files:  70%|███████   | 201/286 [44:17<16:04, 11.34s/it]"
          ]
        },
        {
          "output_type": "stream",
          "name": "stdout",
          "text": [
            "Processing file: /content/drive/MyDrive/MiB Dataset/NPY Files/split files/subfolder_1/user_2381762150.0.csv\n"
          ]
        },
        {
          "output_type": "stream",
          "name": "stderr",
          "text": [
            "\rProcessing CSV files:  71%|███████   | 202/286 [44:27<15:24, 11.00s/it]"
          ]
        },
        {
          "output_type": "stream",
          "name": "stdout",
          "text": [
            "Processing file: /content/drive/MyDrive/MiB Dataset/NPY Files/split files/subfolder_1/user_2381762599.0.csv\n"
          ]
        },
        {
          "output_type": "stream",
          "name": "stderr",
          "text": [
            "\rProcessing CSV files:  71%|███████   | 203/286 [44:39<15:33, 11.25s/it]"
          ]
        },
        {
          "output_type": "stream",
          "name": "stdout",
          "text": [
            "Processing file: /content/drive/MyDrive/MiB Dataset/NPY Files/split files/subfolder_1/user_2381781342.0.csv\n"
          ]
        },
        {
          "output_type": "stream",
          "name": "stderr",
          "text": [
            "\rProcessing CSV files:  71%|███████▏  | 204/286 [44:50<15:11, 11.11s/it]"
          ]
        },
        {
          "output_type": "stream",
          "name": "stdout",
          "text": [
            "Processing file: /content/drive/MyDrive/MiB Dataset/NPY Files/split files/subfolder_1/user_2381781992.0.csv\n"
          ]
        },
        {
          "output_type": "stream",
          "name": "stderr",
          "text": [
            "\rProcessing CSV files:  72%|███████▏  | 205/286 [45:02<15:22, 11.39s/it]"
          ]
        },
        {
          "output_type": "stream",
          "name": "stdout",
          "text": [
            "Processing file: /content/drive/MyDrive/MiB Dataset/NPY Files/split files/subfolder_1/user_2381807282.0.csv\n"
          ]
        },
        {
          "output_type": "stream",
          "name": "stderr",
          "text": [
            "\rProcessing CSV files:  72%|███████▏  | 206/286 [45:15<15:58, 11.98s/it]"
          ]
        },
        {
          "output_type": "stream",
          "name": "stdout",
          "text": [
            "Processing file: /content/drive/MyDrive/MiB Dataset/NPY Files/split files/subfolder_1/user_2381821184.0.csv\n"
          ]
        },
        {
          "output_type": "stream",
          "name": "stderr",
          "text": [
            "\rProcessing CSV files:  72%|███████▏  | 207/286 [45:25<14:52, 11.30s/it]"
          ]
        },
        {
          "output_type": "stream",
          "name": "stdout",
          "text": [
            "Processing file: /content/drive/MyDrive/MiB Dataset/NPY Files/split files/subfolder_1/user_2381822418.0.csv\n"
          ]
        },
        {
          "output_type": "stream",
          "name": "stderr",
          "text": [
            "\rProcessing CSV files:  73%|███████▎  | 208/286 [45:36<14:46, 11.36s/it]"
          ]
        },
        {
          "output_type": "stream",
          "name": "stdout",
          "text": [
            "Processing file: /content/drive/MyDrive/MiB Dataset/NPY Files/split files/subfolder_1/user_2381825702.0.csv\n"
          ]
        },
        {
          "output_type": "stream",
          "name": "stderr",
          "text": [
            "\rProcessing CSV files:  73%|███████▎  | 209/286 [45:47<14:25, 11.24s/it]"
          ]
        },
        {
          "output_type": "stream",
          "name": "stdout",
          "text": [
            "Processing file: /content/drive/MyDrive/MiB Dataset/NPY Files/split files/subfolder_1/user_2381827916.0.csv\n"
          ]
        },
        {
          "output_type": "stream",
          "name": "stderr",
          "text": [
            "\rProcessing CSV files:  73%|███████▎  | 210/286 [45:59<14:16, 11.27s/it]"
          ]
        },
        {
          "output_type": "stream",
          "name": "stdout",
          "text": [
            "Processing file: /content/drive/MyDrive/MiB Dataset/NPY Files/split files/subfolder_1/user_2381832290.0.csv\n"
          ]
        },
        {
          "output_type": "stream",
          "name": "stderr",
          "text": [
            "\rProcessing CSV files:  74%|███████▍  | 211/286 [46:10<14:00, 11.21s/it]"
          ]
        },
        {
          "output_type": "stream",
          "name": "stdout",
          "text": [
            "Processing file: /content/drive/MyDrive/MiB Dataset/NPY Files/split files/subfolder_1/user_2381845388.0.csv\n"
          ]
        },
        {
          "output_type": "stream",
          "name": "stderr",
          "text": [
            "\rProcessing CSV files:  74%|███████▍  | 212/286 [46:18<12:47, 10.38s/it]"
          ]
        },
        {
          "output_type": "stream",
          "name": "stdout",
          "text": [
            "Processing file: /content/drive/MyDrive/MiB Dataset/NPY Files/split files/subfolder_1/user_2381845933.0.csv\n"
          ]
        },
        {
          "output_type": "stream",
          "name": "stderr",
          "text": [
            "\rProcessing CSV files:  74%|███████▍  | 213/286 [46:29<12:42, 10.45s/it]"
          ]
        },
        {
          "output_type": "stream",
          "name": "stdout",
          "text": [
            "Processing file: /content/drive/MyDrive/MiB Dataset/NPY Files/split files/subfolder_1/user_2381881135.0.csv\n"
          ]
        },
        {
          "output_type": "stream",
          "name": "stderr",
          "text": [
            "\rProcessing CSV files:  75%|███████▍  | 214/286 [46:40<12:49, 10.68s/it]"
          ]
        },
        {
          "output_type": "stream",
          "name": "stdout",
          "text": [
            "Processing file: /content/drive/MyDrive/MiB Dataset/NPY Files/split files/subfolder_1/user_2381929579.0.csv\n"
          ]
        },
        {
          "output_type": "stream",
          "name": "stderr",
          "text": [
            "\rProcessing CSV files:  75%|███████▌  | 215/286 [46:50<12:33, 10.62s/it]"
          ]
        },
        {
          "output_type": "stream",
          "name": "stdout",
          "text": [
            "Processing file: /content/drive/MyDrive/MiB Dataset/NPY Files/split files/subfolder_1/user_2381934343.0.csv\n"
          ]
        },
        {
          "output_type": "stream",
          "name": "stderr",
          "text": [
            "\rProcessing CSV files:  76%|███████▌  | 216/286 [47:00<11:52, 10.18s/it]"
          ]
        },
        {
          "output_type": "stream",
          "name": "stdout",
          "text": [
            "Processing file: /content/drive/MyDrive/MiB Dataset/NPY Files/split files/subfolder_1/user_2381958037.0.csv\n"
          ]
        },
        {
          "output_type": "stream",
          "name": "stderr",
          "text": [
            "\rProcessing CSV files:  76%|███████▌  | 217/286 [47:10<11:43, 10.20s/it]"
          ]
        },
        {
          "output_type": "stream",
          "name": "stdout",
          "text": [
            "Processing file: /content/drive/MyDrive/MiB Dataset/NPY Files/split files/subfolder_1/user_2381975125.0.csv\n"
          ]
        },
        {
          "output_type": "stream",
          "name": "stderr",
          "text": [
            "\rProcessing CSV files:  76%|███████▌  | 218/286 [47:21<12:00, 10.59s/it]"
          ]
        },
        {
          "output_type": "stream",
          "name": "stdout",
          "text": [
            "Processing file: /content/drive/MyDrive/MiB Dataset/NPY Files/split files/subfolder_1/user_2381983135.0.csv\n"
          ]
        },
        {
          "output_type": "stream",
          "name": "stderr",
          "text": [
            "\rProcessing CSV files:  77%|███████▋  | 219/286 [47:34<12:25, 11.13s/it]"
          ]
        },
        {
          "output_type": "stream",
          "name": "stdout",
          "text": [
            "Processing file: /content/drive/MyDrive/MiB Dataset/NPY Files/split files/subfolder_1/user_2381983453.0.csv\n"
          ]
        },
        {
          "output_type": "stream",
          "name": "stderr",
          "text": [
            "\rProcessing CSV files:  77%|███████▋  | 220/286 [47:46<12:43, 11.56s/it]"
          ]
        },
        {
          "output_type": "stream",
          "name": "stdout",
          "text": [
            "Processing file: /content/drive/MyDrive/MiB Dataset/NPY Files/split files/subfolder_1/user_2381996605.0.csv\n"
          ]
        },
        {
          "output_type": "stream",
          "name": "stderr",
          "text": [
            "\rProcessing CSV files:  77%|███████▋  | 221/286 [47:59<12:53, 11.89s/it]"
          ]
        },
        {
          "output_type": "stream",
          "name": "stdout",
          "text": [
            "Processing file: /content/drive/MyDrive/MiB Dataset/NPY Files/split files/subfolder_1/user_2381999064.0.csv\n"
          ]
        },
        {
          "output_type": "stream",
          "name": "stderr",
          "text": [
            "\rProcessing CSV files:  78%|███████▊  | 222/286 [48:10<12:14, 11.47s/it]"
          ]
        },
        {
          "output_type": "stream",
          "name": "stdout",
          "text": [
            "Processing file: /content/drive/MyDrive/MiB Dataset/NPY Files/split files/subfolder_1/user_2382103626.0.csv\n"
          ]
        },
        {
          "output_type": "stream",
          "name": "stderr",
          "text": [
            "\rProcessing CSV files:  78%|███████▊  | 223/286 [48:20<11:39, 11.10s/it]"
          ]
        },
        {
          "output_type": "stream",
          "name": "stdout",
          "text": [
            "Processing file: /content/drive/MyDrive/MiB Dataset/NPY Files/split files/subfolder_1/user_2382224720.0.csv\n"
          ]
        },
        {
          "output_type": "stream",
          "name": "stderr",
          "text": [
            "\rProcessing CSV files:  78%|███████▊  | 224/286 [48:33<11:59, 11.60s/it]"
          ]
        },
        {
          "output_type": "stream",
          "name": "stdout",
          "text": [
            "Processing file: /content/drive/MyDrive/MiB Dataset/NPY Files/split files/subfolder_1/user_2382299202.0.csv\n"
          ]
        },
        {
          "output_type": "stream",
          "name": "stderr",
          "text": [
            "\rProcessing CSV files:  79%|███████▊  | 225/286 [48:42<11:12, 11.02s/it]"
          ]
        },
        {
          "output_type": "stream",
          "name": "stdout",
          "text": [
            "Processing file: /content/drive/MyDrive/MiB Dataset/NPY Files/split files/subfolder_1/user_2382303614.0.csv\n"
          ]
        },
        {
          "output_type": "stream",
          "name": "stderr",
          "text": [
            "\rProcessing CSV files:  79%|███████▉  | 226/286 [48:54<11:07, 11.13s/it]"
          ]
        },
        {
          "output_type": "stream",
          "name": "stdout",
          "text": [
            "Processing file: /content/drive/MyDrive/MiB Dataset/NPY Files/split files/subfolder_1/user_2382307416.0.csv\n"
          ]
        },
        {
          "output_type": "stream",
          "name": "stderr",
          "text": [
            "\rProcessing CSV files:  79%|███████▉  | 227/286 [49:05<11:09, 11.35s/it]"
          ]
        },
        {
          "output_type": "stream",
          "name": "stdout",
          "text": [
            "Processing file: /content/drive/MyDrive/MiB Dataset/NPY Files/split files/subfolder_1/user_2382307988.0.csv\n"
          ]
        },
        {
          "output_type": "stream",
          "name": "stderr",
          "text": [
            "\rProcessing CSV files:  80%|███████▉  | 228/286 [49:16<10:43, 11.09s/it]"
          ]
        },
        {
          "output_type": "stream",
          "name": "stdout",
          "text": [
            "Processing file: /content/drive/MyDrive/MiB Dataset/NPY Files/split files/subfolder_1/user_2382321048.0.csv\n"
          ]
        },
        {
          "output_type": "stream",
          "name": "stderr",
          "text": [
            "\rProcessing CSV files:  80%|████████  | 229/286 [49:26<10:13, 10.77s/it]"
          ]
        },
        {
          "output_type": "stream",
          "name": "stdout",
          "text": [
            "Processing file: /content/drive/MyDrive/MiB Dataset/NPY Files/split files/subfolder_1/user_2382322272.0.csv\n"
          ]
        },
        {
          "output_type": "stream",
          "name": "stderr",
          "text": [
            "\rProcessing CSV files:  80%|████████  | 230/286 [49:37<10:02, 10.76s/it]"
          ]
        },
        {
          "output_type": "stream",
          "name": "stdout",
          "text": [
            "Processing file: /content/drive/MyDrive/MiB Dataset/NPY Files/split files/subfolder_1/user_2382327871.0.csv\n"
          ]
        },
        {
          "output_type": "stream",
          "name": "stderr",
          "text": [
            "\rProcessing CSV files:  81%|████████  | 231/286 [49:49<10:21, 11.31s/it]"
          ]
        },
        {
          "output_type": "stream",
          "name": "stdout",
          "text": [
            "Processing file: /content/drive/MyDrive/MiB Dataset/NPY Files/split files/subfolder_1/user_2382335580.0.csv\n"
          ]
        },
        {
          "output_type": "stream",
          "name": "stderr",
          "text": [
            "\rProcessing CSV files:  81%|████████  | 232/286 [50:01<10:12, 11.34s/it]"
          ]
        },
        {
          "output_type": "stream",
          "name": "stdout",
          "text": [
            "Processing file: /content/drive/MyDrive/MiB Dataset/NPY Files/split files/subfolder_1/user_2382344000.0.csv\n"
          ]
        },
        {
          "output_type": "stream",
          "name": "stderr",
          "text": [
            "\rProcessing CSV files:  81%|████████▏ | 233/286 [50:11<09:48, 11.10s/it]"
          ]
        },
        {
          "output_type": "stream",
          "name": "stdout",
          "text": [
            "Processing file: /content/drive/MyDrive/MiB Dataset/NPY Files/split files/subfolder_1/user_2382344125.0.csv\n"
          ]
        },
        {
          "output_type": "stream",
          "name": "stderr",
          "text": [
            "\rProcessing CSV files:  82%|████████▏ | 234/286 [50:23<09:51, 11.37s/it]"
          ]
        },
        {
          "output_type": "stream",
          "name": "stdout",
          "text": [
            "Processing file: /content/drive/MyDrive/MiB Dataset/NPY Files/split files/subfolder_1/user_2382422750.0.csv\n"
          ]
        },
        {
          "output_type": "stream",
          "name": "stderr",
          "text": [
            "\rProcessing CSV files:  82%|████████▏ | 235/286 [50:33<09:22, 11.03s/it]"
          ]
        },
        {
          "output_type": "stream",
          "name": "stdout",
          "text": [
            "Processing file: /content/drive/MyDrive/MiB Dataset/NPY Files/split files/subfolder_1/user_2382423954.0.csv\n"
          ]
        },
        {
          "output_type": "stream",
          "name": "stderr",
          "text": [
            "\rProcessing CSV files:  83%|████████▎ | 236/286 [50:44<09:05, 10.92s/it]"
          ]
        },
        {
          "output_type": "stream",
          "name": "stdout",
          "text": [
            "Processing file: /content/drive/MyDrive/MiB Dataset/NPY Files/split files/subfolder_1/user_2382437690.0.csv\n"
          ]
        },
        {
          "output_type": "stream",
          "name": "stderr",
          "text": [
            "\rProcessing CSV files:  83%|████████▎ | 237/286 [50:54<08:42, 10.66s/it]"
          ]
        },
        {
          "output_type": "stream",
          "name": "stdout",
          "text": [
            "Processing file: /content/drive/MyDrive/MiB Dataset/NPY Files/split files/subfolder_1/user_2382438390.0.csv\n"
          ]
        },
        {
          "output_type": "stream",
          "name": "stderr",
          "text": [
            "\rProcessing CSV files:  83%|████████▎ | 238/286 [51:07<09:02, 11.30s/it]"
          ]
        },
        {
          "output_type": "stream",
          "name": "stdout",
          "text": [
            "Processing file: /content/drive/MyDrive/MiB Dataset/NPY Files/split files/subfolder_1/user_2382440916.0.csv\n"
          ]
        },
        {
          "output_type": "stream",
          "name": "stderr",
          "text": [
            "\rProcessing CSV files:  84%|████████▎ | 239/286 [51:19<09:03, 11.56s/it]"
          ]
        },
        {
          "output_type": "stream",
          "name": "stdout",
          "text": [
            "Processing file: /content/drive/MyDrive/MiB Dataset/NPY Files/split files/subfolder_1/user_2382452304.0.csv\n"
          ]
        },
        {
          "output_type": "stream",
          "name": "stderr",
          "text": [
            "\rProcessing CSV files:  84%|████████▍ | 240/286 [51:31<08:57, 11.68s/it]"
          ]
        },
        {
          "output_type": "stream",
          "name": "stdout",
          "text": [
            "Processing file: /content/drive/MyDrive/MiB Dataset/NPY Files/split files/subfolder_1/user_2382467917.0.csv\n"
          ]
        },
        {
          "output_type": "stream",
          "name": "stderr",
          "text": [
            "\rProcessing CSV files:  84%|████████▍ | 241/286 [51:43<08:54, 11.88s/it]"
          ]
        },
        {
          "output_type": "stream",
          "name": "stdout",
          "text": [
            "Processing file: /content/drive/MyDrive/MiB Dataset/NPY Files/split files/subfolder_1/user_2382471739.0.csv\n"
          ]
        },
        {
          "output_type": "stream",
          "name": "stderr",
          "text": [
            "\rProcessing CSV files:  85%|████████▍ | 242/286 [51:54<08:21, 11.40s/it]"
          ]
        },
        {
          "output_type": "stream",
          "name": "stdout",
          "text": [
            "Processing file: /content/drive/MyDrive/MiB Dataset/NPY Files/split files/subfolder_1/user_2382477954.0.csv\n"
          ]
        },
        {
          "output_type": "stream",
          "name": "stderr",
          "text": [
            "\rProcessing CSV files:  85%|████████▍ | 243/286 [52:08<08:44, 12.21s/it]"
          ]
        },
        {
          "output_type": "stream",
          "name": "stdout",
          "text": [
            "Processing file: /content/drive/MyDrive/MiB Dataset/NPY Files/split files/subfolder_1/user_2382480786.0.csv\n"
          ]
        },
        {
          "output_type": "stream",
          "name": "stderr",
          "text": [
            "\rProcessing CSV files:  85%|████████▌ | 244/286 [52:19<08:23, 12.00s/it]"
          ]
        },
        {
          "output_type": "stream",
          "name": "stdout",
          "text": [
            "Processing file: /content/drive/MyDrive/MiB Dataset/NPY Files/split files/subfolder_1/user_2382491666.0.csv\n"
          ]
        },
        {
          "output_type": "stream",
          "name": "stderr",
          "text": [
            "\rProcessing CSV files:  86%|████████▌ | 245/286 [52:31<08:07, 11.88s/it]"
          ]
        },
        {
          "output_type": "stream",
          "name": "stdout",
          "text": [
            "Processing file: /content/drive/MyDrive/MiB Dataset/NPY Files/split files/subfolder_1/user_2382494100.0.csv\n"
          ]
        },
        {
          "output_type": "stream",
          "name": "stderr",
          "text": [
            "\rProcessing CSV files:  86%|████████▌ | 246/286 [52:41<07:37, 11.43s/it]"
          ]
        },
        {
          "output_type": "stream",
          "name": "stdout",
          "text": [
            "Processing file: /content/drive/MyDrive/MiB Dataset/NPY Files/split files/subfolder_1/user_2382501344.0.csv\n"
          ]
        },
        {
          "output_type": "stream",
          "name": "stderr",
          "text": [
            "\rProcessing CSV files:  86%|████████▋ | 247/286 [52:52<07:22, 11.35s/it]"
          ]
        },
        {
          "output_type": "stream",
          "name": "stdout",
          "text": [
            "Processing file: /content/drive/MyDrive/MiB Dataset/NPY Files/split files/subfolder_1/user_2382501781.0.csv\n"
          ]
        },
        {
          "output_type": "stream",
          "name": "stderr",
          "text": [
            "\rProcessing CSV files:  87%|████████▋ | 248/286 [53:03<07:06, 11.22s/it]"
          ]
        },
        {
          "output_type": "stream",
          "name": "stdout",
          "text": [
            "Processing file: /content/drive/MyDrive/MiB Dataset/NPY Files/split files/subfolder_1/user_2382520272.0.csv\n"
          ]
        },
        {
          "output_type": "stream",
          "name": "stderr",
          "text": [
            "\rProcessing CSV files:  87%|████████▋ | 249/286 [53:13<06:35, 10.70s/it]"
          ]
        },
        {
          "output_type": "stream",
          "name": "stdout",
          "text": [
            "Processing file: /content/drive/MyDrive/MiB Dataset/NPY Files/split files/subfolder_1/user_2382523758.0.csv\n"
          ]
        },
        {
          "output_type": "stream",
          "name": "stderr",
          "text": [
            "\rProcessing CSV files:  87%|████████▋ | 250/286 [53:24<06:28, 10.80s/it]"
          ]
        },
        {
          "output_type": "stream",
          "name": "stdout",
          "text": [
            "Processing file: /content/drive/MyDrive/MiB Dataset/NPY Files/split files/subfolder_1/user_2382537662.0.csv\n"
          ]
        },
        {
          "output_type": "stream",
          "name": "stderr",
          "text": [
            "\rProcessing CSV files:  88%|████████▊ | 251/286 [53:36<06:28, 11.11s/it]"
          ]
        },
        {
          "output_type": "stream",
          "name": "stdout",
          "text": [
            "Processing file: /content/drive/MyDrive/MiB Dataset/NPY Files/split files/subfolder_1/user_2382565231.0.csv\n"
          ]
        },
        {
          "output_type": "stream",
          "name": "stderr",
          "text": [
            "\rProcessing CSV files:  88%|████████▊ | 252/286 [53:48<06:29, 11.46s/it]"
          ]
        },
        {
          "output_type": "stream",
          "name": "stdout",
          "text": [
            "Processing file: /content/drive/MyDrive/MiB Dataset/NPY Files/split files/subfolder_1/user_2382574704.0.csv\n"
          ]
        },
        {
          "output_type": "stream",
          "name": "stderr",
          "text": [
            "\rProcessing CSV files:  88%|████████▊ | 253/286 [53:58<06:00, 10.93s/it]"
          ]
        },
        {
          "output_type": "stream",
          "name": "stdout",
          "text": [
            "Processing file: /content/drive/MyDrive/MiB Dataset/NPY Files/split files/subfolder_1/user_2382586488.0.csv\n"
          ]
        },
        {
          "output_type": "stream",
          "name": "stderr",
          "text": [
            "\rProcessing CSV files:  89%|████████▉ | 254/286 [54:10<06:01, 11.29s/it]"
          ]
        },
        {
          "output_type": "stream",
          "name": "stdout",
          "text": [
            "Processing file: /content/drive/MyDrive/MiB Dataset/NPY Files/split files/subfolder_1/user_2382598962.0.csv\n"
          ]
        },
        {
          "output_type": "stream",
          "name": "stderr",
          "text": [
            "\rProcessing CSV files:  89%|████████▉ | 255/286 [54:21<05:49, 11.27s/it]"
          ]
        },
        {
          "output_type": "stream",
          "name": "stdout",
          "text": [
            "Processing file: /content/drive/MyDrive/MiB Dataset/NPY Files/split files/subfolder_1/user_2382618878.0.csv\n"
          ]
        },
        {
          "output_type": "stream",
          "name": "stderr",
          "text": [
            "\rProcessing CSV files:  90%|████████▉ | 256/286 [54:32<05:34, 11.16s/it]"
          ]
        },
        {
          "output_type": "stream",
          "name": "stdout",
          "text": [
            "Processing file: /content/drive/MyDrive/MiB Dataset/NPY Files/split files/subfolder_1/user_2382631128.0.csv\n"
          ]
        },
        {
          "output_type": "stream",
          "name": "stderr",
          "text": [
            "\rProcessing CSV files:  90%|████████▉ | 257/286 [54:43<05:26, 11.25s/it]"
          ]
        },
        {
          "output_type": "stream",
          "name": "stdout",
          "text": [
            "Processing file: /content/drive/MyDrive/MiB Dataset/NPY Files/split files/subfolder_1/user_2382645073.0.csv\n"
          ]
        },
        {
          "output_type": "stream",
          "name": "stderr",
          "text": [
            "\rProcessing CSV files:  90%|█████████ | 258/286 [54:52<04:50, 10.37s/it]"
          ]
        },
        {
          "output_type": "stream",
          "name": "stdout",
          "text": [
            "Processing file: /content/drive/MyDrive/MiB Dataset/NPY Files/split files/subfolder_1/user_2382648331.0.csv\n"
          ]
        },
        {
          "output_type": "stream",
          "name": "stderr",
          "text": [
            "\rProcessing CSV files:  91%|█████████ | 259/286 [55:02<04:40, 10.38s/it]"
          ]
        },
        {
          "output_type": "stream",
          "name": "stdout",
          "text": [
            "Processing file: /content/drive/MyDrive/MiB Dataset/NPY Files/split files/subfolder_1/user_2382673826.0.csv\n"
          ]
        },
        {
          "output_type": "stream",
          "name": "stderr",
          "text": [
            "\rProcessing CSV files:  91%|█████████ | 260/286 [55:13<04:34, 10.55s/it]"
          ]
        },
        {
          "output_type": "stream",
          "name": "stdout",
          "text": [
            "Processing file: /content/drive/MyDrive/MiB Dataset/NPY Files/split files/subfolder_1/user_2382676646.0.csv\n"
          ]
        },
        {
          "output_type": "stream",
          "name": "stderr",
          "text": [
            "\rProcessing CSV files:  91%|█████████▏| 261/286 [55:25<04:30, 10.84s/it]"
          ]
        },
        {
          "output_type": "stream",
          "name": "stdout",
          "text": [
            "Processing file: /content/drive/MyDrive/MiB Dataset/NPY Files/split files/subfolder_1/user_2382690872.0.csv\n"
          ]
        },
        {
          "output_type": "stream",
          "name": "stderr",
          "text": [
            "\rProcessing CSV files:  92%|█████████▏| 262/286 [55:37<04:33, 11.39s/it]"
          ]
        },
        {
          "output_type": "stream",
          "name": "stdout",
          "text": [
            "Processing file: /content/drive/MyDrive/MiB Dataset/NPY Files/split files/subfolder_1/user_2382702458.0.csv\n"
          ]
        },
        {
          "output_type": "stream",
          "name": "stderr",
          "text": [
            "\rProcessing CSV files:  92%|█████████▏| 263/286 [55:49<04:21, 11.35s/it]"
          ]
        },
        {
          "output_type": "stream",
          "name": "stdout",
          "text": [
            "Processing file: /content/drive/MyDrive/MiB Dataset/NPY Files/split files/subfolder_1/user_2382710197.0.csv\n"
          ]
        },
        {
          "output_type": "stream",
          "name": "stderr",
          "text": [
            "\rProcessing CSV files:  92%|█████████▏| 264/286 [56:00<04:08, 11.32s/it]"
          ]
        },
        {
          "output_type": "stream",
          "name": "stdout",
          "text": [
            "Processing file: /content/drive/MyDrive/MiB Dataset/NPY Files/split files/subfolder_1/user_2382743514.0.csv\n"
          ]
        },
        {
          "output_type": "stream",
          "name": "stderr",
          "text": [
            "\rProcessing CSV files:  93%|█████████▎| 265/286 [56:08<03:40, 10.48s/it]"
          ]
        },
        {
          "output_type": "stream",
          "name": "stdout",
          "text": [
            "Processing file: /content/drive/MyDrive/MiB Dataset/NPY Files/split files/subfolder_1/user_2382770917.0.csv\n"
          ]
        },
        {
          "output_type": "stream",
          "name": "stderr",
          "text": [
            "\rProcessing CSV files:  93%|█████████▎| 266/286 [56:18<03:24, 10.21s/it]"
          ]
        },
        {
          "output_type": "stream",
          "name": "stdout",
          "text": [
            "Processing file: /content/drive/MyDrive/MiB Dataset/NPY Files/split files/subfolder_1/user_2382774300.0.csv\n"
          ]
        },
        {
          "output_type": "stream",
          "name": "stderr",
          "text": [
            "\rProcessing CSV files:  93%|█████████▎| 267/286 [56:28<03:14, 10.21s/it]"
          ]
        },
        {
          "output_type": "stream",
          "name": "stdout",
          "text": [
            "Processing file: /content/drive/MyDrive/MiB Dataset/NPY Files/split files/subfolder_1/user_2382790488.0.csv\n"
          ]
        },
        {
          "output_type": "stream",
          "name": "stderr",
          "text": [
            "\rProcessing CSV files:  94%|█████████▎| 268/286 [56:39<03:05, 10.28s/it]"
          ]
        },
        {
          "output_type": "stream",
          "name": "stdout",
          "text": [
            "Processing file: /content/drive/MyDrive/MiB Dataset/NPY Files/split files/subfolder_1/user_2382797689.0.csv\n"
          ]
        },
        {
          "output_type": "stream",
          "name": "stderr",
          "text": [
            "\rProcessing CSV files:  94%|█████████▍| 269/286 [56:50<03:00, 10.63s/it]"
          ]
        },
        {
          "output_type": "stream",
          "name": "stdout",
          "text": [
            "Processing file: /content/drive/MyDrive/MiB Dataset/NPY Files/split files/subfolder_1/user_2382810774.0.csv\n"
          ]
        },
        {
          "output_type": "stream",
          "name": "stderr",
          "text": [
            "\rProcessing CSV files:  94%|█████████▍| 270/286 [56:58<02:39,  9.94s/it]"
          ]
        },
        {
          "output_type": "stream",
          "name": "stdout",
          "text": [
            "Processing file: /content/drive/MyDrive/MiB Dataset/NPY Files/split files/subfolder_1/user_2382815922.0.csv\n"
          ]
        },
        {
          "output_type": "stream",
          "name": "stderr",
          "text": [
            "\rProcessing CSV files:  95%|█████████▍| 271/286 [57:09<02:31, 10.09s/it]"
          ]
        },
        {
          "output_type": "stream",
          "name": "stdout",
          "text": [
            "Processing file: /content/drive/MyDrive/MiB Dataset/NPY Files/split files/subfolder_1/user_2382818402.0.csv\n"
          ]
        },
        {
          "output_type": "stream",
          "name": "stderr",
          "text": [
            "\rProcessing CSV files:  95%|█████████▌| 272/286 [57:20<02:24, 10.29s/it]"
          ]
        },
        {
          "output_type": "stream",
          "name": "stdout",
          "text": [
            "Processing file: /content/drive/MyDrive/MiB Dataset/NPY Files/split files/subfolder_1/user_2382831954.0.csv\n"
          ]
        },
        {
          "output_type": "stream",
          "name": "stderr",
          "text": [
            "\rProcessing CSV files:  95%|█████████▌| 273/286 [57:29<02:11, 10.15s/it]"
          ]
        },
        {
          "output_type": "stream",
          "name": "stdout",
          "text": [
            "Processing file: /content/drive/MyDrive/MiB Dataset/NPY Files/split files/subfolder_1/user_2382845922.0.csv\n"
          ]
        },
        {
          "output_type": "stream",
          "name": "stderr",
          "text": [
            "\rProcessing CSV files:  96%|█████████▌| 274/286 [57:41<02:08, 10.69s/it]"
          ]
        },
        {
          "output_type": "stream",
          "name": "stdout",
          "text": [
            "Processing file: /content/drive/MyDrive/MiB Dataset/NPY Files/split files/subfolder_1/user_2382848635.0.csv\n"
          ]
        },
        {
          "output_type": "stream",
          "name": "stderr",
          "text": [
            "\rProcessing CSV files:  96%|█████████▌| 275/286 [57:52<01:58, 10.80s/it]"
          ]
        },
        {
          "output_type": "stream",
          "name": "stdout",
          "text": [
            "Processing file: /content/drive/MyDrive/MiB Dataset/NPY Files/split files/subfolder_1/user_2382863214.0.csv\n"
          ]
        },
        {
          "output_type": "stream",
          "name": "stderr",
          "text": [
            "\rProcessing CSV files:  97%|█████████▋| 276/286 [58:06<01:56, 11.66s/it]"
          ]
        },
        {
          "output_type": "stream",
          "name": "stdout",
          "text": [
            "Processing file: /content/drive/MyDrive/MiB Dataset/NPY Files/split files/subfolder_1/user_2382871867.0.csv\n"
          ]
        },
        {
          "output_type": "stream",
          "name": "stderr",
          "text": [
            "\rProcessing CSV files:  97%|█████████▋| 277/286 [58:18<01:44, 11.64s/it]"
          ]
        },
        {
          "output_type": "stream",
          "name": "stdout",
          "text": [
            "Processing file: /content/drive/MyDrive/MiB Dataset/NPY Files/split files/subfolder_1/user_2382886603.0.csv\n"
          ]
        },
        {
          "output_type": "stream",
          "name": "stderr",
          "text": [
            "\rProcessing CSV files:  97%|█████████▋| 278/286 [58:30<01:34, 11.84s/it]"
          ]
        },
        {
          "output_type": "stream",
          "name": "stdout",
          "text": [
            "Processing file: /content/drive/MyDrive/MiB Dataset/NPY Files/split files/subfolder_1/user_2382889747.0.csv\n"
          ]
        },
        {
          "output_type": "stream",
          "name": "stderr",
          "text": [
            "\rProcessing CSV files:  98%|█████████▊| 279/286 [58:42<01:23, 11.96s/it]"
          ]
        },
        {
          "output_type": "stream",
          "name": "stdout",
          "text": [
            "Processing file: /content/drive/MyDrive/MiB Dataset/NPY Files/split files/subfolder_1/user_2382917286.0.csv\n"
          ]
        },
        {
          "output_type": "stream",
          "name": "stderr",
          "text": [
            "\rProcessing CSV files:  98%|█████████▊| 280/286 [58:54<01:11, 11.94s/it]"
          ]
        },
        {
          "output_type": "stream",
          "name": "stdout",
          "text": [
            "Processing file: /content/drive/MyDrive/MiB Dataset/NPY Files/split files/subfolder_1/user_2382928164.0.csv\n"
          ]
        },
        {
          "output_type": "stream",
          "name": "stderr",
          "text": [
            "\rProcessing CSV files:  98%|█████████▊| 281/286 [59:04<00:56, 11.38s/it]"
          ]
        },
        {
          "output_type": "stream",
          "name": "stdout",
          "text": [
            "Processing file: /content/drive/MyDrive/MiB Dataset/NPY Files/split files/subfolder_1/user_2382951546.0.csv\n"
          ]
        },
        {
          "output_type": "stream",
          "name": "stderr",
          "text": [
            "\rProcessing CSV files:  99%|█████████▊| 282/286 [59:16<00:46, 11.64s/it]"
          ]
        },
        {
          "output_type": "stream",
          "name": "stdout",
          "text": [
            "Processing file: /content/drive/MyDrive/MiB Dataset/NPY Files/split files/subfolder_1/user_2382953520.0.csv\n"
          ]
        },
        {
          "output_type": "stream",
          "name": "stderr",
          "text": [
            "\rProcessing CSV files:  99%|█████████▉| 283/286 [59:29<00:35, 11.85s/it]"
          ]
        },
        {
          "output_type": "stream",
          "name": "stdout",
          "text": [
            "Processing file: /content/drive/MyDrive/MiB Dataset/NPY Files/split files/subfolder_1/user_2382957589.0.csv\n"
          ]
        },
        {
          "output_type": "stream",
          "name": "stderr",
          "text": [
            "\rProcessing CSV files:  99%|█████████▉| 284/286 [59:41<00:24, 12.08s/it]"
          ]
        },
        {
          "output_type": "stream",
          "name": "stdout",
          "text": [
            "Processing file: /content/drive/MyDrive/MiB Dataset/NPY Files/split files/subfolder_1/user_2382986905.0.csv\n"
          ]
        },
        {
          "output_type": "stream",
          "name": "stderr",
          "text": [
            "\rProcessing CSV files: 100%|█████████▉| 285/286 [59:52<00:11, 11.76s/it]"
          ]
        },
        {
          "output_type": "stream",
          "name": "stdout",
          "text": [
            "Processing file: /content/drive/MyDrive/MiB Dataset/NPY Files/split files/subfolder_1/user_2382987302.0.csv\n"
          ]
        },
        {
          "output_type": "stream",
          "name": "stderr",
          "text": [
            "Processing CSV files: 100%|██████████| 286/286 [1:00:05<00:00, 12.61s/it]"
          ]
        },
        {
          "output_type": "stream",
          "name": "stdout",
          "text": [
            "Shape of final user embeddings: torch.Size([286, 1, 768])\n",
            "torch.Size([286, 1, 768])\n"
          ]
        },
        {
          "output_type": "stream",
          "name": "stderr",
          "text": [
            "\n"
          ]
        }
      ]
    },
    {
      "cell_type": "code",
      "source": [
        "# Convert final embeddings to a tensor\n",
        "if final_user_embeddings:\n",
        "    # Concatenate the embeddings along the first dimension\n",
        "    final_user_embeddings_tensor_new = torch.cat(final_user_embeddings, dim=0)\n",
        "\n",
        "    print(f\"Shape of final user embeddings: {final_user_embeddings_tensor_new.shape}\")\n",
        "\n",
        "    # Example tensor with shape [no_of_users, 768]\n",
        "    print(final_user_embeddings_tensor_new.shape)\n",
        "else:\n",
        "    print(\"No user embeddings to aggregate.\")\n"
      ],
      "metadata": {
        "colab": {
          "base_uri": "https://localhost:8080/"
        },
        "id": "Va09BmeGUpke",
        "outputId": "96b5bbcb-110f-4987-a07c-bf15ecf1556f"
      },
      "execution_count": 7,
      "outputs": [
        {
          "output_type": "stream",
          "name": "stdout",
          "text": [
            "Shape of final user embeddings: torch.Size([286, 768])\n",
            "torch.Size([286, 768])\n"
          ]
        }
      ]
    }
  ]
}