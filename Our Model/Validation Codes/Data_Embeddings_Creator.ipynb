{
  "nbformat": 4,
  "nbformat_minor": 0,
  "metadata": {
    "colab": {
      "provenance": []
    },
    "kernelspec": {
      "name": "python3",
      "display_name": "Python 3"
    },
    "language_info": {
      "name": "python"
    }
  },
  "cells": [
    {
      "cell_type": "code",
      "execution_count": 2,
      "metadata": {
        "colab": {
          "base_uri": "https://localhost:8080/"
        },
        "id": "uI0DOssd1XwR",
        "outputId": "a6e99aad-07fd-4912-fae4-91dcbf63ad29"
      },
      "outputs": [
        {
          "output_type": "stream",
          "name": "stdout",
          "text": [
            "Drive already mounted at /content/drive; to attempt to forcibly remount, call drive.mount(\"/content/drive\", force_remount=True).\n",
            "Combined data saved to /content/drive/MyDrive/MiB Dataset/A Fresh Start/User/combined_val_embeddings.npy\n"
          ]
        }
      ],
      "source": [
        "import numpy as np\n",
        "import os\n",
        "\n",
        "from google.colab import drive\n",
        "drive.mount('/content/drive')\n",
        "\n",
        "# Directory containing the .npy files\n",
        "directory = \"/content/drive/MyDrive/MiB Dataset/A Fresh Start/User\"  # Replace with the actual path\n",
        "\n",
        "# Manually specify the order of files\n",
        "file_order = [\n",
        "    \"final_user_embeddings_tensor_val_1.npy\",\n",
        "    \"final_user_embeddings_tensor_val_2.npy\",\n",
        "    \"final_user_embeddings_tensor_val_3.npy\",\n",
        "    \"final_user_embeddings_tensor_val_4.npy\",\n",
        "    \"final_user_embeddings_tensor_val_5.npy\",\n",
        "]\n",
        "\n",
        "# Combine the files\n",
        "combined_data = []\n",
        "for file_name in file_order:\n",
        "    file_path = os.path.join(directory, file_name)\n",
        "    data = np.load(file_path)\n",
        "    combined_data.append(data)\n",
        "\n",
        "# Stack all arrays into one\n",
        "combined_array = np.concatenate(combined_data)\n",
        "\n",
        "# Save the combined array to a new .npy file\n",
        "output_path = os.path.join(directory, \"combined_val_embeddings.npy\")\n",
        "np.save(output_path, combined_array)\n",
        "\n",
        "print(f\"Combined data saved to {output_path}\")"
      ]
    },
    {
      "cell_type": "code",
      "source": [
        "import numpy as np\n",
        "import os\n",
        "\n",
        "from google.colab import drive\n",
        "drive.mount('/content/drive')\n",
        "\n",
        "# Directory containing the .npy files\n",
        "directory = \"/content/drive/MyDrive/MiB Dataset/A Fresh Start/User/\"  # Replace with the actual path\n",
        "\n",
        "# Manually specify the order of files\n",
        "file_order = [\n",
        "    \"final_user_embeddings_tensor_test_1.npy\",\n",
        "    \"final_user_embeddings_tensor_test_2.npy\",\n",
        "    \"final_user_embeddings_tensor_test_3.npy\",\n",
        "    \"final_user_embeddings_tensor_test_4.npy\",\n",
        "    \"final_user_embeddings_tensor_test_5.npy\",\n",
        "]\n",
        "\n",
        "# Combine the files\n",
        "combined_data = []\n",
        "for file_name in file_order:\n",
        "    file_path = os.path.join(directory, file_name)\n",
        "    data = np.load(file_path)\n",
        "    combined_data.append(data)\n",
        "\n",
        "# Stack all arrays into one\n",
        "combined_array = np.concatenate(combined_data)\n",
        "\n",
        "# Save the combined array to a new .npy file\n",
        "output_path = os.path.join(directory, \"combined_test_embeddings.npy\")\n",
        "np.save(output_path, combined_array)\n",
        "\n",
        "print(f\"Combined data saved to {output_path}\")"
      ],
      "metadata": {
        "colab": {
          "base_uri": "https://localhost:8080/"
        },
        "id": "E0VB9bjT2KAr",
        "outputId": "1c36f8cf-f98a-42af-c264-d72f346e359e"
      },
      "execution_count": 3,
      "outputs": [
        {
          "output_type": "stream",
          "name": "stdout",
          "text": [
            "Drive already mounted at /content/drive; to attempt to forcibly remount, call drive.mount(\"/content/drive\", force_remount=True).\n",
            "Combined data saved to /content/drive/MyDrive/MiB Dataset/A Fresh Start/User/combined_test_embeddings.npy\n"
          ]
        }
      ]
    },
    {
      "cell_type": "code",
      "source": [
        "import numpy as np\n",
        "import os\n",
        "\n",
        "from google.colab import drive\n",
        "drive.mount('/content/drive')\n",
        "\n",
        "# Directory containing the .npy files\n",
        "directory = \"/content/drive/MyDrive/MiB Dataset/A Fresh Start/User/\"  # Replace with the actual path\n",
        "\n",
        "# Manually specify the order of files\n",
        "file_order = [\n",
        "    \"final_user_embeddings_tensor_new1.npy\",\n",
        "    \"final_user_embeddings_tensor_new2.npy\",\n",
        "    \"final_user_embeddings_tensor_new3.npy\",\n",
        "    \"final_user_embeddings_tensor_new4.npy\",\n",
        "    \"final_user_embeddings_tensor_new5.npy\",\n",
        "    \"final_user_embeddings_tensor_new6.npy\",\n",
        "    \"final_user_embeddings_tensor_new7.npy\",\n",
        "    \"final_user_embeddings_tensor_new8.npy\",\n",
        "    \"final_user_embeddings_tensor_new9.npy\",\n",
        "    \"final_user_embeddings_tensor_new10.npy\",\n",
        "    \"final_user_embeddings_tensor_new11.npy\",\n",
        "    \"final_user_embeddings_tensor_new12.npy\",\n",
        "    \"final_user_embeddings_tensor_new13.npy\",\n",
        "    \"final_user_embeddings_tensor_new14.npy\",\n",
        "    \"final_user_embeddings_tensor_new15.npy\",\n",
        "    \"final_user_embeddings_tensor_new16.npy\",\n",
        "    \"final_user_embeddings_tensor_new17.npy\",\n",
        "    \"final_user_embeddings_tensor_new18.npy\",\n",
        "    \"final_user_embeddings_tensor_new19.npy\",\n",
        "    \"final_user_embeddings_tensor_new20.npy\"\n",
        "]\n",
        "\n",
        "# Combine the files\n",
        "combined_data = []\n",
        "for file_name in file_order:\n",
        "    file_path = os.path.join(directory, file_name)\n",
        "    data = np.load(file_path)\n",
        "    combined_data.append(data)\n",
        "\n",
        "# Stack all arrays into one\n",
        "combined_array = np.concatenate(combined_data)\n",
        "\n",
        "# Save the combined array to a new .npy file\n",
        "output_path = os.path.join(directory, \"combined_train_embeddings.npy\")\n",
        "np.save(output_path, combined_array)\n",
        "\n",
        "print(f\"Combined data saved to {output_path}\")"
      ],
      "metadata": {
        "colab": {
          "base_uri": "https://localhost:8080/",
          "height": 233
        },
        "id": "0X1At6Pq2wJb",
        "outputId": "a86580d7-f26f-484c-aada-f22cedaa5628"
      },
      "execution_count": 10,
      "outputs": [
        {
          "output_type": "stream",
          "name": "stdout",
          "text": [
            "Drive already mounted at /content/drive; to attempt to forcibly remount, call drive.mount(\"/content/drive\", force_remount=True).\n"
          ]
        },
        {
          "output_type": "error",
          "ename": "ValueError",
          "evalue": "all the input arrays must have same number of dimensions, but the array at index 0 has 3 dimension(s) and the array at index 1 has 2 dimension(s)",
          "traceback": [
            "\u001b[0;31m---------------------------------------------------------------------------\u001b[0m",
            "\u001b[0;31mValueError\u001b[0m                                Traceback (most recent call last)",
            "\u001b[0;32m<ipython-input-10-6691b887b9b3>\u001b[0m in \u001b[0;36m<cell line: 42>\u001b[0;34m()\u001b[0m\n\u001b[1;32m     40\u001b[0m \u001b[0;34m\u001b[0m\u001b[0m\n\u001b[1;32m     41\u001b[0m \u001b[0;31m# Stack all arrays into one\u001b[0m\u001b[0;34m\u001b[0m\u001b[0;34m\u001b[0m\u001b[0m\n\u001b[0;32m---> 42\u001b[0;31m \u001b[0mcombined_array\u001b[0m \u001b[0;34m=\u001b[0m \u001b[0mnp\u001b[0m\u001b[0;34m.\u001b[0m\u001b[0mconcatenate\u001b[0m\u001b[0;34m(\u001b[0m\u001b[0mcombined_data\u001b[0m\u001b[0;34m)\u001b[0m\u001b[0;34m\u001b[0m\u001b[0;34m\u001b[0m\u001b[0m\n\u001b[0m\u001b[1;32m     43\u001b[0m \u001b[0;34m\u001b[0m\u001b[0m\n\u001b[1;32m     44\u001b[0m \u001b[0;31m# Save the combined array to a new .npy file\u001b[0m\u001b[0;34m\u001b[0m\u001b[0;34m\u001b[0m\u001b[0m\n",
            "\u001b[0;31mValueError\u001b[0m: all the input arrays must have same number of dimensions, but the array at index 0 has 3 dimension(s) and the array at index 1 has 2 dimension(s)"
          ]
        }
      ]
    },
    {
      "cell_type": "code",
      "source": [
        "import numpy as np\n",
        "import os\n",
        "from google.colab import drive\n",
        "\n",
        "# Mount Google Drive\n",
        "drive.mount('/content/drive')\n",
        "\n",
        "# Directory containing the .npy files\n",
        "directory = \"/content/drive/MyDrive/MiB Dataset/A Fresh Start/User/\"  # Replace with the actual path\n",
        "\n",
        "# Manually specify the order of files\n",
        "file_order = [\n",
        "    \"final_user_embeddings_tensor_new1.npy\",\n",
        "    \"final_user_embeddings_tensor_new2.npy\",\n",
        "    \"final_user_embeddings_tensor_new3.npy\",\n",
        "    \"final_user_embeddings_tensor_new4.npy\",\n",
        "    \"final_user_embeddings_tensor_new5.npy\",\n",
        "    \"final_user_embeddings_tensor_new6.npy\",\n",
        "    \"final_user_embeddings_tensor_new7.npy\",\n",
        "    \"final_user_embeddings_tensor_new8.npy\",\n",
        "    \"final_user_embeddings_tensor_new9.npy\",\n",
        "    \"final_user_embeddings_tensor_new10.npy\",\n",
        "    \"final_user_embeddings_tensor_new11.npy\",\n",
        "    \"final_user_embeddings_tensor_new12.npy\",\n",
        "    \"final_user_embeddings_tensor_new13.npy\",\n",
        "    \"final_user_embeddings_tensor_new14.npy\",\n",
        "    \"final_user_embeddings_tensor_new15.npy\",\n",
        "    \"final_user_embeddings_tensor_new16.npy\",\n",
        "    \"final_user_embeddings_tensor_new17.npy\",\n",
        "    \"final_user_embeddings_tensor_new18.npy\",\n",
        "    \"final_user_embeddings_tensor_new19.npy\",\n",
        "    \"final_user_embeddings_tensor_new20.npy\"\n",
        "]\n",
        "\n",
        "# Combine the files\n",
        "combined_data = []\n",
        "\n",
        "for file_name in file_order:\n",
        "    file_path = os.path.join(directory, file_name)\n",
        "    data = np.load(file_path)\n",
        "    print(f\"Original shape of {file_name}: {data.shape}\")\n",
        "\n",
        "    # Reshape only if shape is (286, 1, 768)\n",
        "    if data.shape == (286, 1, 768):\n",
        "        data = data.reshape(286, 768)\n",
        "        print(f\"Reshaped {file_name} to {data.shape}\")\n",
        "\n",
        "    combined_data.append(data)\n",
        "\n",
        "# Stack all arrays into one\n",
        "combined_array = np.concatenate(combined_data)\n",
        "\n",
        "# Save the combined array to a new .npy file\n",
        "output_path = os.path.join(directory, \"combined_train_embeddings.npy\")\n",
        "np.save(output_path, combined_array)\n",
        "\n",
        "print(f\"Combined data saved to {output_path}\")"
      ],
      "metadata": {
        "colab": {
          "base_uri": "https://localhost:8080/"
        },
        "id": "VsEBD3oR6qAe",
        "outputId": "f698be46-9fac-4aef-aa93-8651673ff57d"
      },
      "execution_count": 12,
      "outputs": [
        {
          "output_type": "stream",
          "name": "stdout",
          "text": [
            "Drive already mounted at /content/drive; to attempt to forcibly remount, call drive.mount(\"/content/drive\", force_remount=True).\n",
            "Original shape of final_user_embeddings_tensor_new1.npy: (286, 1, 768)\n",
            "Reshaped final_user_embeddings_tensor_new1.npy to (286, 768)\n",
            "Original shape of final_user_embeddings_tensor_new2.npy: (286, 768)\n",
            "Original shape of final_user_embeddings_tensor_new3.npy: (286, 768)\n",
            "Original shape of final_user_embeddings_tensor_new4.npy: (286, 768)\n",
            "Original shape of final_user_embeddings_tensor_new5.npy: (286, 768)\n",
            "Original shape of final_user_embeddings_tensor_new6.npy: (286, 1, 768)\n",
            "Reshaped final_user_embeddings_tensor_new6.npy to (286, 768)\n",
            "Original shape of final_user_embeddings_tensor_new7.npy: (285, 768)\n",
            "Original shape of final_user_embeddings_tensor_new8.npy: (285, 768)\n",
            "Original shape of final_user_embeddings_tensor_new9.npy: (285, 768)\n",
            "Original shape of final_user_embeddings_tensor_new10.npy: (285, 768)\n",
            "Original shape of final_user_embeddings_tensor_new11.npy: (285, 768)\n",
            "Original shape of final_user_embeddings_tensor_new12.npy: (285, 768)\n",
            "Original shape of final_user_embeddings_tensor_new13.npy: (285, 768)\n",
            "Original shape of final_user_embeddings_tensor_new14.npy: (285, 768)\n",
            "Original shape of final_user_embeddings_tensor_new15.npy: (285, 768)\n",
            "Original shape of final_user_embeddings_tensor_new16.npy: (286, 1, 768)\n",
            "Reshaped final_user_embeddings_tensor_new16.npy to (286, 768)\n",
            "Original shape of final_user_embeddings_tensor_new17.npy: (285, 768)\n",
            "Original shape of final_user_embeddings_tensor_new18.npy: (285, 768)\n",
            "Original shape of final_user_embeddings_tensor_new19.npy: (285, 768)\n",
            "Original shape of final_user_embeddings_tensor_new20.npy: (285, 768)\n",
            "Combined data saved to /content/drive/MyDrive/MiB Dataset/A Fresh Start/User/combined_train_embeddings.npy\n"
          ]
        }
      ]
    }
  ]
}