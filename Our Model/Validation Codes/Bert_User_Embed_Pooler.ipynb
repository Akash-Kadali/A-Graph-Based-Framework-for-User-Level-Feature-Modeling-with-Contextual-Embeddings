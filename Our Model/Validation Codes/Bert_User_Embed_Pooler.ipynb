{
  "nbformat": 4,
  "nbformat_minor": 0,
  "metadata": {
    "colab": {
      "provenance": [],
      "gpuType": "T4"
    },
    "kernelspec": {
      "name": "python3",
      "display_name": "Python 3"
    },
    "language_info": {
      "name": "python"
    },
    "accelerator": "GPU"
  },
  "cells": [
    {
      "cell_type": "code",
      "execution_count": 1,
      "metadata": {
        "colab": {
          "base_uri": "https://localhost:8080/"
        },
        "id": "KTlzzrHL3wV7",
        "outputId": "b29ec385-9e79-44f5-8492-51ede941b3d5"
      },
      "outputs": [
        {
          "output_type": "stream",
          "name": "stdout",
          "text": [
            "Mounted at /content/drive\n"
          ]
        }
      ],
      "source": [
        "import pandas as pd\n",
        "import numpy as np\n",
        "\n",
        "from google.colab import drive\n",
        "drive.mount('/content/drive')"
      ]
    },
    {
      "cell_type": "code",
      "source": [
        "import pandas as pd\n",
        "import os\n",
        "import torch\n",
        "from tqdm import tqdm\n",
        "from transformers import AutoTokenizer, AutoModel\n",
        "\n",
        "# Check if GPU is available and set the device\n",
        "device = torch.device('cuda' if torch.cuda.is_available() else 'cpu')\n",
        "\n",
        "# Load the BERT tokenizer and model\n",
        "tokenizer = AutoTokenizer.from_pretrained(\"google-bert/bert-base-uncased\")\n",
        "model = AutoModel.from_pretrained(\"google-bert/bert-base-uncased\")\n",
        "model.to(device)  # Move model to device\n",
        "\n",
        "# Function to get BERT embeddings for a text\n",
        "def get_bert_embeddings(text):\n",
        "    # Tokenize and get input IDs and attention masks\n",
        "    inputs = tokenizer(text, return_tensors='pt', truncation=True, padding=True, max_length=512)\n",
        "\n",
        "    # Move inputs to the same device as the model\n",
        "    inputs = {key: value.to(device) for key, value in inputs.items()}\n",
        "\n",
        "    # Get embeddings from BERT\n",
        "    with torch.no_grad():\n",
        "        outputs = model(**inputs)\n",
        "\n",
        "    # Extract last hidden state (embeddings)\n",
        "    embeddings = outputs.last_hidden_state\n",
        "    return embeddings\n",
        "\n",
        "# Function to perform max pooling along the sequence dimension\n",
        "def max_pooling(embeddings):\n",
        "    pooled = torch.max(embeddings, dim=1).values\n",
        "    return pooled\n",
        "\n",
        "# Define the path to the folder containing CSV files\n",
        "folder_path = '/content/drive/MyDrive/MiB Dataset/A Fresh Start/User Files Train/subfolder_4/'\n",
        "\n",
        "# List all CSV files in the folder\n",
        "files = [f for f in os.listdir(folder_path) if f.endswith('.csv')]\n",
        "\n",
        "# Initialize dictionary to store user-wise pooled outputs\n",
        "user_pooled_outputs = {}\n",
        "\n",
        "# Wrap the file processing loop with tqdm to show progress for each file\n",
        "for file_name in tqdm(files, desc=\"Processing CSV files\"):\n",
        "    file_path = os.path.join(folder_path, file_name)\n",
        "    print(f\"Processing file: {file_path}\")\n",
        "\n",
        "    try:\n",
        "        # Load the CSV file\n",
        "        df = pd.read_csv(file_path)\n",
        "\n",
        "        # Extract the user ID and text columns\n",
        "        user_ids = df['user_id'].tolist()  # Replace 'user_id' with the actual column name\n",
        "        texts = df['text'].tolist()  # Replace 'text' with the actual column name\n",
        "\n",
        "        # Process each text entry\n",
        "        for user_id, text in zip(user_ids, texts):\n",
        "            try:\n",
        "                # Get embeddings for the text\n",
        "                embeddings = get_bert_embeddings(text)\n",
        "                pooled_output = max_pooling(embeddings)\n",
        "                pooled_output = pooled_output.cpu()  # Move pooled output to CPU\n",
        "\n",
        "                # Add pooled output to the corresponding user's list\n",
        "                if user_id not in user_pooled_outputs:\n",
        "                    user_pooled_outputs[user_id] = []\n",
        "                user_pooled_outputs[user_id].append(pooled_output)\n",
        "\n",
        "            except Exception as e:\n",
        "                print(f\"Error processing text: {text[:30]}... Error: {e}\")\n",
        "\n",
        "    except Exception as e:\n",
        "        print(f\"Error processing file {file_name}: {e}\")\n",
        "\n",
        "# Compute the final max-pooled embedding for each user\n",
        "final_user_embeddings = []\n",
        "\n",
        "for user_id, outputs in user_pooled_outputs.items():\n",
        "    if outputs:\n",
        "        # Stack the user's tweet embeddings into a tensor\n",
        "        pooled_outputs_tensor = torch.stack(outputs)  # Shape: [num_tweets, embedding_dim]\n",
        "        print(f\"Shape of stacked embeddings for user {user_id}: {pooled_outputs_tensor.shape}\")\n",
        "\n",
        "        # Perform max pooling across tweets (dim=0)\n",
        "        user_embedding = torch.max(pooled_outputs_tensor, dim=0).values  # Shape: [embedding_dim]\n",
        "        print(f\"Final embedding shape for user {user_id}: {user_embedding.shape}\")\n",
        "\n",
        "        # Add the user's single embedding to the final list\n",
        "        final_user_embeddings.append(user_embedding)\n",
        "\n",
        "# Convert final embeddings to a tensor\n",
        "if final_user_embeddings:\n",
        "    # Concatenate the embeddings along the first dimension\n",
        "    final_user_embeddings_tensor_new = torch.cat(final_user_embeddings, dim=0)\n",
        "\n",
        "    print(f\"Shape of final user embeddings: {final_user_embeddings_tensor_new.shape}\")\n",
        "\n",
        "    # Example tensor with shape [no_of_users, 768]\n",
        "    print(final_user_embeddings_tensor_new.shape)\n",
        "else:\n",
        "    print(\"No user embeddings to aggregate.\")\n",
        "\n",
        "import numpy as n\n",
        "\n",
        "if final_user_embeddings:\n",
        "    # Convert the tensor to a NumPy array\n",
        "    final_user_embeddings_array = final_user_embeddings_tensor_new.cpu().numpy()\n",
        "\n",
        "    # Save the array to a .npy file\n",
        "    np.save('/content/drive/MyDrive/MiB Dataset/A Fresh Start/User/final_user_embeddings_tensor_new4.npy', final_user_embeddings_array)\n",
        "else:\n",
        "    print(\"No user embeddings to save.\")"
      ],
      "metadata": {
        "colab": {
          "base_uri": "https://localhost:8080/"
        },
        "id": "OwZkJLyt3xPP",
        "outputId": "ece0cb51-d121-4ac9-b69d-63cf2a4684f1"
      },
      "execution_count": 4,
      "outputs": [
        {
          "output_type": "stream",
          "name": "stderr",
          "text": [
            "\rProcessing CSV files:   0%|          | 0/286 [00:00<?, ?it/s]"
          ]
        },
        {
          "output_type": "stream",
          "name": "stdout",
          "text": [
            "Processing file: /content/drive/MyDrive/MiB Dataset/A Fresh Start/User Files Train/subfolder_4/2377007084.0.csv\n"
          ]
        },
        {
          "output_type": "stream",
          "name": "stderr",
          "text": [
            "\rProcessing CSV files:   0%|          | 1/286 [00:03<18:41,  3.94s/it]"
          ]
        },
        {
          "output_type": "stream",
          "name": "stdout",
          "text": [
            "Processing file: /content/drive/MyDrive/MiB Dataset/A Fresh Start/User Files Train/subfolder_4/2377530955.0.csv\n"
          ]
        },
        {
          "output_type": "stream",
          "name": "stderr",
          "text": [
            "\rProcessing CSV files:   1%|          | 2/286 [00:06<15:30,  3.28s/it]"
          ]
        },
        {
          "output_type": "stream",
          "name": "stdout",
          "text": [
            "Processing file: /content/drive/MyDrive/MiB Dataset/A Fresh Start/User Files Train/subfolder_4/2380735502.0.csv\n"
          ]
        },
        {
          "output_type": "stream",
          "name": "stderr",
          "text": [
            "\rProcessing CSV files:   1%|          | 3/286 [00:07<10:54,  2.31s/it]"
          ]
        },
        {
          "output_type": "stream",
          "name": "stdout",
          "text": [
            "Processing file: /content/drive/MyDrive/MiB Dataset/A Fresh Start/User Files Train/subfolder_4/2377373876.0.csv\n"
          ]
        },
        {
          "output_type": "stream",
          "name": "stderr",
          "text": [
            "\rProcessing CSV files:   1%|▏         | 4/286 [00:08<08:22,  1.78s/it]"
          ]
        },
        {
          "output_type": "stream",
          "name": "stdout",
          "text": [
            "Processing file: /content/drive/MyDrive/MiB Dataset/A Fresh Start/User Files Train/subfolder_4/2376895730.0.csv\n"
          ]
        },
        {
          "output_type": "stream",
          "name": "stderr",
          "text": [
            "\rProcessing CSV files:   2%|▏         | 5/286 [00:09<06:58,  1.49s/it]"
          ]
        },
        {
          "output_type": "stream",
          "name": "stdout",
          "text": [
            "Processing file: /content/drive/MyDrive/MiB Dataset/A Fresh Start/User Files Train/subfolder_4/2379797442.0.csv\n"
          ]
        },
        {
          "output_type": "stream",
          "name": "stderr",
          "text": [
            "\rProcessing CSV files:   2%|▏         | 6/286 [00:10<05:39,  1.21s/it]"
          ]
        },
        {
          "output_type": "stream",
          "name": "stdout",
          "text": [
            "Processing file: /content/drive/MyDrive/MiB Dataset/A Fresh Start/User Files Train/subfolder_4/2380062097.0.csv\n"
          ]
        },
        {
          "output_type": "stream",
          "name": "stderr",
          "text": [
            "\rProcessing CSV files:   2%|▏         | 7/286 [00:11<04:49,  1.04s/it]"
          ]
        },
        {
          "output_type": "stream",
          "name": "stdout",
          "text": [
            "Processing file: /content/drive/MyDrive/MiB Dataset/A Fresh Start/User Files Train/subfolder_4/2380373089.0.csv\n"
          ]
        },
        {
          "output_type": "stream",
          "name": "stderr",
          "text": [
            "\rProcessing CSV files:   3%|▎         | 8/286 [00:12<04:28,  1.03it/s]"
          ]
        },
        {
          "output_type": "stream",
          "name": "stdout",
          "text": [
            "Processing file: /content/drive/MyDrive/MiB Dataset/A Fresh Start/User Files Train/subfolder_4/2377740000.0.csv\n"
          ]
        },
        {
          "output_type": "stream",
          "name": "stderr",
          "text": [
            "\rProcessing CSV files:   3%|▎         | 9/286 [00:12<04:07,  1.12it/s]"
          ]
        },
        {
          "output_type": "stream",
          "name": "stdout",
          "text": [
            "Processing file: /content/drive/MyDrive/MiB Dataset/A Fresh Start/User Files Train/subfolder_4/2377929164.0.csv\n"
          ]
        },
        {
          "output_type": "stream",
          "name": "stderr",
          "text": [
            "\rProcessing CSV files:   3%|▎         | 10/286 [00:13<03:50,  1.20it/s]"
          ]
        },
        {
          "output_type": "stream",
          "name": "stdout",
          "text": [
            "Processing file: /content/drive/MyDrive/MiB Dataset/A Fresh Start/User Files Train/subfolder_4/2377981951.0.csv\n"
          ]
        },
        {
          "output_type": "stream",
          "name": "stderr",
          "text": [
            "\rProcessing CSV files:   4%|▍         | 11/286 [00:14<03:36,  1.27it/s]"
          ]
        },
        {
          "output_type": "stream",
          "name": "stdout",
          "text": [
            "Processing file: /content/drive/MyDrive/MiB Dataset/A Fresh Start/User Files Train/subfolder_4/2378076452.0.csv\n"
          ]
        },
        {
          "output_type": "stream",
          "name": "stderr",
          "text": [
            "\rProcessing CSV files:   4%|▍         | 12/286 [00:14<03:23,  1.34it/s]"
          ]
        },
        {
          "output_type": "stream",
          "name": "stdout",
          "text": [
            "Processing file: /content/drive/MyDrive/MiB Dataset/A Fresh Start/User Files Train/subfolder_4/2378067062.0.csv\n"
          ]
        },
        {
          "output_type": "stream",
          "name": "stderr",
          "text": [
            "\rProcessing CSV files:   5%|▍         | 13/286 [00:15<03:22,  1.35it/s]"
          ]
        },
        {
          "output_type": "stream",
          "name": "stdout",
          "text": [
            "Processing file: /content/drive/MyDrive/MiB Dataset/A Fresh Start/User Files Train/subfolder_4/2380211371.0.csv\n"
          ]
        },
        {
          "output_type": "stream",
          "name": "stderr",
          "text": [
            "\rProcessing CSV files:   5%|▍         | 14/286 [00:16<03:09,  1.44it/s]"
          ]
        },
        {
          "output_type": "stream",
          "name": "stdout",
          "text": [
            "Processing file: /content/drive/MyDrive/MiB Dataset/A Fresh Start/User Files Train/subfolder_4/2377635552.0.csv\n"
          ]
        },
        {
          "output_type": "stream",
          "name": "stderr",
          "text": [
            "\rProcessing CSV files:   5%|▌         | 15/286 [00:16<03:12,  1.41it/s]"
          ]
        },
        {
          "output_type": "stream",
          "name": "stdout",
          "text": [
            "Processing file: /content/drive/MyDrive/MiB Dataset/A Fresh Start/User Files Train/subfolder_4/2377952492.0.csv\n"
          ]
        },
        {
          "output_type": "stream",
          "name": "stderr",
          "text": [
            "\rProcessing CSV files:   6%|▌         | 16/286 [00:17<03:06,  1.44it/s]"
          ]
        },
        {
          "output_type": "stream",
          "name": "stdout",
          "text": [
            "Processing file: /content/drive/MyDrive/MiB Dataset/A Fresh Start/User Files Train/subfolder_4/2376948643.0.csv\n"
          ]
        },
        {
          "output_type": "stream",
          "name": "stderr",
          "text": [
            "\rProcessing CSV files:   6%|▌         | 17/286 [00:18<03:05,  1.45it/s]"
          ]
        },
        {
          "output_type": "stream",
          "name": "stdout",
          "text": [
            "Processing file: /content/drive/MyDrive/MiB Dataset/A Fresh Start/User Files Train/subfolder_4/2379381841.0.csv\n"
          ]
        },
        {
          "output_type": "stream",
          "name": "stderr",
          "text": [
            "\rProcessing CSV files:   6%|▋         | 18/286 [00:18<03:09,  1.42it/s]"
          ]
        },
        {
          "output_type": "stream",
          "name": "stdout",
          "text": [
            "Processing file: /content/drive/MyDrive/MiB Dataset/A Fresh Start/User Files Train/subfolder_4/2378360713.0.csv\n"
          ]
        },
        {
          "output_type": "stream",
          "name": "stderr",
          "text": [
            "\rProcessing CSV files:   7%|▋         | 19/286 [00:19<03:31,  1.26it/s]"
          ]
        },
        {
          "output_type": "stream",
          "name": "stdout",
          "text": [
            "Processing file: /content/drive/MyDrive/MiB Dataset/A Fresh Start/User Files Train/subfolder_4/2377646630.0.csv\n"
          ]
        },
        {
          "output_type": "stream",
          "name": "stderr",
          "text": [
            "\rProcessing CSV files:   7%|▋         | 20/286 [00:21<03:56,  1.13it/s]"
          ]
        },
        {
          "output_type": "stream",
          "name": "stdout",
          "text": [
            "Processing file: /content/drive/MyDrive/MiB Dataset/A Fresh Start/User Files Train/subfolder_4/2377903014.0.csv\n"
          ]
        },
        {
          "output_type": "stream",
          "name": "stderr",
          "text": [
            "\rProcessing CSV files:   7%|▋         | 21/286 [00:22<04:12,  1.05it/s]"
          ]
        },
        {
          "output_type": "stream",
          "name": "stdout",
          "text": [
            "Processing file: /content/drive/MyDrive/MiB Dataset/A Fresh Start/User Files Train/subfolder_4/2377656110.0.csv\n"
          ]
        },
        {
          "output_type": "stream",
          "name": "stderr",
          "text": [
            "\rProcessing CSV files:   8%|▊         | 22/286 [00:23<04:32,  1.03s/it]"
          ]
        },
        {
          "output_type": "stream",
          "name": "stdout",
          "text": [
            "Processing file: /content/drive/MyDrive/MiB Dataset/A Fresh Start/User Files Train/subfolder_4/2377451731.0.csv\n"
          ]
        },
        {
          "output_type": "stream",
          "name": "stderr",
          "text": [
            "\rProcessing CSV files:   8%|▊         | 23/286 [00:24<04:07,  1.06it/s]"
          ]
        },
        {
          "output_type": "stream",
          "name": "stdout",
          "text": [
            "Processing file: /content/drive/MyDrive/MiB Dataset/A Fresh Start/User Files Train/subfolder_4/2377730172.0.csv\n"
          ]
        },
        {
          "output_type": "stream",
          "name": "stderr",
          "text": [
            "\rProcessing CSV files:   8%|▊         | 24/286 [00:24<03:44,  1.16it/s]"
          ]
        },
        {
          "output_type": "stream",
          "name": "stdout",
          "text": [
            "Processing file: /content/drive/MyDrive/MiB Dataset/A Fresh Start/User Files Train/subfolder_4/2380729915.0.csv\n"
          ]
        },
        {
          "output_type": "stream",
          "name": "stderr",
          "text": [
            "\rProcessing CSV files:   9%|▊         | 25/286 [00:25<03:37,  1.20it/s]"
          ]
        },
        {
          "output_type": "stream",
          "name": "stdout",
          "text": [
            "Processing file: /content/drive/MyDrive/MiB Dataset/A Fresh Start/User Files Train/subfolder_4/2377108531.0.csv\n"
          ]
        },
        {
          "output_type": "stream",
          "name": "stderr",
          "text": [
            "\rProcessing CSV files:   9%|▉         | 26/286 [00:26<03:36,  1.20it/s]"
          ]
        },
        {
          "output_type": "stream",
          "name": "stdout",
          "text": [
            "Processing file: /content/drive/MyDrive/MiB Dataset/A Fresh Start/User Files Train/subfolder_4/2380376893.0.csv\n"
          ]
        },
        {
          "output_type": "stream",
          "name": "stderr",
          "text": [
            "\rProcessing CSV files:   9%|▉         | 27/286 [00:27<03:20,  1.29it/s]"
          ]
        },
        {
          "output_type": "stream",
          "name": "stdout",
          "text": [
            "Processing file: /content/drive/MyDrive/MiB Dataset/A Fresh Start/User Files Train/subfolder_4/2380793118.0.csv\n"
          ]
        },
        {
          "output_type": "stream",
          "name": "stderr",
          "text": [
            "\rProcessing CSV files:  10%|▉         | 28/286 [00:27<03:15,  1.32it/s]"
          ]
        },
        {
          "output_type": "stream",
          "name": "stdout",
          "text": [
            "Processing file: /content/drive/MyDrive/MiB Dataset/A Fresh Start/User Files Train/subfolder_4/2379041683.0.csv\n"
          ]
        },
        {
          "output_type": "stream",
          "name": "stderr",
          "text": [
            "\rProcessing CSV files:  10%|█         | 29/286 [00:28<03:12,  1.33it/s]"
          ]
        },
        {
          "output_type": "stream",
          "name": "stdout",
          "text": [
            "Processing file: /content/drive/MyDrive/MiB Dataset/A Fresh Start/User Files Train/subfolder_4/2376868266.0.csv\n"
          ]
        },
        {
          "output_type": "stream",
          "name": "stderr",
          "text": [
            "\rProcessing CSV files:  10%|█         | 30/286 [00:29<03:07,  1.37it/s]"
          ]
        },
        {
          "output_type": "stream",
          "name": "stdout",
          "text": [
            "Processing file: /content/drive/MyDrive/MiB Dataset/A Fresh Start/User Files Train/subfolder_4/2377315075.0.csv\n"
          ]
        },
        {
          "output_type": "stream",
          "name": "stderr",
          "text": [
            "\rProcessing CSV files:  11%|█         | 31/286 [00:30<03:44,  1.13it/s]"
          ]
        },
        {
          "output_type": "stream",
          "name": "stdout",
          "text": [
            "Processing file: /content/drive/MyDrive/MiB Dataset/A Fresh Start/User Files Train/subfolder_4/2379010088.0.csv\n"
          ]
        },
        {
          "output_type": "stream",
          "name": "stderr",
          "text": [
            "\rProcessing CSV files:  11%|█         | 32/286 [00:31<03:50,  1.10it/s]"
          ]
        },
        {
          "output_type": "stream",
          "name": "stdout",
          "text": [
            "Processing file: /content/drive/MyDrive/MiB Dataset/A Fresh Start/User Files Train/subfolder_4/2378904895.0.csv\n"
          ]
        },
        {
          "output_type": "stream",
          "name": "stderr",
          "text": [
            "\rProcessing CSV files:  12%|█▏        | 33/286 [00:32<03:33,  1.19it/s]"
          ]
        },
        {
          "output_type": "stream",
          "name": "stdout",
          "text": [
            "Processing file: /content/drive/MyDrive/MiB Dataset/A Fresh Start/User Files Train/subfolder_4/2380445972.0.csv\n"
          ]
        },
        {
          "output_type": "stream",
          "name": "stderr",
          "text": [
            "\rProcessing CSV files:  12%|█▏        | 34/286 [00:33<03:59,  1.05it/s]"
          ]
        },
        {
          "output_type": "stream",
          "name": "stdout",
          "text": [
            "Processing file: /content/drive/MyDrive/MiB Dataset/A Fresh Start/User Files Train/subfolder_4/2380168394.0.csv\n"
          ]
        },
        {
          "output_type": "stream",
          "name": "stderr",
          "text": [
            "\rProcessing CSV files:  12%|█▏        | 35/286 [00:35<05:05,  1.22s/it]"
          ]
        },
        {
          "output_type": "stream",
          "name": "stdout",
          "text": [
            "Processing file: /content/drive/MyDrive/MiB Dataset/A Fresh Start/User Files Train/subfolder_4/2378330916.0.csv\n"
          ]
        },
        {
          "output_type": "stream",
          "name": "stderr",
          "text": [
            "\rProcessing CSV files:  13%|█▎        | 36/286 [00:36<04:52,  1.17s/it]"
          ]
        },
        {
          "output_type": "stream",
          "name": "stdout",
          "text": [
            "Processing file: /content/drive/MyDrive/MiB Dataset/A Fresh Start/User Files Train/subfolder_4/2377536318.0.csv\n"
          ]
        },
        {
          "output_type": "stream",
          "name": "stderr",
          "text": [
            "\rProcessing CSV files:  13%|█▎        | 37/286 [00:37<05:07,  1.23s/it]"
          ]
        },
        {
          "output_type": "stream",
          "name": "stdout",
          "text": [
            "Processing file: /content/drive/MyDrive/MiB Dataset/A Fresh Start/User Files Train/subfolder_4/2378439283.0.csv\n"
          ]
        },
        {
          "output_type": "stream",
          "name": "stderr",
          "text": [
            "\rProcessing CSV files:  13%|█▎        | 38/286 [00:38<04:40,  1.13s/it]"
          ]
        },
        {
          "output_type": "stream",
          "name": "stdout",
          "text": [
            "Processing file: /content/drive/MyDrive/MiB Dataset/A Fresh Start/User Files Train/subfolder_4/2377861590.0.csv\n"
          ]
        },
        {
          "output_type": "stream",
          "name": "stderr",
          "text": [
            "\rProcessing CSV files:  14%|█▎        | 39/286 [00:39<04:17,  1.04s/it]"
          ]
        },
        {
          "output_type": "stream",
          "name": "stdout",
          "text": [
            "Processing file: /content/drive/MyDrive/MiB Dataset/A Fresh Start/User Files Train/subfolder_4/2377818876.0.csv\n"
          ]
        },
        {
          "output_type": "stream",
          "name": "stderr",
          "text": [
            "\rProcessing CSV files:  14%|█▍        | 40/286 [00:39<03:51,  1.06it/s]"
          ]
        },
        {
          "output_type": "stream",
          "name": "stdout",
          "text": [
            "Processing file: /content/drive/MyDrive/MiB Dataset/A Fresh Start/User Files Train/subfolder_4/2379524288.0.csv\n"
          ]
        },
        {
          "output_type": "stream",
          "name": "stderr",
          "text": [
            "\rProcessing CSV files:  14%|█▍        | 41/286 [00:40<03:36,  1.13it/s]"
          ]
        },
        {
          "output_type": "stream",
          "name": "stdout",
          "text": [
            "Processing file: /content/drive/MyDrive/MiB Dataset/A Fresh Start/User Files Train/subfolder_4/2377879488.0.csv\n"
          ]
        },
        {
          "output_type": "stream",
          "name": "stderr",
          "text": [
            "\rProcessing CSV files:  15%|█▍        | 42/286 [00:41<03:31,  1.16it/s]"
          ]
        },
        {
          "output_type": "stream",
          "name": "stdout",
          "text": [
            "Processing file: /content/drive/MyDrive/MiB Dataset/A Fresh Start/User Files Train/subfolder_4/2377935157.0.csv\n"
          ]
        },
        {
          "output_type": "stream",
          "name": "stderr",
          "text": [
            "\rProcessing CSV files:  15%|█▌        | 43/286 [00:42<03:20,  1.21it/s]"
          ]
        },
        {
          "output_type": "stream",
          "name": "stdout",
          "text": [
            "Processing file: /content/drive/MyDrive/MiB Dataset/A Fresh Start/User Files Train/subfolder_4/2378652246.0.csv\n"
          ]
        },
        {
          "output_type": "stream",
          "name": "stderr",
          "text": [
            "\rProcessing CSV files:  15%|█▌        | 44/286 [00:42<03:08,  1.29it/s]"
          ]
        },
        {
          "output_type": "stream",
          "name": "stdout",
          "text": [
            "Processing file: /content/drive/MyDrive/MiB Dataset/A Fresh Start/User Files Train/subfolder_4/2377824468.0.csv\n"
          ]
        },
        {
          "output_type": "stream",
          "name": "stderr",
          "text": [
            "\rProcessing CSV files:  16%|█▌        | 45/286 [00:43<03:11,  1.26it/s]"
          ]
        },
        {
          "output_type": "stream",
          "name": "stdout",
          "text": [
            "Processing file: /content/drive/MyDrive/MiB Dataset/A Fresh Start/User Files Train/subfolder_4/2380657250.0.csv\n"
          ]
        },
        {
          "output_type": "stream",
          "name": "stderr",
          "text": [
            "\rProcessing CSV files:  16%|█▌        | 46/286 [00:44<03:13,  1.24it/s]"
          ]
        },
        {
          "output_type": "stream",
          "name": "stdout",
          "text": [
            "Processing file: /content/drive/MyDrive/MiB Dataset/A Fresh Start/User Files Train/subfolder_4/2376890059.0.csv\n"
          ]
        },
        {
          "output_type": "stream",
          "name": "stderr",
          "text": [
            "\rProcessing CSV files:  16%|█▋        | 47/286 [00:45<03:05,  1.29it/s]"
          ]
        },
        {
          "output_type": "stream",
          "name": "stdout",
          "text": [
            "Processing file: /content/drive/MyDrive/MiB Dataset/A Fresh Start/User Files Train/subfolder_4/2377253978.0.csv\n"
          ]
        },
        {
          "output_type": "stream",
          "name": "stderr",
          "text": [
            "\rProcessing CSV files:  17%|█▋        | 48/286 [00:45<02:49,  1.40it/s]"
          ]
        },
        {
          "output_type": "stream",
          "name": "stdout",
          "text": [
            "Processing file: /content/drive/MyDrive/MiB Dataset/A Fresh Start/User Files Train/subfolder_4/2377909674.0.csv\n"
          ]
        },
        {
          "output_type": "stream",
          "name": "stderr",
          "text": [
            "\rProcessing CSV files:  17%|█▋        | 49/286 [00:46<02:52,  1.37it/s]"
          ]
        },
        {
          "output_type": "stream",
          "name": "stdout",
          "text": [
            "Processing file: /content/drive/MyDrive/MiB Dataset/A Fresh Start/User Files Train/subfolder_4/2377829892.0.csv\n"
          ]
        },
        {
          "output_type": "stream",
          "name": "stderr",
          "text": [
            "\rProcessing CSV files:  17%|█▋        | 50/286 [00:47<02:53,  1.36it/s]"
          ]
        },
        {
          "output_type": "stream",
          "name": "stdout",
          "text": [
            "Processing file: /content/drive/MyDrive/MiB Dataset/A Fresh Start/User Files Train/subfolder_4/2377850018.0.csv\n"
          ]
        },
        {
          "output_type": "stream",
          "name": "stderr",
          "text": [
            "\rProcessing CSV files:  18%|█▊        | 51/286 [00:47<02:44,  1.43it/s]"
          ]
        },
        {
          "output_type": "stream",
          "name": "stdout",
          "text": [
            "Processing file: /content/drive/MyDrive/MiB Dataset/A Fresh Start/User Files Train/subfolder_4/2376837104.0.csv\n"
          ]
        },
        {
          "output_type": "stream",
          "name": "stderr",
          "text": [
            "\rProcessing CSV files:  18%|█▊        | 52/286 [00:49<03:11,  1.22it/s]"
          ]
        },
        {
          "output_type": "stream",
          "name": "stdout",
          "text": [
            "Processing file: /content/drive/MyDrive/MiB Dataset/A Fresh Start/User Files Train/subfolder_4/2377524343.0.csv\n"
          ]
        },
        {
          "output_type": "stream",
          "name": "stderr",
          "text": [
            "\rProcessing CSV files:  19%|█▊        | 53/286 [00:50<03:26,  1.13it/s]"
          ]
        },
        {
          "output_type": "stream",
          "name": "stdout",
          "text": [
            "Processing file: /content/drive/MyDrive/MiB Dataset/A Fresh Start/User Files Train/subfolder_4/2376901322.0.csv\n"
          ]
        },
        {
          "output_type": "stream",
          "name": "stderr",
          "text": [
            "\rProcessing CSV files:  19%|█▉        | 54/286 [00:51<03:33,  1.09it/s]"
          ]
        },
        {
          "output_type": "stream",
          "name": "stdout",
          "text": [
            "Processing file: /content/drive/MyDrive/MiB Dataset/A Fresh Start/User Files Train/subfolder_4/2377790023.0.csv\n"
          ]
        },
        {
          "output_type": "stream",
          "name": "stderr",
          "text": [
            "\rProcessing CSV files:  19%|█▉        | 55/286 [00:52<03:31,  1.09it/s]"
          ]
        },
        {
          "output_type": "stream",
          "name": "stdout",
          "text": [
            "Processing file: /content/drive/MyDrive/MiB Dataset/A Fresh Start/User Files Train/subfolder_4/2380383847.0.csv\n"
          ]
        },
        {
          "output_type": "stream",
          "name": "stderr",
          "text": [
            "\rProcessing CSV files:  20%|█▉        | 56/286 [00:52<03:31,  1.09it/s]"
          ]
        },
        {
          "output_type": "stream",
          "name": "stdout",
          "text": [
            "Processing file: /content/drive/MyDrive/MiB Dataset/A Fresh Start/User Files Train/subfolder_4/2377560691.0.csv\n"
          ]
        },
        {
          "output_type": "stream",
          "name": "stderr",
          "text": [
            "\rProcessing CSV files:  20%|█▉        | 57/286 [00:53<03:18,  1.15it/s]"
          ]
        },
        {
          "output_type": "stream",
          "name": "stdout",
          "text": [
            "Processing file: /content/drive/MyDrive/MiB Dataset/A Fresh Start/User Files Train/subfolder_4/2378476622.0.csv\n"
          ]
        },
        {
          "output_type": "stream",
          "name": "stderr",
          "text": [
            "\rProcessing CSV files:  20%|██        | 58/286 [00:54<03:11,  1.19it/s]"
          ]
        },
        {
          "output_type": "stream",
          "name": "stdout",
          "text": [
            "Processing file: /content/drive/MyDrive/MiB Dataset/A Fresh Start/User Files Train/subfolder_4/2377569936.0.csv\n"
          ]
        },
        {
          "output_type": "stream",
          "name": "stderr",
          "text": [
            "\rProcessing CSV files:  21%|██        | 59/286 [00:55<03:32,  1.07it/s]"
          ]
        },
        {
          "output_type": "stream",
          "name": "stdout",
          "text": [
            "Processing file: /content/drive/MyDrive/MiB Dataset/A Fresh Start/User Files Train/subfolder_4/2379457004.0.csv\n"
          ]
        },
        {
          "output_type": "stream",
          "name": "stderr",
          "text": [
            "\rProcessing CSV files:  21%|██        | 60/286 [00:57<04:05,  1.09s/it]"
          ]
        },
        {
          "output_type": "stream",
          "name": "stdout",
          "text": [
            "Processing file: /content/drive/MyDrive/MiB Dataset/A Fresh Start/User Files Train/subfolder_4/2377444080.0.csv\n"
          ]
        },
        {
          "output_type": "stream",
          "name": "stderr",
          "text": [
            "\rProcessing CSV files:  21%|██▏       | 61/286 [00:57<03:47,  1.01s/it]"
          ]
        },
        {
          "output_type": "stream",
          "name": "stdout",
          "text": [
            "Processing file: /content/drive/MyDrive/MiB Dataset/A Fresh Start/User Files Train/subfolder_4/2380341170.0.csv\n"
          ]
        },
        {
          "output_type": "stream",
          "name": "stderr",
          "text": [
            "\rProcessing CSV files:  22%|██▏       | 62/286 [00:58<03:27,  1.08it/s]"
          ]
        },
        {
          "output_type": "stream",
          "name": "stdout",
          "text": [
            "Processing file: /content/drive/MyDrive/MiB Dataset/A Fresh Start/User Files Train/subfolder_4/2376402403.0.csv\n"
          ]
        },
        {
          "output_type": "stream",
          "name": "stderr",
          "text": [
            "\rProcessing CSV files:  22%|██▏       | 63/286 [00:59<03:17,  1.13it/s]"
          ]
        },
        {
          "output_type": "stream",
          "name": "stdout",
          "text": [
            "Processing file: /content/drive/MyDrive/MiB Dataset/A Fresh Start/User Files Train/subfolder_4/2376435464.0.csv\n"
          ]
        },
        {
          "output_type": "stream",
          "name": "stderr",
          "text": [
            "\rProcessing CSV files:  22%|██▏       | 64/286 [01:00<03:02,  1.21it/s]"
          ]
        },
        {
          "output_type": "stream",
          "name": "stdout",
          "text": [
            "Processing file: /content/drive/MyDrive/MiB Dataset/A Fresh Start/User Files Train/subfolder_4/2377711416.0.csv\n"
          ]
        },
        {
          "output_type": "stream",
          "name": "stderr",
          "text": [
            "\rProcessing CSV files:  23%|██▎       | 65/286 [01:00<02:57,  1.24it/s]"
          ]
        },
        {
          "output_type": "stream",
          "name": "stdout",
          "text": [
            "Processing file: /content/drive/MyDrive/MiB Dataset/A Fresh Start/User Files Train/subfolder_4/2377803655.0.csv\n"
          ]
        },
        {
          "output_type": "stream",
          "name": "stderr",
          "text": [
            "\rProcessing CSV files:  23%|██▎       | 66/286 [01:01<02:53,  1.27it/s]"
          ]
        },
        {
          "output_type": "stream",
          "name": "stdout",
          "text": [
            "Processing file: /content/drive/MyDrive/MiB Dataset/A Fresh Start/User Files Train/subfolder_4/2377083871.0.csv\n"
          ]
        },
        {
          "output_type": "stream",
          "name": "stderr",
          "text": [
            "\rProcessing CSV files:  23%|██▎       | 67/286 [01:02<02:47,  1.30it/s]"
          ]
        },
        {
          "output_type": "stream",
          "name": "stdout",
          "text": [
            "Processing file: /content/drive/MyDrive/MiB Dataset/A Fresh Start/User Files Train/subfolder_4/2378353614.0.csv\n"
          ]
        },
        {
          "output_type": "stream",
          "name": "stderr",
          "text": [
            "\rProcessing CSV files:  24%|██▍       | 68/286 [01:03<02:55,  1.24it/s]"
          ]
        },
        {
          "output_type": "stream",
          "name": "stdout",
          "text": [
            "Processing file: /content/drive/MyDrive/MiB Dataset/A Fresh Start/User Files Train/subfolder_4/2377447818.0.csv\n"
          ]
        },
        {
          "output_type": "stream",
          "name": "stderr",
          "text": [
            "\rProcessing CSV files:  24%|██▍       | 69/286 [01:04<02:55,  1.24it/s]"
          ]
        },
        {
          "output_type": "stream",
          "name": "stdout",
          "text": [
            "Processing file: /content/drive/MyDrive/MiB Dataset/A Fresh Start/User Files Train/subfolder_4/2380747615.0.csv\n"
          ]
        },
        {
          "output_type": "stream",
          "name": "stderr",
          "text": [
            "\rProcessing CSV files:  24%|██▍       | 70/286 [01:04<02:58,  1.21it/s]"
          ]
        },
        {
          "output_type": "stream",
          "name": "stdout",
          "text": [
            "Processing file: /content/drive/MyDrive/MiB Dataset/A Fresh Start/User Files Train/subfolder_4/2377590482.0.csv\n"
          ]
        },
        {
          "output_type": "stream",
          "name": "stderr",
          "text": [
            "\rProcessing CSV files:  25%|██▍       | 71/286 [01:06<03:17,  1.09it/s]"
          ]
        },
        {
          "output_type": "stream",
          "name": "stdout",
          "text": [
            "Processing file: /content/drive/MyDrive/MiB Dataset/A Fresh Start/User Files Train/subfolder_4/2379928824.0.csv\n"
          ]
        },
        {
          "output_type": "stream",
          "name": "stderr",
          "text": [
            "\rProcessing CSV files:  25%|██▌       | 72/286 [01:07<03:26,  1.04it/s]"
          ]
        },
        {
          "output_type": "stream",
          "name": "stdout",
          "text": [
            "Processing file: /content/drive/MyDrive/MiB Dataset/A Fresh Start/User Files Train/subfolder_4/2376527340.0.csv\n"
          ]
        },
        {
          "output_type": "stream",
          "name": "stderr",
          "text": [
            "\rProcessing CSV files:  26%|██▌       | 73/286 [01:07<03:14,  1.09it/s]"
          ]
        },
        {
          "output_type": "stream",
          "name": "stdout",
          "text": [
            "Processing file: /content/drive/MyDrive/MiB Dataset/A Fresh Start/User Files Train/subfolder_4/2380781340.0.csv\n"
          ]
        },
        {
          "output_type": "stream",
          "name": "stderr",
          "text": [
            "\rProcessing CSV files:  26%|██▌       | 74/286 [01:08<02:56,  1.20it/s]"
          ]
        },
        {
          "output_type": "stream",
          "name": "stdout",
          "text": [
            "Processing file: /content/drive/MyDrive/MiB Dataset/A Fresh Start/User Files Train/subfolder_4/2379708266.0.csv\n"
          ]
        },
        {
          "output_type": "stream",
          "name": "stderr",
          "text": [
            "\rProcessing CSV files:  26%|██▌       | 75/286 [01:09<02:52,  1.22it/s]"
          ]
        },
        {
          "output_type": "stream",
          "name": "stdout",
          "text": [
            "Processing file: /content/drive/MyDrive/MiB Dataset/A Fresh Start/User Files Train/subfolder_4/2378484415.0.csv\n"
          ]
        },
        {
          "output_type": "stream",
          "name": "stderr",
          "text": [
            "\rProcessing CSV files:  27%|██▋       | 76/286 [01:10<02:48,  1.25it/s]"
          ]
        },
        {
          "output_type": "stream",
          "name": "stdout",
          "text": [
            "Processing file: /content/drive/MyDrive/MiB Dataset/A Fresh Start/User Files Train/subfolder_4/2380197396.0.csv\n"
          ]
        },
        {
          "output_type": "stream",
          "name": "stderr",
          "text": [
            "\rProcessing CSV files:  27%|██▋       | 77/286 [01:10<02:36,  1.34it/s]"
          ]
        },
        {
          "output_type": "stream",
          "name": "stdout",
          "text": [
            "Processing file: /content/drive/MyDrive/MiB Dataset/A Fresh Start/User Files Train/subfolder_4/2377593666.0.csv\n"
          ]
        },
        {
          "output_type": "stream",
          "name": "stderr",
          "text": [
            "\rProcessing CSV files:  27%|██▋       | 78/286 [01:11<02:36,  1.33it/s]"
          ]
        },
        {
          "output_type": "stream",
          "name": "stdout",
          "text": [
            "Processing file: /content/drive/MyDrive/MiB Dataset/A Fresh Start/User Files Train/subfolder_4/2380030183.0.csv\n"
          ]
        },
        {
          "output_type": "stream",
          "name": "stderr",
          "text": [
            "\rProcessing CSV files:  28%|██▊       | 79/286 [01:12<02:37,  1.32it/s]"
          ]
        },
        {
          "output_type": "stream",
          "name": "stdout",
          "text": [
            "Processing file: /content/drive/MyDrive/MiB Dataset/A Fresh Start/User Files Train/subfolder_4/2376495529.0.csv\n"
          ]
        },
        {
          "output_type": "stream",
          "name": "stderr",
          "text": [
            "\rProcessing CSV files:  28%|██▊       | 80/286 [01:13<02:36,  1.32it/s]"
          ]
        },
        {
          "output_type": "stream",
          "name": "stdout",
          "text": [
            "Processing file: /content/drive/MyDrive/MiB Dataset/A Fresh Start/User Files Train/subfolder_4/2378432126.0.csv\n"
          ]
        },
        {
          "output_type": "stream",
          "name": "stderr",
          "text": [
            "\rProcessing CSV files:  28%|██▊       | 81/286 [01:13<02:34,  1.33it/s]"
          ]
        },
        {
          "output_type": "stream",
          "name": "stdout",
          "text": [
            "Processing file: /content/drive/MyDrive/MiB Dataset/A Fresh Start/User Files Train/subfolder_4/2378447250.0.csv\n"
          ]
        },
        {
          "output_type": "stream",
          "name": "stderr",
          "text": [
            "\rProcessing CSV files:  29%|██▊       | 82/286 [01:14<02:34,  1.32it/s]"
          ]
        },
        {
          "output_type": "stream",
          "name": "stdout",
          "text": [
            "Processing file: /content/drive/MyDrive/MiB Dataset/A Fresh Start/User Files Train/subfolder_4/2377665366.0.csv\n"
          ]
        },
        {
          "output_type": "stream",
          "name": "stderr",
          "text": [
            "\rProcessing CSV files:  29%|██▉       | 83/286 [01:15<02:23,  1.41it/s]"
          ]
        },
        {
          "output_type": "stream",
          "name": "stdout",
          "text": [
            "Processing file: /content/drive/MyDrive/MiB Dataset/A Fresh Start/User Files Train/subfolder_4/2377791822.0.csv\n"
          ]
        },
        {
          "output_type": "stream",
          "name": "stderr",
          "text": [
            "\rProcessing CSV files:  29%|██▉       | 84/286 [01:15<02:26,  1.38it/s]"
          ]
        },
        {
          "output_type": "stream",
          "name": "stdout",
          "text": [
            "Processing file: /content/drive/MyDrive/MiB Dataset/A Fresh Start/User Files Train/subfolder_4/2379970706.0.csv\n"
          ]
        },
        {
          "output_type": "stream",
          "name": "stderr",
          "text": [
            "\rProcessing CSV files:  30%|██▉       | 85/286 [01:16<02:21,  1.42it/s]"
          ]
        },
        {
          "output_type": "stream",
          "name": "stdout",
          "text": [
            "Processing file: /content/drive/MyDrive/MiB Dataset/A Fresh Start/User Files Train/subfolder_4/2376950972.0.csv\n"
          ]
        },
        {
          "output_type": "stream",
          "name": "stderr",
          "text": [
            "\rProcessing CSV files:  30%|███       | 86/286 [01:17<02:28,  1.35it/s]"
          ]
        },
        {
          "output_type": "stream",
          "name": "stdout",
          "text": [
            "Processing file: /content/drive/MyDrive/MiB Dataset/A Fresh Start/User Files Train/subfolder_4/2378332362.0.csv\n"
          ]
        },
        {
          "output_type": "stream",
          "name": "stderr",
          "text": [
            "\rProcessing CSV files:  30%|███       | 87/286 [01:18<02:39,  1.25it/s]"
          ]
        },
        {
          "output_type": "stream",
          "name": "stdout",
          "text": [
            "Processing file: /content/drive/MyDrive/MiB Dataset/A Fresh Start/User Files Train/subfolder_4/2380777544.0.csv\n"
          ]
        },
        {
          "output_type": "stream",
          "name": "stderr",
          "text": [
            "\rProcessing CSV files:  31%|███       | 88/286 [01:19<02:48,  1.17it/s]"
          ]
        },
        {
          "output_type": "stream",
          "name": "stdout",
          "text": [
            "Processing file: /content/drive/MyDrive/MiB Dataset/A Fresh Start/User Files Train/subfolder_4/2380058875.0.csv\n"
          ]
        },
        {
          "output_type": "stream",
          "name": "stderr",
          "text": [
            "\rProcessing CSV files:  31%|███       | 89/286 [01:20<02:50,  1.15it/s]"
          ]
        },
        {
          "output_type": "stream",
          "name": "stdout",
          "text": [
            "Processing file: /content/drive/MyDrive/MiB Dataset/A Fresh Start/User Files Train/subfolder_4/2376854856.0.csv\n"
          ]
        },
        {
          "output_type": "stream",
          "name": "stderr",
          "text": [
            "\rProcessing CSV files:  31%|███▏      | 90/286 [01:21<02:58,  1.10it/s]"
          ]
        },
        {
          "output_type": "stream",
          "name": "stdout",
          "text": [
            "Processing file: /content/drive/MyDrive/MiB Dataset/A Fresh Start/User Files Train/subfolder_4/2380679000.0.csv\n"
          ]
        },
        {
          "output_type": "stream",
          "name": "stderr",
          "text": [
            "\rProcessing CSV files:  32%|███▏      | 91/286 [01:21<02:47,  1.16it/s]"
          ]
        },
        {
          "output_type": "stream",
          "name": "stdout",
          "text": [
            "Processing file: /content/drive/MyDrive/MiB Dataset/A Fresh Start/User Files Train/subfolder_4/2380431692.0.csv\n"
          ]
        },
        {
          "output_type": "stream",
          "name": "stderr",
          "text": [
            "\rProcessing CSV files:  32%|███▏      | 92/286 [01:22<02:43,  1.19it/s]"
          ]
        },
        {
          "output_type": "stream",
          "name": "stdout",
          "text": [
            "Processing file: /content/drive/MyDrive/MiB Dataset/A Fresh Start/User Files Train/subfolder_4/2379872966.0.csv\n"
          ]
        },
        {
          "output_type": "stream",
          "name": "stderr",
          "text": [
            "\rProcessing CSV files:  33%|███▎      | 93/286 [01:23<02:34,  1.25it/s]"
          ]
        },
        {
          "output_type": "stream",
          "name": "stdout",
          "text": [
            "Processing file: /content/drive/MyDrive/MiB Dataset/A Fresh Start/User Files Train/subfolder_4/2380749122.0.csv\n"
          ]
        },
        {
          "output_type": "stream",
          "name": "stderr",
          "text": [
            "\rProcessing CSV files:  33%|███▎      | 94/286 [01:24<02:28,  1.29it/s]"
          ]
        },
        {
          "output_type": "stream",
          "name": "stdout",
          "text": [
            "Processing file: /content/drive/MyDrive/MiB Dataset/A Fresh Start/User Files Train/subfolder_4/2377091725.0.csv\n"
          ]
        },
        {
          "output_type": "stream",
          "name": "stderr",
          "text": [
            "\rProcessing CSV files:  33%|███▎      | 95/286 [01:25<02:33,  1.25it/s]"
          ]
        },
        {
          "output_type": "stream",
          "name": "stdout",
          "text": [
            "Processing file: /content/drive/MyDrive/MiB Dataset/A Fresh Start/User Files Train/subfolder_4/2376968101.0.csv\n"
          ]
        },
        {
          "output_type": "stream",
          "name": "stderr",
          "text": [
            "\rProcessing CSV files:  34%|███▎      | 96/286 [01:25<02:30,  1.26it/s]"
          ]
        },
        {
          "output_type": "stream",
          "name": "stdout",
          "text": [
            "Processing file: /content/drive/MyDrive/MiB Dataset/A Fresh Start/User Files Train/subfolder_4/2379741378.0.csv\n"
          ]
        },
        {
          "output_type": "stream",
          "name": "stderr",
          "text": [
            "\rProcessing CSV files:  34%|███▍      | 97/286 [01:26<02:31,  1.25it/s]"
          ]
        },
        {
          "output_type": "stream",
          "name": "stdout",
          "text": [
            "Processing file: /content/drive/MyDrive/MiB Dataset/A Fresh Start/User Files Train/subfolder_4/2377614426.0.csv\n"
          ]
        },
        {
          "output_type": "stream",
          "name": "stderr",
          "text": [
            "\rProcessing CSV files:  34%|███▍      | 98/286 [01:27<02:37,  1.19it/s]"
          ]
        },
        {
          "output_type": "stream",
          "name": "stdout",
          "text": [
            "Processing file: /content/drive/MyDrive/MiB Dataset/A Fresh Start/User Files Train/subfolder_4/2377810580.0.csv\n"
          ]
        },
        {
          "output_type": "stream",
          "name": "stderr",
          "text": [
            "\rProcessing CSV files:  35%|███▍      | 99/286 [01:28<02:33,  1.22it/s]"
          ]
        },
        {
          "output_type": "stream",
          "name": "stdout",
          "text": [
            "Processing file: /content/drive/MyDrive/MiB Dataset/A Fresh Start/User Files Train/subfolder_4/2378917717.0.csv\n"
          ]
        },
        {
          "output_type": "stream",
          "name": "stderr",
          "text": [
            "\rProcessing CSV files:  35%|███▍      | 100/286 [01:28<02:22,  1.31it/s]"
          ]
        },
        {
          "output_type": "stream",
          "name": "stdout",
          "text": [
            "Processing file: /content/drive/MyDrive/MiB Dataset/A Fresh Start/User Files Train/subfolder_4/2377911150.0.csv\n"
          ]
        },
        {
          "output_type": "stream",
          "name": "stderr",
          "text": [
            "\rProcessing CSV files:  35%|███▌      | 101/286 [01:29<02:23,  1.29it/s]"
          ]
        },
        {
          "output_type": "stream",
          "name": "stdout",
          "text": [
            "Processing file: /content/drive/MyDrive/MiB Dataset/A Fresh Start/User Files Train/subfolder_4/2377867501.0.csv\n"
          ]
        },
        {
          "output_type": "stream",
          "name": "stderr",
          "text": [
            "\rProcessing CSV files:  36%|███▌      | 102/286 [01:30<02:20,  1.31it/s]"
          ]
        },
        {
          "output_type": "stream",
          "name": "stdout",
          "text": [
            "Processing file: /content/drive/MyDrive/MiB Dataset/A Fresh Start/User Files Train/subfolder_4/2377527079.0.csv\n"
          ]
        },
        {
          "output_type": "stream",
          "name": "stderr",
          "text": [
            "\rProcessing CSV files:  36%|███▌      | 103/286 [01:31<02:35,  1.17it/s]"
          ]
        },
        {
          "output_type": "stream",
          "name": "stdout",
          "text": [
            "Processing file: /content/drive/MyDrive/MiB Dataset/A Fresh Start/User Files Train/subfolder_4/2378671002.0.csv\n"
          ]
        },
        {
          "output_type": "stream",
          "name": "stderr",
          "text": [
            "\rProcessing CSV files:  36%|███▋      | 104/286 [01:32<02:31,  1.20it/s]"
          ]
        },
        {
          "output_type": "stream",
          "name": "stdout",
          "text": [
            "Processing file: /content/drive/MyDrive/MiB Dataset/A Fresh Start/User Files Train/subfolder_4/2378059088.0.csv\n"
          ]
        },
        {
          "output_type": "stream",
          "name": "stderr",
          "text": [
            "\rProcessing CSV files:  37%|███▋      | 105/286 [01:33<02:33,  1.18it/s]"
          ]
        },
        {
          "output_type": "stream",
          "name": "stdout",
          "text": [
            "Processing file: /content/drive/MyDrive/MiB Dataset/A Fresh Start/User Files Train/subfolder_4/2379180066.0.csv\n"
          ]
        },
        {
          "output_type": "stream",
          "name": "stderr",
          "text": [
            "\rProcessing CSV files:  37%|███▋      | 106/286 [01:34<02:48,  1.07it/s]"
          ]
        },
        {
          "output_type": "stream",
          "name": "stdout",
          "text": [
            "Processing file: /content/drive/MyDrive/MiB Dataset/A Fresh Start/User Files Train/subfolder_4/2377036634.0.csv\n"
          ]
        },
        {
          "output_type": "stream",
          "name": "stderr",
          "text": [
            "\rProcessing CSV files:  37%|███▋      | 107/286 [01:35<02:35,  1.15it/s]"
          ]
        },
        {
          "output_type": "stream",
          "name": "stdout",
          "text": [
            "Processing file: /content/drive/MyDrive/MiB Dataset/A Fresh Start/User Files Train/subfolder_4/2378053471.0.csv\n"
          ]
        },
        {
          "output_type": "stream",
          "name": "stderr",
          "text": [
            "\rProcessing CSV files:  38%|███▊      | 108/286 [01:36<03:14,  1.09s/it]"
          ]
        },
        {
          "output_type": "stream",
          "name": "stdout",
          "text": [
            "Processing file: /content/drive/MyDrive/MiB Dataset/A Fresh Start/User Files Train/subfolder_4/2377046539.0.csv\n"
          ]
        },
        {
          "output_type": "stream",
          "name": "stderr",
          "text": [
            "\rProcessing CSV files:  38%|███▊      | 109/286 [01:38<03:29,  1.18s/it]"
          ]
        },
        {
          "output_type": "stream",
          "name": "stdout",
          "text": [
            "Processing file: /content/drive/MyDrive/MiB Dataset/A Fresh Start/User Files Train/subfolder_4/2378889606.0.csv\n"
          ]
        },
        {
          "output_type": "stream",
          "name": "stderr",
          "text": [
            "\rProcessing CSV files:  38%|███▊      | 110/286 [01:39<03:58,  1.35s/it]"
          ]
        },
        {
          "output_type": "stream",
          "name": "stdout",
          "text": [
            "Processing file: /content/drive/MyDrive/MiB Dataset/A Fresh Start/User Files Train/subfolder_4/2378385974.0.csv\n"
          ]
        },
        {
          "output_type": "stream",
          "name": "stderr",
          "text": [
            "\rProcessing CSV files:  39%|███▉      | 111/286 [01:40<03:24,  1.17s/it]"
          ]
        },
        {
          "output_type": "stream",
          "name": "stdout",
          "text": [
            "Processing file: /content/drive/MyDrive/MiB Dataset/A Fresh Start/User Files Train/subfolder_4/2379755827.0.csv\n"
          ]
        },
        {
          "output_type": "stream",
          "name": "stderr",
          "text": [
            "\rProcessing CSV files:  39%|███▉      | 112/286 [01:41<03:01,  1.05s/it]"
          ]
        },
        {
          "output_type": "stream",
          "name": "stdout",
          "text": [
            "Processing file: /content/drive/MyDrive/MiB Dataset/A Fresh Start/User Files Train/subfolder_4/2377590066.0.csv\n"
          ]
        },
        {
          "output_type": "stream",
          "name": "stderr",
          "text": [
            "\rProcessing CSV files:  40%|███▉      | 113/286 [01:42<02:45,  1.04it/s]"
          ]
        },
        {
          "output_type": "stream",
          "name": "stdout",
          "text": [
            "Processing file: /content/drive/MyDrive/MiB Dataset/A Fresh Start/User Files Train/subfolder_4/2376525504.0.csv\n"
          ]
        },
        {
          "output_type": "stream",
          "name": "stderr",
          "text": [
            "\rProcessing CSV files:  40%|███▉      | 114/286 [01:42<02:40,  1.07it/s]"
          ]
        },
        {
          "output_type": "stream",
          "name": "stdout",
          "text": [
            "Processing file: /content/drive/MyDrive/MiB Dataset/A Fresh Start/User Files Train/subfolder_4/2377421106.0.csv\n"
          ]
        },
        {
          "output_type": "stream",
          "name": "stderr",
          "text": [
            "\rProcessing CSV files:  40%|████      | 115/286 [01:43<02:33,  1.11it/s]"
          ]
        },
        {
          "output_type": "stream",
          "name": "stdout",
          "text": [
            "Processing file: /content/drive/MyDrive/MiB Dataset/A Fresh Start/User Files Train/subfolder_4/2377980812.0.csv\n"
          ]
        },
        {
          "output_type": "stream",
          "name": "stderr",
          "text": [
            "\rProcessing CSV files:  41%|████      | 116/286 [01:44<02:21,  1.20it/s]"
          ]
        },
        {
          "output_type": "stream",
          "name": "stdout",
          "text": [
            "Processing file: /content/drive/MyDrive/MiB Dataset/A Fresh Start/User Files Train/subfolder_4/2377618861.0.csv\n"
          ]
        },
        {
          "output_type": "stream",
          "name": "stderr",
          "text": [
            "\rProcessing CSV files:  41%|████      | 117/286 [01:45<02:32,  1.11it/s]"
          ]
        },
        {
          "output_type": "stream",
          "name": "stdout",
          "text": [
            "Processing file: /content/drive/MyDrive/MiB Dataset/A Fresh Start/User Files Train/subfolder_4/2377916568.0.csv\n"
          ]
        },
        {
          "output_type": "stream",
          "name": "stderr",
          "text": [
            "\rProcessing CSV files:  41%|████▏     | 118/286 [01:46<02:32,  1.10it/s]"
          ]
        },
        {
          "output_type": "stream",
          "name": "stdout",
          "text": [
            "Processing file: /content/drive/MyDrive/MiB Dataset/A Fresh Start/User Files Train/subfolder_4/2380239920.0.csv\n"
          ]
        },
        {
          "output_type": "stream",
          "name": "stderr",
          "text": [
            "\rProcessing CSV files:  42%|████▏     | 119/286 [01:47<02:39,  1.05it/s]"
          ]
        },
        {
          "output_type": "stream",
          "name": "stdout",
          "text": [
            "Processing file: /content/drive/MyDrive/MiB Dataset/A Fresh Start/User Files Train/subfolder_4/2377827835.0.csv\n"
          ]
        },
        {
          "output_type": "stream",
          "name": "stderr",
          "text": [
            "\rProcessing CSV files:  42%|████▏     | 120/286 [01:48<02:48,  1.02s/it]"
          ]
        },
        {
          "output_type": "stream",
          "name": "stdout",
          "text": [
            "Processing file: /content/drive/MyDrive/MiB Dataset/A Fresh Start/User Files Train/subfolder_4/2379702133.0.csv\n"
          ]
        },
        {
          "output_type": "stream",
          "name": "stderr",
          "text": [
            "\rProcessing CSV files:  42%|████▏     | 121/286 [01:49<02:27,  1.12it/s]"
          ]
        },
        {
          "output_type": "stream",
          "name": "stdout",
          "text": [
            "Processing file: /content/drive/MyDrive/MiB Dataset/A Fresh Start/User Files Train/subfolder_4/2378062974.0.csv\n"
          ]
        },
        {
          "output_type": "stream",
          "name": "stderr",
          "text": [
            "\rProcessing CSV files:  43%|████▎     | 122/286 [01:50<02:18,  1.18it/s]"
          ]
        },
        {
          "output_type": "stream",
          "name": "stdout",
          "text": [
            "Processing file: /content/drive/MyDrive/MiB Dataset/A Fresh Start/User Files Train/subfolder_4/2376891090.0.csv\n"
          ]
        },
        {
          "output_type": "stream",
          "name": "stderr",
          "text": [
            "\rProcessing CSV files:  43%|████▎     | 123/286 [01:50<02:15,  1.20it/s]"
          ]
        },
        {
          "output_type": "stream",
          "name": "stdout",
          "text": [
            "Processing file: /content/drive/MyDrive/MiB Dataset/A Fresh Start/User Files Train/subfolder_4/2380356271.0.csv\n"
          ]
        },
        {
          "output_type": "stream",
          "name": "stderr",
          "text": [
            "\rProcessing CSV files:  43%|████▎     | 124/286 [01:51<02:10,  1.24it/s]"
          ]
        },
        {
          "output_type": "stream",
          "name": "stdout",
          "text": [
            "Processing file: /content/drive/MyDrive/MiB Dataset/A Fresh Start/User Files Train/subfolder_4/2376463986.0.csv\n"
          ]
        },
        {
          "output_type": "stream",
          "name": "stderr",
          "text": [
            "\rProcessing CSV files:  44%|████▎     | 125/286 [01:52<02:11,  1.22it/s]"
          ]
        },
        {
          "output_type": "stream",
          "name": "stdout",
          "text": [
            "Processing file: /content/drive/MyDrive/MiB Dataset/A Fresh Start/User Files Train/subfolder_4/2376813920.0.csv\n"
          ]
        },
        {
          "output_type": "stream",
          "name": "stderr",
          "text": [
            "\rProcessing CSV files:  44%|████▍     | 126/286 [01:53<02:07,  1.26it/s]"
          ]
        },
        {
          "output_type": "stream",
          "name": "stdout",
          "text": [
            "Processing file: /content/drive/MyDrive/MiB Dataset/A Fresh Start/User Files Train/subfolder_4/2380212774.0.csv\n"
          ]
        },
        {
          "output_type": "stream",
          "name": "stderr",
          "text": [
            "\rProcessing CSV files:  44%|████▍     | 127/286 [01:53<02:04,  1.28it/s]"
          ]
        },
        {
          "output_type": "stream",
          "name": "stdout",
          "text": [
            "Processing file: /content/drive/MyDrive/MiB Dataset/A Fresh Start/User Files Train/subfolder_4/2379672560.0.csv\n"
          ]
        },
        {
          "output_type": "stream",
          "name": "stderr",
          "text": [
            "\rProcessing CSV files:  45%|████▍     | 128/286 [01:54<02:11,  1.21it/s]"
          ]
        },
        {
          "output_type": "stream",
          "name": "stdout",
          "text": [
            "Processing file: /content/drive/MyDrive/MiB Dataset/A Fresh Start/User Files Train/subfolder_4/2378336040.0.csv\n"
          ]
        },
        {
          "output_type": "stream",
          "name": "stderr",
          "text": [
            "\rProcessing CSV files:  45%|████▌     | 129/286 [01:55<02:05,  1.25it/s]"
          ]
        },
        {
          "output_type": "stream",
          "name": "stdout",
          "text": [
            "Processing file: /content/drive/MyDrive/MiB Dataset/A Fresh Start/User Files Train/subfolder_4/2376420499.0.csv\n"
          ]
        },
        {
          "output_type": "stream",
          "name": "stderr",
          "text": [
            "\rProcessing CSV files:  45%|████▌     | 130/286 [01:56<01:59,  1.31it/s]"
          ]
        },
        {
          "output_type": "stream",
          "name": "stdout",
          "text": [
            "Processing file: /content/drive/MyDrive/MiB Dataset/A Fresh Start/User Files Train/subfolder_4/2377477820.0.csv\n"
          ]
        },
        {
          "output_type": "stream",
          "name": "stderr",
          "text": [
            "\rProcessing CSV files:  46%|████▌     | 131/286 [01:57<02:02,  1.27it/s]"
          ]
        },
        {
          "output_type": "stream",
          "name": "stdout",
          "text": [
            "Processing file: /content/drive/MyDrive/MiB Dataset/A Fresh Start/User Files Train/subfolder_4/2377971542.0.csv\n"
          ]
        },
        {
          "output_type": "stream",
          "name": "stderr",
          "text": [
            "\rProcessing CSV files:  46%|████▌     | 132/286 [01:57<02:04,  1.23it/s]"
          ]
        },
        {
          "output_type": "stream",
          "name": "stdout",
          "text": [
            "Processing file: /content/drive/MyDrive/MiB Dataset/A Fresh Start/User Files Train/subfolder_4/2377740938.0.csv\n"
          ]
        },
        {
          "output_type": "stream",
          "name": "stderr",
          "text": [
            "\rProcessing CSV files:  47%|████▋     | 133/286 [01:58<02:09,  1.18it/s]"
          ]
        },
        {
          "output_type": "stream",
          "name": "stdout",
          "text": [
            "Processing file: /content/drive/MyDrive/MiB Dataset/A Fresh Start/User Files Train/subfolder_4/2378451139.0.csv\n"
          ]
        },
        {
          "output_type": "stream",
          "name": "stderr",
          "text": [
            "\rProcessing CSV files:  47%|████▋     | 134/286 [02:01<03:06,  1.23s/it]"
          ]
        },
        {
          "output_type": "stream",
          "name": "stdout",
          "text": [
            "Processing file: /content/drive/MyDrive/MiB Dataset/A Fresh Start/User Files Train/subfolder_4/2377541917.0.csv\n"
          ]
        },
        {
          "output_type": "stream",
          "name": "stderr",
          "text": [
            "\rProcessing CSV files:  47%|████▋     | 135/286 [02:02<03:30,  1.39s/it]"
          ]
        },
        {
          "output_type": "stream",
          "name": "stdout",
          "text": [
            "Processing file: /content/drive/MyDrive/MiB Dataset/A Fresh Start/User Files Train/subfolder_4/2380267099.0.csv\n"
          ]
        },
        {
          "output_type": "stream",
          "name": "stderr",
          "text": [
            "\rProcessing CSV files:  48%|████▊     | 136/286 [02:03<02:59,  1.20s/it]"
          ]
        },
        {
          "output_type": "stream",
          "name": "stdout",
          "text": [
            "Processing file: /content/drive/MyDrive/MiB Dataset/A Fresh Start/User Files Train/subfolder_4/2377721142.0.csv\n"
          ]
        },
        {
          "output_type": "stream",
          "name": "stderr",
          "text": [
            "\rProcessing CSV files:  48%|████▊     | 137/286 [02:04<02:35,  1.04s/it]"
          ]
        },
        {
          "output_type": "stream",
          "name": "stdout",
          "text": [
            "Processing file: /content/drive/MyDrive/MiB Dataset/A Fresh Start/User Files Train/subfolder_4/2376920149.0.csv\n"
          ]
        },
        {
          "output_type": "stream",
          "name": "stderr",
          "text": [
            "\rProcessing CSV files:  48%|████▊     | 138/286 [02:04<02:17,  1.07it/s]"
          ]
        },
        {
          "output_type": "stream",
          "name": "stdout",
          "text": [
            "Processing file: /content/drive/MyDrive/MiB Dataset/A Fresh Start/User Files Train/subfolder_4/2380183135.0.csv\n"
          ]
        },
        {
          "output_type": "stream",
          "name": "stderr",
          "text": [
            "\rProcessing CSV files:  49%|████▊     | 139/286 [02:05<02:14,  1.09it/s]"
          ]
        },
        {
          "output_type": "stream",
          "name": "stdout",
          "text": [
            "Processing file: /content/drive/MyDrive/MiB Dataset/A Fresh Start/User Files Train/subfolder_4/2377772335.0.csv\n"
          ]
        },
        {
          "output_type": "stream",
          "name": "stderr",
          "text": [
            "\rProcessing CSV files:  49%|████▉     | 140/286 [02:06<02:05,  1.17it/s]"
          ]
        },
        {
          "output_type": "stream",
          "name": "stdout",
          "text": [
            "Processing file: /content/drive/MyDrive/MiB Dataset/A Fresh Start/User Files Train/subfolder_4/2378693646.0.csv\n"
          ]
        },
        {
          "output_type": "stream",
          "name": "stderr",
          "text": [
            "\rProcessing CSV files:  49%|████▉     | 141/286 [02:07<01:58,  1.22it/s]"
          ]
        },
        {
          "output_type": "stream",
          "name": "stdout",
          "text": [
            "Processing file: /content/drive/MyDrive/MiB Dataset/A Fresh Start/User Files Train/subfolder_4/2378545333.0.csv\n"
          ]
        },
        {
          "output_type": "stream",
          "name": "stderr",
          "text": [
            "\rProcessing CSV files:  50%|████▉     | 142/286 [02:07<01:55,  1.25it/s]"
          ]
        },
        {
          "output_type": "stream",
          "name": "stdout",
          "text": [
            "Processing file: /content/drive/MyDrive/MiB Dataset/A Fresh Start/User Files Train/subfolder_4/2377230032.0.csv\n"
          ]
        },
        {
          "output_type": "stream",
          "name": "stderr",
          "text": [
            "\rProcessing CSV files:  50%|█████     | 143/286 [02:08<01:51,  1.28it/s]"
          ]
        },
        {
          "output_type": "stream",
          "name": "stdout",
          "text": [
            "Processing file: /content/drive/MyDrive/MiB Dataset/A Fresh Start/User Files Train/subfolder_4/2377407865.0.csv\n"
          ]
        },
        {
          "output_type": "stream",
          "name": "stderr",
          "text": [
            "\rProcessing CSV files:  50%|█████     | 144/286 [02:09<01:48,  1.31it/s]"
          ]
        },
        {
          "output_type": "stream",
          "name": "stdout",
          "text": [
            "Processing file: /content/drive/MyDrive/MiB Dataset/A Fresh Start/User Files Train/subfolder_4/2377039507.0.csv\n"
          ]
        },
        {
          "output_type": "stream",
          "name": "stderr",
          "text": [
            "\rProcessing CSV files:  51%|█████     | 145/286 [02:10<01:49,  1.29it/s]"
          ]
        },
        {
          "output_type": "stream",
          "name": "stdout",
          "text": [
            "Processing file: /content/drive/MyDrive/MiB Dataset/A Fresh Start/User Files Train/subfolder_4/2379106592.0.csv\n"
          ]
        },
        {
          "output_type": "stream",
          "name": "stderr",
          "text": [
            "\rProcessing CSV files:  51%|█████     | 146/286 [02:10<01:45,  1.33it/s]"
          ]
        },
        {
          "output_type": "stream",
          "name": "stdout",
          "text": [
            "Processing file: /content/drive/MyDrive/MiB Dataset/A Fresh Start/User Files Train/subfolder_4/2379050120.0.csv\n"
          ]
        },
        {
          "output_type": "stream",
          "name": "stderr",
          "text": [
            "\rProcessing CSV files:  51%|█████▏    | 147/286 [02:11<01:41,  1.37it/s]"
          ]
        },
        {
          "output_type": "stream",
          "name": "stdout",
          "text": [
            "Processing file: /content/drive/MyDrive/MiB Dataset/A Fresh Start/User Files Train/subfolder_4/2377127558.0.csv\n"
          ]
        },
        {
          "output_type": "stream",
          "name": "stderr",
          "text": [
            "\rProcessing CSV files:  52%|█████▏    | 148/286 [02:12<01:39,  1.38it/s]"
          ]
        },
        {
          "output_type": "stream",
          "name": "stdout",
          "text": [
            "Processing file: /content/drive/MyDrive/MiB Dataset/A Fresh Start/User Files Train/subfolder_4/2377545649.0.csv\n"
          ]
        },
        {
          "output_type": "stream",
          "name": "stderr",
          "text": [
            "\rProcessing CSV files:  52%|█████▏    | 149/286 [02:13<01:37,  1.40it/s]"
          ]
        },
        {
          "output_type": "stream",
          "name": "stdout",
          "text": [
            "Processing file: /content/drive/MyDrive/MiB Dataset/A Fresh Start/User Files Train/subfolder_4/2378002104.0.csv\n"
          ]
        },
        {
          "output_type": "stream",
          "name": "stderr",
          "text": [
            "\rProcessing CSV files:  52%|█████▏    | 150/286 [02:14<01:56,  1.17it/s]"
          ]
        },
        {
          "output_type": "stream",
          "name": "stdout",
          "text": [
            "Processing file: /content/drive/MyDrive/MiB Dataset/A Fresh Start/User Files Train/subfolder_4/2378500051.0.csv\n"
          ]
        },
        {
          "output_type": "stream",
          "name": "stderr",
          "text": [
            "\rProcessing CSV files:  53%|█████▎    | 151/286 [02:15<02:02,  1.11it/s]"
          ]
        },
        {
          "output_type": "stream",
          "name": "stdout",
          "text": [
            "Processing file: /content/drive/MyDrive/MiB Dataset/A Fresh Start/User Files Train/subfolder_4/2378102185.0.csv\n"
          ]
        },
        {
          "output_type": "stream",
          "name": "stderr",
          "text": [
            "\rProcessing CSV files:  53%|█████▎    | 152/286 [02:16<02:12,  1.01it/s]"
          ]
        },
        {
          "output_type": "stream",
          "name": "stdout",
          "text": [
            "Processing file: /content/drive/MyDrive/MiB Dataset/A Fresh Start/User Files Train/subfolder_4/2378429094.0.csv\n"
          ]
        },
        {
          "output_type": "stream",
          "name": "stderr",
          "text": [
            "\rProcessing CSV files:  53%|█████▎    | 153/286 [02:17<02:08,  1.04it/s]"
          ]
        },
        {
          "output_type": "stream",
          "name": "stdout",
          "text": [
            "Processing file: /content/drive/MyDrive/MiB Dataset/A Fresh Start/User Files Train/subfolder_4/2380768238.0.csv\n"
          ]
        },
        {
          "output_type": "stream",
          "name": "stderr",
          "text": [
            "\rProcessing CSV files:  54%|█████▍    | 154/286 [02:17<01:54,  1.15it/s]"
          ]
        },
        {
          "output_type": "stream",
          "name": "stdout",
          "text": [
            "Processing file: /content/drive/MyDrive/MiB Dataset/A Fresh Start/User Files Train/subfolder_4/2378299286.0.csv\n"
          ]
        },
        {
          "output_type": "stream",
          "name": "stderr",
          "text": [
            "\rProcessing CSV files:  54%|█████▍    | 155/286 [02:18<01:53,  1.15it/s]"
          ]
        },
        {
          "output_type": "stream",
          "name": "stdout",
          "text": [
            "Processing file: /content/drive/MyDrive/MiB Dataset/A Fresh Start/User Files Train/subfolder_4/2378115960.0.csv\n"
          ]
        },
        {
          "output_type": "stream",
          "name": "stderr",
          "text": [
            "\rProcessing CSV files:  55%|█████▍    | 156/286 [02:19<01:48,  1.20it/s]"
          ]
        },
        {
          "output_type": "stream",
          "name": "stdout",
          "text": [
            "Processing file: /content/drive/MyDrive/MiB Dataset/A Fresh Start/User Files Train/subfolder_4/2376841279.0.csv\n"
          ]
        },
        {
          "output_type": "stream",
          "name": "stderr",
          "text": [
            "\rProcessing CSV files:  55%|█████▍    | 157/286 [02:20<01:40,  1.28it/s]"
          ]
        },
        {
          "output_type": "stream",
          "name": "stdout",
          "text": [
            "Processing file: /content/drive/MyDrive/MiB Dataset/A Fresh Start/User Files Train/subfolder_4/2380406281.0.csv\n"
          ]
        },
        {
          "output_type": "stream",
          "name": "stderr",
          "text": [
            "\rProcessing CSV files:  55%|█████▌    | 158/286 [02:21<01:41,  1.27it/s]"
          ]
        },
        {
          "output_type": "stream",
          "name": "stdout",
          "text": [
            "Processing file: /content/drive/MyDrive/MiB Dataset/A Fresh Start/User Files Train/subfolder_4/2377636812.0.csv\n"
          ]
        },
        {
          "output_type": "stream",
          "name": "stderr",
          "text": [
            "\rProcessing CSV files:  56%|█████▌    | 159/286 [02:21<01:35,  1.33it/s]"
          ]
        },
        {
          "output_type": "stream",
          "name": "stdout",
          "text": [
            "Processing file: /content/drive/MyDrive/MiB Dataset/A Fresh Start/User Files Train/subfolder_4/2377034816.0.csv\n"
          ]
        },
        {
          "output_type": "stream",
          "name": "stderr",
          "text": [
            "\rProcessing CSV files:  56%|█████▌    | 160/286 [02:22<01:34,  1.33it/s]"
          ]
        },
        {
          "output_type": "stream",
          "name": "stdout",
          "text": [
            "Processing file: /content/drive/MyDrive/MiB Dataset/A Fresh Start/User Files Train/subfolder_4/2380045964.0.csv\n"
          ]
        },
        {
          "output_type": "stream",
          "name": "stderr",
          "text": [
            "\rProcessing CSV files:  56%|█████▋    | 161/286 [02:23<01:34,  1.32it/s]"
          ]
        },
        {
          "output_type": "stream",
          "name": "stdout",
          "text": [
            "Processing file: /content/drive/MyDrive/MiB Dataset/A Fresh Start/User Files Train/subfolder_4/2376967352.0.csv\n"
          ]
        },
        {
          "output_type": "stream",
          "name": "stderr",
          "text": [
            "\rProcessing CSV files:  57%|█████▋    | 162/286 [02:23<01:28,  1.40it/s]"
          ]
        },
        {
          "output_type": "stream",
          "name": "stdout",
          "text": [
            "Processing file: /content/drive/MyDrive/MiB Dataset/A Fresh Start/User Files Train/subfolder_4/2378075172.0.csv\n"
          ]
        },
        {
          "output_type": "stream",
          "name": "stderr",
          "text": [
            "\rProcessing CSV files:  57%|█████▋    | 163/286 [02:24<01:26,  1.41it/s]"
          ]
        },
        {
          "output_type": "stream",
          "name": "stdout",
          "text": [
            "Processing file: /content/drive/MyDrive/MiB Dataset/A Fresh Start/User Files Train/subfolder_4/2379801618.0.csv\n"
          ]
        },
        {
          "output_type": "stream",
          "name": "stderr",
          "text": [
            "\rProcessing CSV files:  57%|█████▋    | 164/286 [02:25<01:29,  1.36it/s]"
          ]
        },
        {
          "output_type": "stream",
          "name": "stdout",
          "text": [
            "Processing file: /content/drive/MyDrive/MiB Dataset/A Fresh Start/User Files Train/subfolder_4/2378230656.0.csv\n"
          ]
        },
        {
          "output_type": "stream",
          "name": "stderr",
          "text": [
            "\rProcessing CSV files:  58%|█████▊    | 165/286 [02:25<01:25,  1.42it/s]"
          ]
        },
        {
          "output_type": "stream",
          "name": "stdout",
          "text": [
            "Processing file: /content/drive/MyDrive/MiB Dataset/A Fresh Start/User Files Train/subfolder_4/2378650778.0.csv\n"
          ]
        },
        {
          "output_type": "stream",
          "name": "stderr",
          "text": [
            "\rProcessing CSV files:  58%|█████▊    | 166/286 [02:26<01:28,  1.35it/s]"
          ]
        },
        {
          "output_type": "stream",
          "name": "stdout",
          "text": [
            "Processing file: /content/drive/MyDrive/MiB Dataset/A Fresh Start/User Files Train/subfolder_4/2377769551.0.csv\n"
          ]
        },
        {
          "output_type": "stream",
          "name": "stderr",
          "text": [
            "\rProcessing CSV files:  58%|█████▊    | 167/286 [02:27<01:39,  1.19it/s]"
          ]
        },
        {
          "output_type": "stream",
          "name": "stdout",
          "text": [
            "Processing file: /content/drive/MyDrive/MiB Dataset/A Fresh Start/User Files Train/subfolder_4/2379473820.0.csv\n"
          ]
        },
        {
          "output_type": "stream",
          "name": "stderr",
          "text": [
            "\rProcessing CSV files:  59%|█████▊    | 168/286 [02:29<01:51,  1.06it/s]"
          ]
        },
        {
          "output_type": "stream",
          "name": "stdout",
          "text": [
            "Processing file: /content/drive/MyDrive/MiB Dataset/A Fresh Start/User Files Train/subfolder_4/2378868756.0.csv\n"
          ]
        },
        {
          "output_type": "stream",
          "name": "stderr",
          "text": [
            "\rProcessing CSV files:  59%|█████▉    | 169/286 [02:30<01:54,  1.02it/s]"
          ]
        },
        {
          "output_type": "stream",
          "name": "stdout",
          "text": [
            "Processing file: /content/drive/MyDrive/MiB Dataset/A Fresh Start/User Files Train/subfolder_4/2378875842.0.csv\n"
          ]
        },
        {
          "output_type": "stream",
          "name": "stderr",
          "text": [
            "\rProcessing CSV files:  59%|█████▉    | 170/286 [02:30<01:50,  1.05it/s]"
          ]
        },
        {
          "output_type": "stream",
          "name": "stdout",
          "text": [
            "Processing file: /content/drive/MyDrive/MiB Dataset/A Fresh Start/User Files Train/subfolder_4/2378157224.0.csv\n"
          ]
        },
        {
          "output_type": "stream",
          "name": "stderr",
          "text": [
            "\rProcessing CSV files:  60%|█████▉    | 171/286 [02:31<01:42,  1.12it/s]"
          ]
        },
        {
          "output_type": "stream",
          "name": "stdout",
          "text": [
            "Processing file: /content/drive/MyDrive/MiB Dataset/A Fresh Start/User Files Train/subfolder_4/2379836293.0.csv\n"
          ]
        },
        {
          "output_type": "stream",
          "name": "stderr",
          "text": [
            "\rProcessing CSV files:  60%|██████    | 172/286 [02:32<01:33,  1.22it/s]"
          ]
        },
        {
          "output_type": "stream",
          "name": "stdout",
          "text": [
            "Processing file: /content/drive/MyDrive/MiB Dataset/A Fresh Start/User Files Train/subfolder_4/2380773902.0.csv\n"
          ]
        },
        {
          "output_type": "stream",
          "name": "stderr",
          "text": [
            "\rProcessing CSV files:  60%|██████    | 173/286 [02:33<01:30,  1.24it/s]"
          ]
        },
        {
          "output_type": "stream",
          "name": "stdout",
          "text": [
            "Processing file: /content/drive/MyDrive/MiB Dataset/A Fresh Start/User Files Train/subfolder_4/2376954991.0.csv\n"
          ]
        },
        {
          "output_type": "stream",
          "name": "stderr",
          "text": [
            "\rProcessing CSV files:  61%|██████    | 174/286 [02:33<01:27,  1.28it/s]"
          ]
        },
        {
          "output_type": "stream",
          "name": "stdout",
          "text": [
            "Processing file: /content/drive/MyDrive/MiB Dataset/A Fresh Start/User Files Train/subfolder_4/2379517262.0.csv\n"
          ]
        },
        {
          "output_type": "stream",
          "name": "stderr",
          "text": [
            "\rProcessing CSV files:  61%|██████    | 175/286 [02:34<01:28,  1.26it/s]"
          ]
        },
        {
          "output_type": "stream",
          "name": "stdout",
          "text": [
            "Processing file: /content/drive/MyDrive/MiB Dataset/A Fresh Start/User Files Train/subfolder_4/2380413493.0.csv\n"
          ]
        },
        {
          "output_type": "stream",
          "name": "stderr",
          "text": [
            "\rProcessing CSV files:  62%|██████▏   | 176/286 [02:35<01:29,  1.24it/s]"
          ]
        },
        {
          "output_type": "stream",
          "name": "stdout",
          "text": [
            "Processing file: /content/drive/MyDrive/MiB Dataset/A Fresh Start/User Files Train/subfolder_4/2376957437.0.csv\n",
            "Processing file: /content/drive/MyDrive/MiB Dataset/A Fresh Start/User Files Train/subfolder_4/2377835432.0.csv\n"
          ]
        },
        {
          "output_type": "stream",
          "name": "stderr",
          "text": [
            "\rProcessing CSV files:  62%|██████▏   | 178/286 [02:36<01:05,  1.65it/s]"
          ]
        },
        {
          "output_type": "stream",
          "name": "stdout",
          "text": [
            "Processing file: /content/drive/MyDrive/MiB Dataset/A Fresh Start/User Files Train/subfolder_4/2378318810.0.csv\n"
          ]
        },
        {
          "output_type": "stream",
          "name": "stderr",
          "text": [
            "\rProcessing CSV files:  63%|██████▎   | 179/286 [02:36<01:06,  1.62it/s]"
          ]
        },
        {
          "output_type": "stream",
          "name": "stdout",
          "text": [
            "Processing file: /content/drive/MyDrive/MiB Dataset/A Fresh Start/User Files Train/subfolder_4/2378980568.0.csv\n"
          ]
        },
        {
          "output_type": "stream",
          "name": "stderr",
          "text": [
            "\rProcessing CSV files:  63%|██████▎   | 180/286 [02:37<01:07,  1.56it/s]"
          ]
        },
        {
          "output_type": "stream",
          "name": "stdout",
          "text": [
            "Processing file: /content/drive/MyDrive/MiB Dataset/A Fresh Start/User Files Train/subfolder_4/2377206811.0.csv\n"
          ]
        },
        {
          "output_type": "stream",
          "name": "stderr",
          "text": [
            "\rProcessing CSV files:  63%|██████▎   | 181/286 [02:38<01:07,  1.55it/s]"
          ]
        },
        {
          "output_type": "stream",
          "name": "stdout",
          "text": [
            "Processing file: /content/drive/MyDrive/MiB Dataset/A Fresh Start/User Files Train/subfolder_4/2377870790.0.csv\n"
          ]
        },
        {
          "output_type": "stream",
          "name": "stderr",
          "text": [
            "\rProcessing CSV files:  64%|██████▎   | 182/286 [02:39<01:10,  1.47it/s]"
          ]
        },
        {
          "output_type": "stream",
          "name": "stdout",
          "text": [
            "Processing file: /content/drive/MyDrive/MiB Dataset/A Fresh Start/User Files Train/subfolder_4/2380231328.0.csv\n"
          ]
        },
        {
          "output_type": "stream",
          "name": "stderr",
          "text": [
            "\rProcessing CSV files:  64%|██████▍   | 183/286 [02:40<01:22,  1.25it/s]"
          ]
        },
        {
          "output_type": "stream",
          "name": "stdout",
          "text": [
            "Processing file: /content/drive/MyDrive/MiB Dataset/A Fresh Start/User Files Train/subfolder_4/2377656308.0.csv\n"
          ]
        },
        {
          "output_type": "stream",
          "name": "stderr",
          "text": [
            "\rProcessing CSV files:  64%|██████▍   | 184/286 [02:41<01:32,  1.11it/s]"
          ]
        },
        {
          "output_type": "stream",
          "name": "stdout",
          "text": [
            "Processing file: /content/drive/MyDrive/MiB Dataset/A Fresh Start/User Files Train/subfolder_4/2380444051.0.csv\n"
          ]
        },
        {
          "output_type": "stream",
          "name": "stderr",
          "text": [
            "\rProcessing CSV files:  65%|██████▍   | 185/286 [02:42<01:42,  1.02s/it]"
          ]
        },
        {
          "output_type": "stream",
          "name": "stdout",
          "text": [
            "Processing file: /content/drive/MyDrive/MiB Dataset/A Fresh Start/User Files Train/subfolder_4/2377056618.0.csv\n"
          ]
        },
        {
          "output_type": "stream",
          "name": "stderr",
          "text": [
            "\rProcessing CSV files:  65%|██████▌   | 186/286 [02:43<01:41,  1.01s/it]"
          ]
        },
        {
          "output_type": "stream",
          "name": "stdout",
          "text": [
            "Processing file: /content/drive/MyDrive/MiB Dataset/A Fresh Start/User Files Train/subfolder_4/2378847420.0.csv\n"
          ]
        },
        {
          "output_type": "stream",
          "name": "stderr",
          "text": [
            "\rProcessing CSV files:  65%|██████▌   | 187/286 [02:44<01:46,  1.08s/it]"
          ]
        },
        {
          "output_type": "stream",
          "name": "stdout",
          "text": [
            "Processing file: /content/drive/MyDrive/MiB Dataset/A Fresh Start/User Files Train/subfolder_4/2379174853.0.csv\n"
          ]
        },
        {
          "output_type": "stream",
          "name": "stderr",
          "text": [
            "\rProcessing CSV files:  66%|██████▌   | 188/286 [02:46<01:55,  1.18s/it]"
          ]
        },
        {
          "output_type": "stream",
          "name": "stdout",
          "text": [
            "Processing file: /content/drive/MyDrive/MiB Dataset/A Fresh Start/User Files Train/subfolder_4/2377297692.0.csv\n"
          ]
        },
        {
          "output_type": "stream",
          "name": "stderr",
          "text": [
            "\rProcessing CSV files:  66%|██████▌   | 189/286 [02:48<02:17,  1.42s/it]"
          ]
        },
        {
          "output_type": "stream",
          "name": "stdout",
          "text": [
            "Processing file: /content/drive/MyDrive/MiB Dataset/A Fresh Start/User Files Train/subfolder_4/2378440728.0.csv\n"
          ]
        },
        {
          "output_type": "stream",
          "name": "stderr",
          "text": [
            "\rProcessing CSV files:  66%|██████▋   | 190/286 [02:49<02:22,  1.49s/it]"
          ]
        },
        {
          "output_type": "stream",
          "name": "stdout",
          "text": [
            "Processing file: /content/drive/MyDrive/MiB Dataset/A Fresh Start/User Files Train/subfolder_4/2378044849.0.csv\n"
          ]
        },
        {
          "output_type": "stream",
          "name": "stderr",
          "text": [
            "\rProcessing CSV files:  67%|██████▋   | 191/286 [02:51<02:24,  1.52s/it]"
          ]
        },
        {
          "output_type": "stream",
          "name": "stdout",
          "text": [
            "Processing file: /content/drive/MyDrive/MiB Dataset/A Fresh Start/User Files Train/subfolder_4/2379454507.0.csv\n"
          ]
        },
        {
          "output_type": "stream",
          "name": "stderr",
          "text": [
            "\rProcessing CSV files:  67%|██████▋   | 192/286 [02:52<01:59,  1.27s/it]"
          ]
        },
        {
          "output_type": "stream",
          "name": "stdout",
          "text": [
            "Processing file: /content/drive/MyDrive/MiB Dataset/A Fresh Start/User Files Train/subfolder_4/2380630098.0.csv\n"
          ]
        },
        {
          "output_type": "stream",
          "name": "stderr",
          "text": [
            "\rProcessing CSV files:  67%|██████▋   | 193/286 [02:52<01:42,  1.11s/it]"
          ]
        },
        {
          "output_type": "stream",
          "name": "stdout",
          "text": [
            "Processing file: /content/drive/MyDrive/MiB Dataset/A Fresh Start/User Files Train/subfolder_4/2376970520.0.csv\n"
          ]
        },
        {
          "output_type": "stream",
          "name": "stderr",
          "text": [
            "\rProcessing CSV files:  68%|██████▊   | 194/286 [02:53<01:33,  1.01s/it]"
          ]
        },
        {
          "output_type": "stream",
          "name": "stdout",
          "text": [
            "Processing file: /content/drive/MyDrive/MiB Dataset/A Fresh Start/User Files Train/subfolder_4/2376467790.0.csv\n"
          ]
        },
        {
          "output_type": "stream",
          "name": "stderr",
          "text": [
            "\rProcessing CSV files:  68%|██████▊   | 195/286 [02:54<01:25,  1.06it/s]"
          ]
        },
        {
          "output_type": "stream",
          "name": "stdout",
          "text": [
            "Processing file: /content/drive/MyDrive/MiB Dataset/A Fresh Start/User Files Train/subfolder_4/2377877443.0.csv\n"
          ]
        },
        {
          "output_type": "stream",
          "name": "stderr",
          "text": [
            "\rProcessing CSV files:  69%|██████▊   | 196/286 [02:55<01:20,  1.12it/s]"
          ]
        },
        {
          "output_type": "stream",
          "name": "stdout",
          "text": [
            "Processing file: /content/drive/MyDrive/MiB Dataset/A Fresh Start/User Files Train/subfolder_4/2377571616.0.csv\n"
          ]
        },
        {
          "output_type": "stream",
          "name": "stderr",
          "text": [
            "\rProcessing CSV files:  69%|██████▉   | 197/286 [02:55<01:13,  1.21it/s]"
          ]
        },
        {
          "output_type": "stream",
          "name": "stdout",
          "text": [
            "Processing file: /content/drive/MyDrive/MiB Dataset/A Fresh Start/User Files Train/subfolder_4/2376483733.0.csv\n"
          ]
        },
        {
          "output_type": "stream",
          "name": "stderr",
          "text": [
            "\rProcessing CSV files:  69%|██████▉   | 198/286 [02:56<01:06,  1.32it/s]"
          ]
        },
        {
          "output_type": "stream",
          "name": "stdout",
          "text": [
            "Processing file: /content/drive/MyDrive/MiB Dataset/A Fresh Start/User Files Train/subfolder_4/2378140945.0.csv\n"
          ]
        },
        {
          "output_type": "stream",
          "name": "stderr",
          "text": [
            "\rProcessing CSV files:  70%|██████▉   | 199/286 [03:08<05:47,  3.99s/it]"
          ]
        },
        {
          "output_type": "stream",
          "name": "stdout",
          "text": [
            "Processing file: /content/drive/MyDrive/MiB Dataset/A Fresh Start/User Files Train/subfolder_4/2378812603.0.csv\n"
          ]
        },
        {
          "output_type": "stream",
          "name": "stderr",
          "text": [
            "\rProcessing CSV files:  70%|██████▉   | 200/286 [03:08<04:19,  3.01s/it]"
          ]
        },
        {
          "output_type": "stream",
          "name": "stdout",
          "text": [
            "Processing file: /content/drive/MyDrive/MiB Dataset/A Fresh Start/User Files Train/subfolder_4/2380303262.0.csv\n"
          ]
        },
        {
          "output_type": "stream",
          "name": "stderr",
          "text": [
            "\rProcessing CSV files:  70%|███████   | 201/286 [03:09<03:20,  2.35s/it]"
          ]
        },
        {
          "output_type": "stream",
          "name": "stdout",
          "text": [
            "Processing file: /content/drive/MyDrive/MiB Dataset/A Fresh Start/User Files Train/subfolder_4/2376815587.0.csv\n"
          ]
        },
        {
          "output_type": "stream",
          "name": "stderr",
          "text": [
            "\rProcessing CSV files:  71%|███████   | 202/286 [03:10<02:38,  1.88s/it]"
          ]
        },
        {
          "output_type": "stream",
          "name": "stdout",
          "text": [
            "Processing file: /content/drive/MyDrive/MiB Dataset/A Fresh Start/User Files Train/subfolder_4/2377126058.0.csv\n"
          ]
        },
        {
          "output_type": "stream",
          "name": "stderr",
          "text": [
            "\rProcessing CSV files:  71%|███████   | 203/286 [03:10<02:04,  1.50s/it]"
          ]
        },
        {
          "output_type": "stream",
          "name": "stdout",
          "text": [
            "Processing file: /content/drive/MyDrive/MiB Dataset/A Fresh Start/User Files Train/subfolder_4/2378460950.0.csv\n"
          ]
        },
        {
          "output_type": "stream",
          "name": "stderr",
          "text": [
            "\rProcessing CSV files:  71%|███████▏  | 204/286 [03:11<01:45,  1.29s/it]"
          ]
        },
        {
          "output_type": "stream",
          "name": "stdout",
          "text": [
            "Processing file: /content/drive/MyDrive/MiB Dataset/A Fresh Start/User Files Train/subfolder_4/2377625022.0.csv\n"
          ]
        },
        {
          "output_type": "stream",
          "name": "stderr",
          "text": [
            "\rProcessing CSV files:  72%|███████▏  | 205/286 [03:12<01:34,  1.16s/it]"
          ]
        },
        {
          "output_type": "stream",
          "name": "stdout",
          "text": [
            "Processing file: /content/drive/MyDrive/MiB Dataset/A Fresh Start/User Files Train/subfolder_4/2376423918.0.csv\n"
          ]
        },
        {
          "output_type": "stream",
          "name": "stderr",
          "text": [
            "\rProcessing CSV files:  72%|███████▏  | 206/286 [03:13<01:28,  1.11s/it]"
          ]
        },
        {
          "output_type": "stream",
          "name": "stdout",
          "text": [
            "Processing file: /content/drive/MyDrive/MiB Dataset/A Fresh Start/User Files Train/subfolder_4/2376839882.0.csv\n"
          ]
        },
        {
          "output_type": "stream",
          "name": "stderr",
          "text": [
            "\rProcessing CSV files:  72%|███████▏  | 207/286 [03:14<01:24,  1.07s/it]"
          ]
        },
        {
          "output_type": "stream",
          "name": "stdout",
          "text": [
            "Processing file: /content/drive/MyDrive/MiB Dataset/A Fresh Start/User Files Train/subfolder_4/2378825264.0.csv\n"
          ]
        },
        {
          "output_type": "stream",
          "name": "stderr",
          "text": [
            "\rProcessing CSV files:  73%|███████▎  | 208/286 [03:15<01:27,  1.12s/it]"
          ]
        },
        {
          "output_type": "stream",
          "name": "stdout",
          "text": [
            "Processing file: /content/drive/MyDrive/MiB Dataset/A Fresh Start/User Files Train/subfolder_4/2377718964.0.csv\n"
          ]
        },
        {
          "output_type": "stream",
          "name": "stderr",
          "text": [
            "\rProcessing CSV files:  73%|███████▎  | 209/286 [03:16<01:18,  1.01s/it]"
          ]
        },
        {
          "output_type": "stream",
          "name": "stdout",
          "text": [
            "Processing file: /content/drive/MyDrive/MiB Dataset/A Fresh Start/User Files Train/subfolder_4/2378226494.0.csv\n"
          ]
        },
        {
          "output_type": "stream",
          "name": "stderr",
          "text": [
            "\rProcessing CSV files:  73%|███████▎  | 210/286 [03:17<01:12,  1.05it/s]"
          ]
        },
        {
          "output_type": "stream",
          "name": "stdout",
          "text": [
            "Processing file: /content/drive/MyDrive/MiB Dataset/A Fresh Start/User Files Train/subfolder_4/2380507915.0.csv\n"
          ]
        },
        {
          "output_type": "stream",
          "name": "stderr",
          "text": [
            "\rProcessing CSV files:  74%|███████▍  | 211/286 [03:18<01:05,  1.15it/s]"
          ]
        },
        {
          "output_type": "stream",
          "name": "stdout",
          "text": [
            "Processing file: /content/drive/MyDrive/MiB Dataset/A Fresh Start/User Files Train/subfolder_4/2380766137.0.csv\n"
          ]
        },
        {
          "output_type": "stream",
          "name": "stderr",
          "text": [
            "\rProcessing CSV files:  74%|███████▍  | 212/286 [03:18<01:00,  1.22it/s]"
          ]
        },
        {
          "output_type": "stream",
          "name": "stdout",
          "text": [
            "Processing file: /content/drive/MyDrive/MiB Dataset/A Fresh Start/User Files Train/subfolder_4/2377853522.0.csv\n"
          ]
        },
        {
          "output_type": "stream",
          "name": "stderr",
          "text": [
            "\rProcessing CSV files:  74%|███████▍  | 213/286 [03:19<00:57,  1.27it/s]"
          ]
        },
        {
          "output_type": "stream",
          "name": "stdout",
          "text": [
            "Processing file: /content/drive/MyDrive/MiB Dataset/A Fresh Start/User Files Train/subfolder_4/2379958296.0.csv\n"
          ]
        },
        {
          "output_type": "stream",
          "name": "stderr",
          "text": [
            "\rProcessing CSV files:  75%|███████▍  | 214/286 [03:20<00:55,  1.30it/s]"
          ]
        },
        {
          "output_type": "stream",
          "name": "stdout",
          "text": [
            "Processing file: /content/drive/MyDrive/MiB Dataset/A Fresh Start/User Files Train/subfolder_4/2380473392.0.csv\n"
          ]
        },
        {
          "output_type": "stream",
          "name": "stderr",
          "text": [
            "\rProcessing CSV files:  75%|███████▌  | 215/286 [03:20<00:51,  1.37it/s]"
          ]
        },
        {
          "output_type": "stream",
          "name": "stdout",
          "text": [
            "Processing file: /content/drive/MyDrive/MiB Dataset/A Fresh Start/User Files Train/subfolder_4/2378653928.0.csv\n"
          ]
        },
        {
          "output_type": "stream",
          "name": "stderr",
          "text": [
            "\rProcessing CSV files:  76%|███████▌  | 216/286 [03:21<00:50,  1.38it/s]"
          ]
        },
        {
          "output_type": "stream",
          "name": "stdout",
          "text": [
            "Processing file: /content/drive/MyDrive/MiB Dataset/A Fresh Start/User Files Train/subfolder_4/2378091613.0.csv\n"
          ]
        },
        {
          "output_type": "stream",
          "name": "stderr",
          "text": [
            "\rProcessing CSV files:  76%|███████▌  | 217/286 [03:22<00:49,  1.40it/s]"
          ]
        },
        {
          "output_type": "stream",
          "name": "stdout",
          "text": [
            "Processing file: /content/drive/MyDrive/MiB Dataset/A Fresh Start/User Files Train/subfolder_4/2379771720.0.csv\n"
          ]
        },
        {
          "output_type": "stream",
          "name": "stderr",
          "text": [
            "\rProcessing CSV files:  76%|███████▌  | 218/286 [03:22<00:46,  1.45it/s]"
          ]
        },
        {
          "output_type": "stream",
          "name": "stdout",
          "text": [
            "Processing file: /content/drive/MyDrive/MiB Dataset/A Fresh Start/User Files Train/subfolder_4/2378475132.0.csv\n"
          ]
        },
        {
          "output_type": "stream",
          "name": "stderr",
          "text": [
            "\rProcessing CSV files:  77%|███████▋  | 219/286 [03:23<00:47,  1.41it/s]"
          ]
        },
        {
          "output_type": "stream",
          "name": "stdout",
          "text": [
            "Processing file: /content/drive/MyDrive/MiB Dataset/A Fresh Start/User Files Train/subfolder_4/2380459284.0.csv\n"
          ]
        },
        {
          "output_type": "stream",
          "name": "stderr",
          "text": [
            "\rProcessing CSV files:  77%|███████▋  | 220/286 [03:24<00:48,  1.36it/s]"
          ]
        },
        {
          "output_type": "stream",
          "name": "stdout",
          "text": [
            "Processing file: /content/drive/MyDrive/MiB Dataset/A Fresh Start/User Files Train/subfolder_4/2377029840.0.csv\n"
          ]
        },
        {
          "output_type": "stream",
          "name": "stderr",
          "text": [
            "\rProcessing CSV files:  77%|███████▋  | 221/286 [03:25<00:46,  1.40it/s]"
          ]
        },
        {
          "output_type": "stream",
          "name": "stdout",
          "text": [
            "Processing file: /content/drive/MyDrive/MiB Dataset/A Fresh Start/User Files Train/subfolder_4/2380452584.0.csv\n"
          ]
        },
        {
          "output_type": "stream",
          "name": "stderr",
          "text": [
            "\rProcessing CSV files:  78%|███████▊  | 222/286 [03:25<00:45,  1.40it/s]"
          ]
        },
        {
          "output_type": "stream",
          "name": "stdout",
          "text": [
            "Processing file: /content/drive/MyDrive/MiB Dataset/A Fresh Start/User Files Train/subfolder_4/2377722692.0.csv\n"
          ]
        },
        {
          "output_type": "stream",
          "name": "stderr",
          "text": [
            "\rProcessing CSV files:  78%|███████▊  | 223/286 [03:26<00:47,  1.31it/s]"
          ]
        },
        {
          "output_type": "stream",
          "name": "stdout",
          "text": [
            "Processing file: /content/drive/MyDrive/MiB Dataset/A Fresh Start/User Files Train/subfolder_4/2376429912.0.csv\n"
          ]
        },
        {
          "output_type": "stream",
          "name": "stderr",
          "text": [
            "\rProcessing CSV files:  78%|███████▊  | 224/286 [03:27<00:49,  1.25it/s]"
          ]
        },
        {
          "output_type": "stream",
          "name": "stdout",
          "text": [
            "Processing file: /content/drive/MyDrive/MiB Dataset/A Fresh Start/User Files Train/subfolder_4/2379797204.0.csv\n"
          ]
        },
        {
          "output_type": "stream",
          "name": "stderr",
          "text": [
            "\rProcessing CSV files:  79%|███████▊  | 225/286 [03:28<00:55,  1.10it/s]"
          ]
        },
        {
          "output_type": "stream",
          "name": "stdout",
          "text": [
            "Processing file: /content/drive/MyDrive/MiB Dataset/A Fresh Start/User Files Train/subfolder_4/2376495600.0.csv\n"
          ]
        },
        {
          "output_type": "stream",
          "name": "stderr",
          "text": [
            "\rProcessing CSV files:  79%|███████▉  | 226/286 [03:29<00:56,  1.06it/s]"
          ]
        },
        {
          "output_type": "stream",
          "name": "stdout",
          "text": [
            "Processing file: /content/drive/MyDrive/MiB Dataset/A Fresh Start/User Files Train/subfolder_4/2380214491.0.csv\n"
          ]
        },
        {
          "output_type": "stream",
          "name": "stderr",
          "text": [
            "\rProcessing CSV files:  79%|███████▉  | 227/286 [03:30<00:51,  1.14it/s]"
          ]
        },
        {
          "output_type": "stream",
          "name": "stdout",
          "text": [
            "Processing file: /content/drive/MyDrive/MiB Dataset/A Fresh Start/User Files Train/subfolder_4/2379874970.0.csv\n"
          ]
        },
        {
          "output_type": "stream",
          "name": "stderr",
          "text": [
            "\rProcessing CSV files:  80%|███████▉  | 228/286 [03:31<00:48,  1.19it/s]"
          ]
        },
        {
          "output_type": "stream",
          "name": "stdout",
          "text": [
            "Processing file: /content/drive/MyDrive/MiB Dataset/A Fresh Start/User Files Train/subfolder_4/2377130654.0.csv\n"
          ]
        },
        {
          "output_type": "stream",
          "name": "stderr",
          "text": [
            "\rProcessing CSV files:  80%|████████  | 229/286 [03:31<00:45,  1.26it/s]"
          ]
        },
        {
          "output_type": "stream",
          "name": "stdout",
          "text": [
            "Processing file: /content/drive/MyDrive/MiB Dataset/A Fresh Start/User Files Train/subfolder_4/2377678136.0.csv\n"
          ]
        },
        {
          "output_type": "stream",
          "name": "stderr",
          "text": [
            "\rProcessing CSV files:  80%|████████  | 230/286 [03:32<00:44,  1.26it/s]"
          ]
        },
        {
          "output_type": "stream",
          "name": "stdout",
          "text": [
            "Processing file: /content/drive/MyDrive/MiB Dataset/A Fresh Start/User Files Train/subfolder_4/2380777692.0.csv\n"
          ]
        },
        {
          "output_type": "stream",
          "name": "stderr",
          "text": [
            "\rProcessing CSV files:  81%|████████  | 231/286 [03:34<00:55,  1.01s/it]"
          ]
        },
        {
          "output_type": "stream",
          "name": "stdout",
          "text": [
            "Processing file: /content/drive/MyDrive/MiB Dataset/A Fresh Start/User Files Train/subfolder_4/2379541638.0.csv\n"
          ]
        },
        {
          "output_type": "stream",
          "name": "stderr",
          "text": [
            "\rProcessing CSV files:  81%|████████  | 232/286 [03:35<01:01,  1.15s/it]"
          ]
        },
        {
          "output_type": "stream",
          "name": "stdout",
          "text": [
            "Processing file: /content/drive/MyDrive/MiB Dataset/A Fresh Start/User Files Train/subfolder_4/2380043263.0.csv\n"
          ]
        },
        {
          "output_type": "stream",
          "name": "stderr",
          "text": [
            "\rProcessing CSV files:  81%|████████▏ | 233/286 [03:36<00:58,  1.11s/it]"
          ]
        },
        {
          "output_type": "stream",
          "name": "stdout",
          "text": [
            "Processing file: /content/drive/MyDrive/MiB Dataset/A Fresh Start/User Files Train/subfolder_4/2379750060.0.csv\n"
          ]
        },
        {
          "output_type": "stream",
          "name": "stderr",
          "text": [
            "\rProcessing CSV files:  82%|████████▏ | 234/286 [03:37<00:52,  1.01s/it]"
          ]
        },
        {
          "output_type": "stream",
          "name": "stdout",
          "text": [
            "Processing file: /content/drive/MyDrive/MiB Dataset/A Fresh Start/User Files Train/subfolder_4/2379108673.0.csv\n"
          ]
        },
        {
          "output_type": "stream",
          "name": "stderr",
          "text": [
            "\rProcessing CSV files:  82%|████████▏ | 235/286 [03:39<01:00,  1.18s/it]"
          ]
        },
        {
          "output_type": "stream",
          "name": "stdout",
          "text": [
            "Processing file: /content/drive/MyDrive/MiB Dataset/A Fresh Start/User Files Train/subfolder_4/2379422593.0.csv\n"
          ]
        },
        {
          "output_type": "stream",
          "name": "stderr",
          "text": [
            "\rProcessing CSV files:  83%|████████▎ | 236/286 [04:07<07:53,  9.47s/it]"
          ]
        },
        {
          "output_type": "stream",
          "name": "stdout",
          "text": [
            "Processing file: /content/drive/MyDrive/MiB Dataset/A Fresh Start/User Files Train/subfolder_4/2380797054.0.csv\n"
          ]
        },
        {
          "output_type": "stream",
          "name": "stderr",
          "text": [
            "\rProcessing CSV files:  83%|████████▎ | 237/286 [04:08<05:36,  6.88s/it]"
          ]
        },
        {
          "output_type": "stream",
          "name": "stdout",
          "text": [
            "Processing file: /content/drive/MyDrive/MiB Dataset/A Fresh Start/User Files Train/subfolder_4/2380732760.0.csv\n"
          ]
        },
        {
          "output_type": "stream",
          "name": "stderr",
          "text": [
            "\rProcessing CSV files:  83%|████████▎ | 238/286 [04:09<04:08,  5.18s/it]"
          ]
        },
        {
          "output_type": "stream",
          "name": "stdout",
          "text": [
            "Processing file: /content/drive/MyDrive/MiB Dataset/A Fresh Start/User Files Train/subfolder_4/2380724089.0.csv\n"
          ]
        },
        {
          "output_type": "stream",
          "name": "stderr",
          "text": [
            "\rProcessing CSV files:  84%|████████▎ | 239/286 [04:10<03:03,  3.91s/it]"
          ]
        },
        {
          "output_type": "stream",
          "name": "stdout",
          "text": [
            "Processing file: /content/drive/MyDrive/MiB Dataset/A Fresh Start/User Files Train/subfolder_4/2380458997.0.csv\n"
          ]
        },
        {
          "output_type": "stream",
          "name": "stderr",
          "text": [
            "\rProcessing CSV files:  84%|████████▍ | 240/286 [04:11<02:17,  2.98s/it]"
          ]
        },
        {
          "output_type": "stream",
          "name": "stdout",
          "text": [
            "Processing file: /content/drive/MyDrive/MiB Dataset/A Fresh Start/User Files Train/subfolder_4/2380402136.0.csv\n"
          ]
        },
        {
          "output_type": "stream",
          "name": "stderr",
          "text": [
            "\rProcessing CSV files:  84%|████████▍ | 241/286 [04:12<01:44,  2.31s/it]"
          ]
        },
        {
          "output_type": "stream",
          "name": "stdout",
          "text": [
            "Processing file: /content/drive/MyDrive/MiB Dataset/A Fresh Start/User Files Train/subfolder_4/2380368409.0.csv\n"
          ]
        },
        {
          "output_type": "stream",
          "name": "stderr",
          "text": [
            "\rProcessing CSV files:  85%|████████▍ | 242/286 [04:13<01:21,  1.86s/it]"
          ]
        },
        {
          "output_type": "stream",
          "name": "stdout",
          "text": [
            "Processing file: /content/drive/MyDrive/MiB Dataset/A Fresh Start/User Files Train/subfolder_4/2380298010.0.csv\n"
          ]
        },
        {
          "output_type": "stream",
          "name": "stderr",
          "text": [
            "\rProcessing CSV files:  85%|████████▍ | 243/286 [04:14<01:06,  1.55s/it]"
          ]
        },
        {
          "output_type": "stream",
          "name": "stdout",
          "text": [
            "Processing file: /content/drive/MyDrive/MiB Dataset/A Fresh Start/User Files Train/subfolder_4/2380151005.0.csv\n"
          ]
        },
        {
          "output_type": "stream",
          "name": "stderr",
          "text": [
            "\rProcessing CSV files:  85%|████████▌ | 244/286 [04:14<00:55,  1.31s/it]"
          ]
        },
        {
          "output_type": "stream",
          "name": "stdout",
          "text": [
            "Processing file: /content/drive/MyDrive/MiB Dataset/A Fresh Start/User Files Train/subfolder_4/2379663571.0.csv\n"
          ]
        },
        {
          "output_type": "stream",
          "name": "stderr",
          "text": [
            "\rProcessing CSV files:  86%|████████▌ | 245/286 [04:15<00:48,  1.19s/it]"
          ]
        },
        {
          "output_type": "stream",
          "name": "stdout",
          "text": [
            "Processing file: /content/drive/MyDrive/MiB Dataset/A Fresh Start/User Files Train/subfolder_4/2379608905.0.csv\n"
          ]
        },
        {
          "output_type": "stream",
          "name": "stderr",
          "text": [
            "\rProcessing CSV files:  86%|████████▌ | 246/286 [04:16<00:42,  1.06s/it]"
          ]
        },
        {
          "output_type": "stream",
          "name": "stdout",
          "text": [
            "Processing file: /content/drive/MyDrive/MiB Dataset/A Fresh Start/User Files Train/subfolder_4/2379443893.0.csv\n"
          ]
        },
        {
          "output_type": "stream",
          "name": "stderr",
          "text": [
            "\rProcessing CSV files:  86%|████████▋ | 247/286 [04:17<00:37,  1.04it/s]"
          ]
        },
        {
          "output_type": "stream",
          "name": "stdout",
          "text": [
            "Processing file: /content/drive/MyDrive/MiB Dataset/A Fresh Start/User Files Train/subfolder_4/2379407449.0.csv\n"
          ]
        },
        {
          "output_type": "stream",
          "name": "stderr",
          "text": [
            "\rProcessing CSV files:  87%|████████▋ | 248/286 [04:18<00:34,  1.11it/s]"
          ]
        },
        {
          "output_type": "stream",
          "name": "stdout",
          "text": [
            "Processing file: /content/drive/MyDrive/MiB Dataset/A Fresh Start/User Files Train/subfolder_4/2379389678.0.csv\n"
          ]
        },
        {
          "output_type": "stream",
          "name": "stderr",
          "text": [
            "\rProcessing CSV files:  87%|████████▋ | 249/286 [04:18<00:31,  1.19it/s]"
          ]
        },
        {
          "output_type": "stream",
          "name": "stdout",
          "text": [
            "Processing file: /content/drive/MyDrive/MiB Dataset/A Fresh Start/User Files Train/subfolder_4/2379132271.0.csv\n"
          ]
        },
        {
          "output_type": "stream",
          "name": "stderr",
          "text": [
            "\rProcessing CSV files:  87%|████████▋ | 250/286 [04:19<00:29,  1.21it/s]"
          ]
        },
        {
          "output_type": "stream",
          "name": "stdout",
          "text": [
            "Processing file: /content/drive/MyDrive/MiB Dataset/A Fresh Start/User Files Train/subfolder_4/2379096589.0.csv\n"
          ]
        },
        {
          "output_type": "stream",
          "name": "stderr",
          "text": [
            "\rProcessing CSV files:  88%|████████▊ | 251/286 [04:20<00:28,  1.24it/s]"
          ]
        },
        {
          "output_type": "stream",
          "name": "stdout",
          "text": [
            "Processing file: /content/drive/MyDrive/MiB Dataset/A Fresh Start/User Files Train/subfolder_4/2379032874.0.csv\n"
          ]
        },
        {
          "output_type": "stream",
          "name": "stderr",
          "text": [
            "\rProcessing CSV files:  88%|████████▊ | 252/286 [04:20<00:25,  1.32it/s]"
          ]
        },
        {
          "output_type": "stream",
          "name": "stdout",
          "text": [
            "Processing file: /content/drive/MyDrive/MiB Dataset/A Fresh Start/User Files Train/subfolder_4/2378500346.0.csv\n"
          ]
        },
        {
          "output_type": "stream",
          "name": "stderr",
          "text": [
            "\rProcessing CSV files:  88%|████████▊ | 253/286 [04:21<00:24,  1.33it/s]"
          ]
        },
        {
          "output_type": "stream",
          "name": "stdout",
          "text": [
            "Processing file: /content/drive/MyDrive/MiB Dataset/A Fresh Start/User Files Train/subfolder_4/2378481212.0.csv\n"
          ]
        },
        {
          "output_type": "stream",
          "name": "stderr",
          "text": [
            "\rProcessing CSV files:  89%|████████▉ | 254/286 [04:22<00:25,  1.23it/s]"
          ]
        },
        {
          "output_type": "stream",
          "name": "stdout",
          "text": [
            "Processing file: /content/drive/MyDrive/MiB Dataset/A Fresh Start/User Files Train/subfolder_4/2378402216.0.csv\n"
          ]
        },
        {
          "output_type": "stream",
          "name": "stderr",
          "text": [
            "\rProcessing CSV files:  89%|████████▉ | 255/286 [04:23<00:25,  1.21it/s]"
          ]
        },
        {
          "output_type": "stream",
          "name": "stdout",
          "text": [
            "Processing file: /content/drive/MyDrive/MiB Dataset/A Fresh Start/User Files Train/subfolder_4/2378380094.0.csv\n"
          ]
        },
        {
          "output_type": "stream",
          "name": "stderr",
          "text": [
            "\rProcessing CSV files:  90%|████████▉ | 256/286 [04:24<00:26,  1.12it/s]"
          ]
        },
        {
          "output_type": "stream",
          "name": "stdout",
          "text": [
            "Processing file: /content/drive/MyDrive/MiB Dataset/A Fresh Start/User Files Train/subfolder_4/2378379048.0.csv\n"
          ]
        },
        {
          "output_type": "stream",
          "name": "stderr",
          "text": [
            "\rProcessing CSV files:  90%|████████▉ | 257/286 [04:25<00:26,  1.11it/s]"
          ]
        },
        {
          "output_type": "stream",
          "name": "stdout",
          "text": [
            "Processing file: /content/drive/MyDrive/MiB Dataset/A Fresh Start/User Files Train/subfolder_4/2378357743.0.csv\n"
          ]
        },
        {
          "output_type": "stream",
          "name": "stderr",
          "text": [
            "\rProcessing CSV files:  90%|█████████ | 258/286 [04:26<00:23,  1.21it/s]"
          ]
        },
        {
          "output_type": "stream",
          "name": "stdout",
          "text": [
            "Processing file: /content/drive/MyDrive/MiB Dataset/A Fresh Start/User Files Train/subfolder_4/2378322306.0.csv\n"
          ]
        },
        {
          "output_type": "stream",
          "name": "stderr",
          "text": [
            "\rProcessing CSV files:  91%|█████████ | 259/286 [04:26<00:20,  1.29it/s]"
          ]
        },
        {
          "output_type": "stream",
          "name": "stdout",
          "text": [
            "Processing file: /content/drive/MyDrive/MiB Dataset/A Fresh Start/User Files Train/subfolder_4/2378299190.0.csv\n"
          ]
        },
        {
          "output_type": "stream",
          "name": "stderr",
          "text": [
            "\rProcessing CSV files:  91%|█████████ | 260/286 [04:27<00:19,  1.31it/s]"
          ]
        },
        {
          "output_type": "stream",
          "name": "stdout",
          "text": [
            "Processing file: /content/drive/MyDrive/MiB Dataset/A Fresh Start/User Files Train/subfolder_4/2378298858.0.csv\n"
          ]
        },
        {
          "output_type": "stream",
          "name": "stderr",
          "text": [
            "\rProcessing CSV files:  91%|█████████▏| 261/286 [04:28<00:18,  1.36it/s]"
          ]
        },
        {
          "output_type": "stream",
          "name": "stdout",
          "text": [
            "Processing file: /content/drive/MyDrive/MiB Dataset/A Fresh Start/User Files Train/subfolder_4/2378251466.0.csv\n"
          ]
        },
        {
          "output_type": "stream",
          "name": "stderr",
          "text": [
            "\rProcessing CSV files:  92%|█████████▏| 262/286 [04:28<00:17,  1.36it/s]"
          ]
        },
        {
          "output_type": "stream",
          "name": "stdout",
          "text": [
            "Processing file: /content/drive/MyDrive/MiB Dataset/A Fresh Start/User Files Train/subfolder_4/2378057370.0.csv\n"
          ]
        },
        {
          "output_type": "stream",
          "name": "stderr",
          "text": [
            "\rProcessing CSV files:  92%|█████████▏| 263/286 [04:29<00:17,  1.33it/s]"
          ]
        },
        {
          "output_type": "stream",
          "name": "stdout",
          "text": [
            "Processing file: /content/drive/MyDrive/MiB Dataset/A Fresh Start/User Files Train/subfolder_4/2378030814.0.csv\n"
          ]
        },
        {
          "output_type": "stream",
          "name": "stderr",
          "text": [
            "\rProcessing CSV files:  92%|█████████▏| 264/286 [04:30<00:16,  1.32it/s]"
          ]
        },
        {
          "output_type": "stream",
          "name": "stdout",
          "text": [
            "Processing file: /content/drive/MyDrive/MiB Dataset/A Fresh Start/User Files Train/subfolder_4/2378023658.0.csv\n"
          ]
        },
        {
          "output_type": "stream",
          "name": "stderr",
          "text": [
            "\rProcessing CSV files:  93%|█████████▎| 265/286 [04:31<00:15,  1.34it/s]"
          ]
        },
        {
          "output_type": "stream",
          "name": "stdout",
          "text": [
            "Processing file: /content/drive/MyDrive/MiB Dataset/A Fresh Start/User Files Train/subfolder_4/2377921482.0.csv\n"
          ]
        },
        {
          "output_type": "stream",
          "name": "stderr",
          "text": [
            "\rProcessing CSV files:  93%|█████████▎| 266/286 [04:31<00:14,  1.38it/s]"
          ]
        },
        {
          "output_type": "stream",
          "name": "stdout",
          "text": [
            "Processing file: /content/drive/MyDrive/MiB Dataset/A Fresh Start/User Files Train/subfolder_4/2377908372.0.csv\n"
          ]
        },
        {
          "output_type": "stream",
          "name": "stderr",
          "text": [
            "\rProcessing CSV files:  93%|█████████▎| 267/286 [04:32<00:13,  1.37it/s]"
          ]
        },
        {
          "output_type": "stream",
          "name": "stdout",
          "text": [
            "Processing file: /content/drive/MyDrive/MiB Dataset/A Fresh Start/User Files Train/subfolder_4/2377830320.0.csv\n"
          ]
        },
        {
          "output_type": "stream",
          "name": "stderr",
          "text": [
            "\rProcessing CSV files:  94%|█████████▎| 268/286 [04:33<00:12,  1.42it/s]"
          ]
        },
        {
          "output_type": "stream",
          "name": "stdout",
          "text": [
            "Processing file: /content/drive/MyDrive/MiB Dataset/A Fresh Start/User Files Train/subfolder_4/2377625168.0.csv\n"
          ]
        },
        {
          "output_type": "stream",
          "name": "stderr",
          "text": [
            "\rProcessing CSV files:  94%|█████████▍| 269/286 [04:34<00:12,  1.39it/s]"
          ]
        },
        {
          "output_type": "stream",
          "name": "stdout",
          "text": [
            "Processing file: /content/drive/MyDrive/MiB Dataset/A Fresh Start/User Files Train/subfolder_4/2377623764.0.csv\n"
          ]
        },
        {
          "output_type": "stream",
          "name": "stderr",
          "text": [
            "\rProcessing CSV files:  94%|█████████▍| 270/286 [04:34<00:12,  1.32it/s]"
          ]
        },
        {
          "output_type": "stream",
          "name": "stdout",
          "text": [
            "Processing file: /content/drive/MyDrive/MiB Dataset/A Fresh Start/User Files Train/subfolder_4/2377411488.0.csv\n"
          ]
        },
        {
          "output_type": "stream",
          "name": "stderr",
          "text": [
            "\rProcessing CSV files:  95%|█████████▍| 271/286 [04:35<00:11,  1.31it/s]"
          ]
        },
        {
          "output_type": "stream",
          "name": "stdout",
          "text": [
            "Processing file: /content/drive/MyDrive/MiB Dataset/A Fresh Start/User Files Train/subfolder_4/2377311883.0.csv\n"
          ]
        },
        {
          "output_type": "stream",
          "name": "stderr",
          "text": [
            "\rProcessing CSV files:  95%|█████████▌| 272/286 [04:36<00:11,  1.21it/s]"
          ]
        },
        {
          "output_type": "stream",
          "name": "stdout",
          "text": [
            "Processing file: /content/drive/MyDrive/MiB Dataset/A Fresh Start/User Files Train/subfolder_4/2377282590.0.csv\n"
          ]
        },
        {
          "output_type": "stream",
          "name": "stderr",
          "text": [
            "\rProcessing CSV files:  95%|█████████▌| 273/286 [04:38<00:13,  1.04s/it]"
          ]
        },
        {
          "output_type": "stream",
          "name": "stdout",
          "text": [
            "Processing file: /content/drive/MyDrive/MiB Dataset/A Fresh Start/User Files Train/subfolder_4/2377279662.0.csv\n"
          ]
        },
        {
          "output_type": "stream",
          "name": "stderr",
          "text": [
            "\rProcessing CSV files:  96%|█████████▌| 274/286 [04:39<00:12,  1.04s/it]"
          ]
        },
        {
          "output_type": "stream",
          "name": "stdout",
          "text": [
            "Processing file: /content/drive/MyDrive/MiB Dataset/A Fresh Start/User Files Train/subfolder_4/2377261470.0.csv\n"
          ]
        },
        {
          "output_type": "stream",
          "name": "stderr",
          "text": [
            "\rProcessing CSV files:  96%|█████████▌| 275/286 [04:39<00:10,  1.06it/s]"
          ]
        },
        {
          "output_type": "stream",
          "name": "stdout",
          "text": [
            "Processing file: /content/drive/MyDrive/MiB Dataset/A Fresh Start/User Files Train/subfolder_4/2377225074.0.csv\n"
          ]
        },
        {
          "output_type": "stream",
          "name": "stderr",
          "text": [
            "\rProcessing CSV files:  97%|█████████▋| 276/286 [04:40<00:08,  1.12it/s]"
          ]
        },
        {
          "output_type": "stream",
          "name": "stdout",
          "text": [
            "Processing file: /content/drive/MyDrive/MiB Dataset/A Fresh Start/User Files Train/subfolder_4/2377101750.0.csv\n"
          ]
        },
        {
          "output_type": "stream",
          "name": "stderr",
          "text": [
            "\rProcessing CSV files:  97%|█████████▋| 277/286 [04:41<00:07,  1.15it/s]"
          ]
        },
        {
          "output_type": "stream",
          "name": "stdout",
          "text": [
            "Processing file: /content/drive/MyDrive/MiB Dataset/A Fresh Start/User Files Train/subfolder_4/2377061208.0.csv\n"
          ]
        },
        {
          "output_type": "stream",
          "name": "stderr",
          "text": [
            "\rProcessing CSV files:  97%|█████████▋| 278/286 [04:42<00:06,  1.18it/s]"
          ]
        },
        {
          "output_type": "stream",
          "name": "stdout",
          "text": [
            "Processing file: /content/drive/MyDrive/MiB Dataset/A Fresh Start/User Files Train/subfolder_4/2377055413.0.csv\n"
          ]
        },
        {
          "output_type": "stream",
          "name": "stderr",
          "text": [
            "\rProcessing CSV files:  98%|█████████▊| 279/286 [04:42<00:05,  1.26it/s]"
          ]
        },
        {
          "output_type": "stream",
          "name": "stdout",
          "text": [
            "Processing file: /content/drive/MyDrive/MiB Dataset/A Fresh Start/User Files Train/subfolder_4/2377028120.0.csv\n"
          ]
        },
        {
          "output_type": "stream",
          "name": "stderr",
          "text": [
            "\rProcessing CSV files:  98%|█████████▊| 280/286 [04:43<00:04,  1.33it/s]"
          ]
        },
        {
          "output_type": "stream",
          "name": "stdout",
          "text": [
            "Processing file: /content/drive/MyDrive/MiB Dataset/A Fresh Start/User Files Train/subfolder_4/2377024164.0.csv\n"
          ]
        },
        {
          "output_type": "stream",
          "name": "stderr",
          "text": [
            "\rProcessing CSV files:  98%|█████████▊| 281/286 [04:44<00:03,  1.34it/s]"
          ]
        },
        {
          "output_type": "stream",
          "name": "stdout",
          "text": [
            "Processing file: /content/drive/MyDrive/MiB Dataset/A Fresh Start/User Files Train/subfolder_4/2376974335.0.csv\n"
          ]
        },
        {
          "output_type": "stream",
          "name": "stderr",
          "text": [
            "\rProcessing CSV files:  99%|█████████▊| 282/286 [04:45<00:02,  1.37it/s]"
          ]
        },
        {
          "output_type": "stream",
          "name": "stdout",
          "text": [
            "Processing file: /content/drive/MyDrive/MiB Dataset/A Fresh Start/User Files Train/subfolder_4/2376896916.0.csv\n"
          ]
        },
        {
          "output_type": "stream",
          "name": "stderr",
          "text": [
            "\rProcessing CSV files:  99%|█████████▉| 283/286 [04:45<00:02,  1.38it/s]"
          ]
        },
        {
          "output_type": "stream",
          "name": "stdout",
          "text": [
            "Processing file: /content/drive/MyDrive/MiB Dataset/A Fresh Start/User Files Train/subfolder_4/2376832255.0.csv\n"
          ]
        },
        {
          "output_type": "stream",
          "name": "stderr",
          "text": [
            "\rProcessing CSV files:  99%|█████████▉| 284/286 [04:46<00:01,  1.41it/s]"
          ]
        },
        {
          "output_type": "stream",
          "name": "stdout",
          "text": [
            "Processing file: /content/drive/MyDrive/MiB Dataset/A Fresh Start/User Files Train/subfolder_4/2376811856.0.csv\n"
          ]
        },
        {
          "output_type": "stream",
          "name": "stderr",
          "text": [
            "\rProcessing CSV files: 100%|█████████▉| 285/286 [04:47<00:00,  1.39it/s]"
          ]
        },
        {
          "output_type": "stream",
          "name": "stdout",
          "text": [
            "Processing file: /content/drive/MyDrive/MiB Dataset/A Fresh Start/User Files Train/subfolder_4/2376714811.0.csv\n"
          ]
        },
        {
          "output_type": "stream",
          "name": "stderr",
          "text": [
            "Processing CSV files: 100%|██████████| 286/286 [04:47<00:00,  1.01s/it]\n"
          ]
        },
        {
          "output_type": "stream",
          "name": "stdout",
          "text": [
            "Shape of stacked embeddings for user 2377007084.0: torch.Size([91, 1, 768])\n",
            "Final embedding shape for user 2377007084.0: torch.Size([1, 768])\n",
            "Shape of stacked embeddings for user 2377530955.0: torch.Size([87, 1, 768])\n",
            "Final embedding shape for user 2377530955.0: torch.Size([1, 768])\n",
            "Shape of stacked embeddings for user 2380735502.0: torch.Size([92, 1, 768])\n",
            "Final embedding shape for user 2380735502.0: torch.Size([1, 768])\n",
            "Shape of stacked embeddings for user 2377373876.0: torch.Size([87, 1, 768])\n",
            "Final embedding shape for user 2377373876.0: torch.Size([1, 768])\n",
            "Shape of stacked embeddings for user 2376895730.0: torch.Size([84, 1, 768])\n",
            "Final embedding shape for user 2376895730.0: torch.Size([1, 768])\n",
            "Shape of stacked embeddings for user 2379797442.0: torch.Size([82, 1, 768])\n",
            "Final embedding shape for user 2379797442.0: torch.Size([1, 768])\n",
            "Shape of stacked embeddings for user 2380062097.0: torch.Size([80, 1, 768])\n",
            "Final embedding shape for user 2380062097.0: torch.Size([1, 768])\n",
            "Shape of stacked embeddings for user 2380373089.0: torch.Size([101, 1, 768])\n",
            "Final embedding shape for user 2380373089.0: torch.Size([1, 768])\n",
            "Shape of stacked embeddings for user 2377740000.0: torch.Size([93, 1, 768])\n",
            "Final embedding shape for user 2377740000.0: torch.Size([1, 768])\n",
            "Shape of stacked embeddings for user 2377929164.0: torch.Size([89, 1, 768])\n",
            "Final embedding shape for user 2377929164.0: torch.Size([1, 768])\n",
            "Shape of stacked embeddings for user 2377981951.0: torch.Size([84, 1, 768])\n",
            "Final embedding shape for user 2377981951.0: torch.Size([1, 768])\n",
            "Shape of stacked embeddings for user 2378076452.0: torch.Size([79, 1, 768])\n",
            "Final embedding shape for user 2378076452.0: torch.Size([1, 768])\n",
            "Shape of stacked embeddings for user 2378067062.0: torch.Size([94, 1, 768])\n",
            "Final embedding shape for user 2378067062.0: torch.Size([1, 768])\n",
            "Shape of stacked embeddings for user 2380211371.0: torch.Size([72, 1, 768])\n",
            "Final embedding shape for user 2380211371.0: torch.Size([1, 768])\n",
            "Shape of stacked embeddings for user 2377635552.0: torch.Size([90, 1, 768])\n",
            "Final embedding shape for user 2377635552.0: torch.Size([1, 768])\n",
            "Shape of stacked embeddings for user 2377952492.0: torch.Size([81, 1, 768])\n",
            "Final embedding shape for user 2377952492.0: torch.Size([1, 768])\n",
            "Shape of stacked embeddings for user 2376948643.0: torch.Size([82, 1, 768])\n",
            "Final embedding shape for user 2376948643.0: torch.Size([1, 768])\n",
            "Shape of stacked embeddings for user 2379381841.0: torch.Size([75, 1, 768])\n",
            "Final embedding shape for user 2379381841.0: torch.Size([1, 768])\n",
            "Shape of stacked embeddings for user 2378360713.0: torch.Size([92, 1, 768])\n",
            "Final embedding shape for user 2378360713.0: torch.Size([1, 768])\n",
            "Shape of stacked embeddings for user 2377646630.0: torch.Size([97, 1, 768])\n",
            "Final embedding shape for user 2377646630.0: torch.Size([1, 768])\n",
            "Shape of stacked embeddings for user 2377903014.0: torch.Size([87, 1, 768])\n",
            "Final embedding shape for user 2377903014.0: torch.Size([1, 768])\n",
            "Shape of stacked embeddings for user 2377656110.0: torch.Size([97, 1, 768])\n",
            "Final embedding shape for user 2377656110.0: torch.Size([1, 768])\n",
            "Shape of stacked embeddings for user 2377451731.0: torch.Size([88, 1, 768])\n",
            "Final embedding shape for user 2377451731.0: torch.Size([1, 768])\n",
            "Shape of stacked embeddings for user 2377730172.0: torch.Size([81, 1, 768])\n",
            "Final embedding shape for user 2377730172.0: torch.Size([1, 768])\n",
            "Shape of stacked embeddings for user 2380729915.0: torch.Size([88, 1, 768])\n",
            "Final embedding shape for user 2380729915.0: torch.Size([1, 768])\n",
            "Shape of stacked embeddings for user 2377108531.0: torch.Size([98, 1, 768])\n",
            "Final embedding shape for user 2377108531.0: torch.Size([1, 768])\n",
            "Shape of stacked embeddings for user 2380376893.0: torch.Size([79, 1, 768])\n",
            "Final embedding shape for user 2380376893.0: torch.Size([1, 768])\n",
            "Shape of stacked embeddings for user 2380793118.0: torch.Size([86, 1, 768])\n",
            "Final embedding shape for user 2380793118.0: torch.Size([1, 768])\n",
            "Shape of stacked embeddings for user 2379041683.0: torch.Size([87, 1, 768])\n",
            "Final embedding shape for user 2379041683.0: torch.Size([1, 768])\n",
            "Shape of stacked embeddings for user 2376868266.0: torch.Size([85, 1, 768])\n",
            "Final embedding shape for user 2376868266.0: torch.Size([1, 768])\n",
            "Shape of stacked embeddings for user 2377315075.0: torch.Size([88, 1, 768])\n",
            "Final embedding shape for user 2377315075.0: torch.Size([1, 768])\n",
            "Shape of stacked embeddings for user 2379010088.0: torch.Size([95, 1, 768])\n",
            "Final embedding shape for user 2379010088.0: torch.Size([1, 768])\n",
            "Shape of stacked embeddings for user 2378904895.0: torch.Size([80, 1, 768])\n",
            "Final embedding shape for user 2378904895.0: torch.Size([1, 768])\n",
            "Shape of stacked embeddings for user 2380445972.0: torch.Size([87, 1, 768])\n",
            "Final embedding shape for user 2380445972.0: torch.Size([1, 768])\n",
            "Shape of stacked embeddings for user 2380168394.0: torch.Size([90, 1, 768])\n",
            "Final embedding shape for user 2380168394.0: torch.Size([1, 768])\n",
            "Shape of stacked embeddings for user 2378330916.0: torch.Size([86, 1, 768])\n",
            "Final embedding shape for user 2378330916.0: torch.Size([1, 768])\n",
            "Shape of stacked embeddings for user 2377536318.0: torch.Size([94, 1, 768])\n",
            "Final embedding shape for user 2377536318.0: torch.Size([1, 768])\n",
            "Shape of stacked embeddings for user 2378439283.0: torch.Size([81, 1, 768])\n",
            "Final embedding shape for user 2378439283.0: torch.Size([1, 768])\n",
            "Shape of stacked embeddings for user 2377861590.0: torch.Size([96, 1, 768])\n",
            "Final embedding shape for user 2377861590.0: torch.Size([1, 768])\n",
            "Shape of stacked embeddings for user 2377818876.0: torch.Size([84, 1, 768])\n",
            "Final embedding shape for user 2377818876.0: torch.Size([1, 768])\n",
            "Shape of stacked embeddings for user 2379524288.0: torch.Size([87, 1, 768])\n",
            "Final embedding shape for user 2379524288.0: torch.Size([1, 768])\n",
            "Shape of stacked embeddings for user 2377879488.0: torch.Size([99, 1, 768])\n",
            "Final embedding shape for user 2377879488.0: torch.Size([1, 768])\n",
            "Shape of stacked embeddings for user 2377935157.0: torch.Size([84, 1, 768])\n",
            "Final embedding shape for user 2377935157.0: torch.Size([1, 768])\n",
            "Shape of stacked embeddings for user 2378652246.0: torch.Size([81, 1, 768])\n",
            "Final embedding shape for user 2378652246.0: torch.Size([1, 768])\n",
            "Shape of stacked embeddings for user 2377824468.0: torch.Size([99, 1, 768])\n",
            "Final embedding shape for user 2377824468.0: torch.Size([1, 768])\n",
            "Shape of stacked embeddings for user 2380657250.0: torch.Size([88, 1, 768])\n",
            "Final embedding shape for user 2380657250.0: torch.Size([1, 768])\n",
            "Shape of stacked embeddings for user 2376890059.0: torch.Size([82, 1, 768])\n",
            "Final embedding shape for user 2376890059.0: torch.Size([1, 768])\n",
            "Shape of stacked embeddings for user 2377253978.0: torch.Size([69, 1, 768])\n",
            "Final embedding shape for user 2377253978.0: torch.Size([1, 768])\n",
            "Shape of stacked embeddings for user 2377909674.0: torch.Size([91, 1, 768])\n",
            "Final embedding shape for user 2377909674.0: torch.Size([1, 768])\n",
            "Shape of stacked embeddings for user 2377829892.0: torch.Size([90, 1, 768])\n",
            "Final embedding shape for user 2377829892.0: torch.Size([1, 768])\n",
            "Shape of stacked embeddings for user 2377850018.0: torch.Size([76, 1, 768])\n",
            "Final embedding shape for user 2377850018.0: torch.Size([1, 768])\n",
            "Shape of stacked embeddings for user 2376837104.0: torch.Size([95, 1, 768])\n",
            "Final embedding shape for user 2376837104.0: torch.Size([1, 768])\n",
            "Shape of stacked embeddings for user 2377524343.0: torch.Size([98, 1, 768])\n",
            "Final embedding shape for user 2377524343.0: torch.Size([1, 768])\n",
            "Shape of stacked embeddings for user 2376901322.0: torch.Size([77, 1, 768])\n",
            "Final embedding shape for user 2376901322.0: torch.Size([1, 768])\n",
            "Shape of stacked embeddings for user 2377790023.0: torch.Size([76, 1, 768])\n",
            "Final embedding shape for user 2377790023.0: torch.Size([1, 768])\n",
            "Shape of stacked embeddings for user 2380383847.0: torch.Size([76, 1, 768])\n",
            "Final embedding shape for user 2380383847.0: torch.Size([1, 768])\n",
            "Shape of stacked embeddings for user 2377560691.0: torch.Size([91, 1, 768])\n",
            "Final embedding shape for user 2377560691.0: torch.Size([1, 768])\n",
            "Shape of stacked embeddings for user 2378476622.0: torch.Size([86, 1, 768])\n",
            "Final embedding shape for user 2378476622.0: torch.Size([1, 768])\n",
            "Shape of stacked embeddings for user 2377569936.0: torch.Size([83, 1, 768])\n",
            "Final embedding shape for user 2377569936.0: torch.Size([1, 768])\n",
            "Shape of stacked embeddings for user 2379457004.0: torch.Size([92, 1, 768])\n",
            "Final embedding shape for user 2379457004.0: torch.Size([1, 768])\n",
            "Shape of stacked embeddings for user 2377444080.0: torch.Size([99, 1, 768])\n",
            "Final embedding shape for user 2377444080.0: torch.Size([1, 768])\n",
            "Shape of stacked embeddings for user 2380341170.0: torch.Size([84, 1, 768])\n",
            "Final embedding shape for user 2380341170.0: torch.Size([1, 768])\n",
            "Shape of stacked embeddings for user 2376402403.0: torch.Size([91, 1, 768])\n",
            "Final embedding shape for user 2376402403.0: torch.Size([1, 768])\n",
            "Shape of stacked embeddings for user 2376435464.0: torch.Size([83, 1, 768])\n",
            "Final embedding shape for user 2376435464.0: torch.Size([1, 768])\n",
            "Shape of stacked embeddings for user 2377711416.0: torch.Size([91, 1, 768])\n",
            "Final embedding shape for user 2377711416.0: torch.Size([1, 768])\n",
            "Shape of stacked embeddings for user 2377803655.0: torch.Size([87, 1, 768])\n",
            "Final embedding shape for user 2377803655.0: torch.Size([1, 768])\n",
            "Shape of stacked embeddings for user 2377083871.0: torch.Size([87, 1, 768])\n",
            "Final embedding shape for user 2377083871.0: torch.Size([1, 768])\n",
            "Shape of stacked embeddings for user 2378353614.0: torch.Size([93, 1, 768])\n",
            "Final embedding shape for user 2378353614.0: torch.Size([1, 768])\n",
            "Shape of stacked embeddings for user 2377447818.0: torch.Size([74, 1, 768])\n",
            "Final embedding shape for user 2377447818.0: torch.Size([1, 768])\n",
            "Shape of stacked embeddings for user 2380747615.0: torch.Size([77, 1, 768])\n",
            "Final embedding shape for user 2380747615.0: torch.Size([1, 768])\n",
            "Shape of stacked embeddings for user 2377590482.0: torch.Size([89, 1, 768])\n",
            "Final embedding shape for user 2377590482.0: torch.Size([1, 768])\n",
            "Shape of stacked embeddings for user 2379928824.0: torch.Size([80, 1, 768])\n",
            "Final embedding shape for user 2379928824.0: torch.Size([1, 768])\n",
            "Shape of stacked embeddings for user 2376527340.0: torch.Size([97, 1, 768])\n",
            "Final embedding shape for user 2376527340.0: torch.Size([1, 768])\n",
            "Shape of stacked embeddings for user 2380781340.0: torch.Size([77, 1, 768])\n",
            "Final embedding shape for user 2380781340.0: torch.Size([1, 768])\n",
            "Shape of stacked embeddings for user 2379708266.0: torch.Size([97, 1, 768])\n",
            "Final embedding shape for user 2379708266.0: torch.Size([1, 768])\n",
            "Shape of stacked embeddings for user 2378484415.0: torch.Size([87, 1, 768])\n",
            "Final embedding shape for user 2378484415.0: torch.Size([1, 768])\n",
            "Shape of stacked embeddings for user 2380197396.0: torch.Size([77, 1, 768])\n",
            "Final embedding shape for user 2380197396.0: torch.Size([1, 768])\n",
            "Shape of stacked embeddings for user 2377593666.0: torch.Size([95, 1, 768])\n",
            "Final embedding shape for user 2377593666.0: torch.Size([1, 768])\n",
            "Shape of stacked embeddings for user 2380030183.0: torch.Size([86, 1, 768])\n",
            "Final embedding shape for user 2380030183.0: torch.Size([1, 768])\n",
            "Shape of stacked embeddings for user 2376495529.0: torch.Size([92, 1, 768])\n",
            "Final embedding shape for user 2376495529.0: torch.Size([1, 768])\n",
            "Shape of stacked embeddings for user 2378432126.0: torch.Size([88, 1, 768])\n",
            "Final embedding shape for user 2378432126.0: torch.Size([1, 768])\n",
            "Shape of stacked embeddings for user 2378447250.0: torch.Size([91, 1, 768])\n",
            "Final embedding shape for user 2378447250.0: torch.Size([1, 768])\n",
            "Shape of stacked embeddings for user 2377665366.0: torch.Size([70, 1, 768])\n",
            "Final embedding shape for user 2377665366.0: torch.Size([1, 768])\n",
            "Shape of stacked embeddings for user 2377791822.0: torch.Size([89, 1, 768])\n",
            "Final embedding shape for user 2377791822.0: torch.Size([1, 768])\n",
            "Shape of stacked embeddings for user 2379970706.0: torch.Size([81, 1, 768])\n",
            "Final embedding shape for user 2379970706.0: torch.Size([1, 768])\n",
            "Shape of stacked embeddings for user 2376950972.0: torch.Size([88, 1, 768])\n",
            "Final embedding shape for user 2376950972.0: torch.Size([1, 768])\n",
            "Shape of stacked embeddings for user 2378332362.0: torch.Size([87, 1, 768])\n",
            "Final embedding shape for user 2378332362.0: torch.Size([1, 768])\n",
            "Shape of stacked embeddings for user 2380777544.0: torch.Size([85, 1, 768])\n",
            "Final embedding shape for user 2380777544.0: torch.Size([1, 768])\n",
            "Shape of stacked embeddings for user 2380058875.0: torch.Size([67, 1, 768])\n",
            "Final embedding shape for user 2380058875.0: torch.Size([1, 768])\n",
            "Shape of stacked embeddings for user 2376854856.0: torch.Size([88, 1, 768])\n",
            "Final embedding shape for user 2376854856.0: torch.Size([1, 768])\n",
            "Shape of stacked embeddings for user 2380679000.0: torch.Size([87, 1, 768])\n",
            "Final embedding shape for user 2380679000.0: torch.Size([1, 768])\n",
            "Shape of stacked embeddings for user 2380431692.0: torch.Size([98, 1, 768])\n",
            "Final embedding shape for user 2380431692.0: torch.Size([1, 768])\n",
            "Shape of stacked embeddings for user 2379872966.0: torch.Size([84, 1, 768])\n",
            "Final embedding shape for user 2379872966.0: torch.Size([1, 768])\n",
            "Shape of stacked embeddings for user 2380749122.0: torch.Size([87, 1, 768])\n",
            "Final embedding shape for user 2380749122.0: torch.Size([1, 768])\n",
            "Shape of stacked embeddings for user 2377091725.0: torch.Size([103, 1, 768])\n",
            "Final embedding shape for user 2377091725.0: torch.Size([1, 768])\n",
            "Shape of stacked embeddings for user 2376968101.0: torch.Size([93, 1, 768])\n",
            "Final embedding shape for user 2376968101.0: torch.Size([1, 768])\n",
            "Shape of stacked embeddings for user 2379741378.0: torch.Size([98, 1, 768])\n",
            "Final embedding shape for user 2379741378.0: torch.Size([1, 768])\n",
            "Shape of stacked embeddings for user 2377614426.0: torch.Size([107, 1, 768])\n",
            "Final embedding shape for user 2377614426.0: torch.Size([1, 768])\n",
            "Shape of stacked embeddings for user 2377810580.0: torch.Size([94, 1, 768])\n",
            "Final embedding shape for user 2377810580.0: torch.Size([1, 768])\n",
            "Shape of stacked embeddings for user 2378917717.0: torch.Size([78, 1, 768])\n",
            "Final embedding shape for user 2378917717.0: torch.Size([1, 768])\n",
            "Shape of stacked embeddings for user 2377911150.0: torch.Size([93, 1, 768])\n",
            "Final embedding shape for user 2377911150.0: torch.Size([1, 768])\n",
            "Shape of stacked embeddings for user 2377867501.0: torch.Size([88, 1, 768])\n",
            "Final embedding shape for user 2377867501.0: torch.Size([1, 768])\n",
            "Shape of stacked embeddings for user 2377527079.0: torch.Size([98, 1, 768])\n",
            "Final embedding shape for user 2377527079.0: torch.Size([1, 768])\n",
            "Shape of stacked embeddings for user 2378671002.0: torch.Size([70, 1, 768])\n",
            "Final embedding shape for user 2378671002.0: torch.Size([1, 768])\n",
            "Shape of stacked embeddings for user 2378059088.0: torch.Size([76, 1, 768])\n",
            "Final embedding shape for user 2378059088.0: torch.Size([1, 768])\n",
            "Shape of stacked embeddings for user 2379180066.0: torch.Size([86, 1, 768])\n",
            "Final embedding shape for user 2379180066.0: torch.Size([1, 768])\n",
            "Shape of stacked embeddings for user 2377036634.0: torch.Size([82, 1, 768])\n",
            "Final embedding shape for user 2377036634.0: torch.Size([1, 768])\n",
            "Shape of stacked embeddings for user 2378053471.0: torch.Size([82, 1, 768])\n",
            "Final embedding shape for user 2378053471.0: torch.Size([1, 768])\n",
            "Shape of stacked embeddings for user 2377046539.0: torch.Size([76, 1, 768])\n",
            "Final embedding shape for user 2377046539.0: torch.Size([1, 768])\n",
            "Shape of stacked embeddings for user 2378889606.0: torch.Size([92, 1, 768])\n",
            "Final embedding shape for user 2378889606.0: torch.Size([1, 768])\n",
            "Shape of stacked embeddings for user 2378385974.0: torch.Size([85, 1, 768])\n",
            "Final embedding shape for user 2378385974.0: torch.Size([1, 768])\n",
            "Shape of stacked embeddings for user 2379755827.0: torch.Size([92, 1, 768])\n",
            "Final embedding shape for user 2379755827.0: torch.Size([1, 768])\n",
            "Shape of stacked embeddings for user 2377590066.0: torch.Size([86, 1, 768])\n",
            "Final embedding shape for user 2377590066.0: torch.Size([1, 768])\n",
            "Shape of stacked embeddings for user 2376525504.0: torch.Size([96, 1, 768])\n",
            "Final embedding shape for user 2376525504.0: torch.Size([1, 768])\n",
            "Shape of stacked embeddings for user 2377421106.0: torch.Size([97, 1, 768])\n",
            "Final embedding shape for user 2377421106.0: torch.Size([1, 768])\n",
            "Shape of stacked embeddings for user 2377980812.0: torch.Size([76, 1, 768])\n",
            "Final embedding shape for user 2377980812.0: torch.Size([1, 768])\n",
            "Shape of stacked embeddings for user 2377618861.0: torch.Size([95, 1, 768])\n",
            "Final embedding shape for user 2377618861.0: torch.Size([1, 768])\n",
            "Shape of stacked embeddings for user 2377916568.0: torch.Size([83, 1, 768])\n",
            "Final embedding shape for user 2377916568.0: torch.Size([1, 768])\n",
            "Shape of stacked embeddings for user 2380239920.0: torch.Size([79, 1, 768])\n",
            "Final embedding shape for user 2380239920.0: torch.Size([1, 768])\n",
            "Shape of stacked embeddings for user 2377827835.0: torch.Size([102, 1, 768])\n",
            "Final embedding shape for user 2377827835.0: torch.Size([1, 768])\n",
            "Shape of stacked embeddings for user 2379702133.0: torch.Size([73, 1, 768])\n",
            "Final embedding shape for user 2379702133.0: torch.Size([1, 768])\n",
            "Shape of stacked embeddings for user 2378062974.0: torch.Size([85, 1, 768])\n",
            "Final embedding shape for user 2378062974.0: torch.Size([1, 768])\n",
            "Shape of stacked embeddings for user 2376891090.0: torch.Size([96, 1, 768])\n",
            "Final embedding shape for user 2376891090.0: torch.Size([1, 768])\n",
            "Shape of stacked embeddings for user 2380356271.0: torch.Size([89, 1, 768])\n",
            "Final embedding shape for user 2380356271.0: torch.Size([1, 768])\n",
            "Shape of stacked embeddings for user 2376463986.0: torch.Size([102, 1, 768])\n",
            "Final embedding shape for user 2376463986.0: torch.Size([1, 768])\n",
            "Shape of stacked embeddings for user 2376813920.0: torch.Size([89, 1, 768])\n",
            "Final embedding shape for user 2376813920.0: torch.Size([1, 768])\n",
            "Shape of stacked embeddings for user 2380212774.0: torch.Size([92, 1, 768])\n",
            "Final embedding shape for user 2380212774.0: torch.Size([1, 768])\n",
            "Shape of stacked embeddings for user 2379672560.0: torch.Size([77, 1, 768])\n",
            "Final embedding shape for user 2379672560.0: torch.Size([1, 768])\n",
            "Shape of stacked embeddings for user 2378336040.0: torch.Size([92, 1, 768])\n",
            "Final embedding shape for user 2378336040.0: torch.Size([1, 768])\n",
            "Shape of stacked embeddings for user 2376420499.0: torch.Size([81, 1, 768])\n",
            "Final embedding shape for user 2376420499.0: torch.Size([1, 768])\n",
            "Shape of stacked embeddings for user 2377477820.0: torch.Size([96, 1, 768])\n",
            "Final embedding shape for user 2377477820.0: torch.Size([1, 768])\n",
            "Shape of stacked embeddings for user 2377971542.0: torch.Size([97, 1, 768])\n",
            "Final embedding shape for user 2377971542.0: torch.Size([1, 768])\n",
            "Shape of stacked embeddings for user 2377740938.0: torch.Size([90, 1, 768])\n",
            "Final embedding shape for user 2377740938.0: torch.Size([1, 768])\n",
            "Shape of stacked embeddings for user 2378451139.0: torch.Size([84, 1, 768])\n",
            "Final embedding shape for user 2378451139.0: torch.Size([1, 768])\n",
            "Shape of stacked embeddings for user 2377541917.0: torch.Size([85, 1, 768])\n",
            "Final embedding shape for user 2377541917.0: torch.Size([1, 768])\n",
            "Shape of stacked embeddings for user 2380267099.0: torch.Size([75, 1, 768])\n",
            "Final embedding shape for user 2380267099.0: torch.Size([1, 768])\n",
            "Shape of stacked embeddings for user 2377721142.0: torch.Size([83, 1, 768])\n",
            "Final embedding shape for user 2377721142.0: torch.Size([1, 768])\n",
            "Shape of stacked embeddings for user 2376920149.0: torch.Size([78, 1, 768])\n",
            "Final embedding shape for user 2376920149.0: torch.Size([1, 768])\n",
            "Shape of stacked embeddings for user 2380183135.0: torch.Size([100, 1, 768])\n",
            "Final embedding shape for user 2380183135.0: torch.Size([1, 768])\n",
            "Shape of stacked embeddings for user 2377772335.0: torch.Size([82, 1, 768])\n",
            "Final embedding shape for user 2377772335.0: torch.Size([1, 768])\n",
            "Shape of stacked embeddings for user 2378693646.0: torch.Size([88, 1, 768])\n",
            "Final embedding shape for user 2378693646.0: torch.Size([1, 768])\n",
            "Shape of stacked embeddings for user 2378545333.0: torch.Size([93, 1, 768])\n",
            "Final embedding shape for user 2378545333.0: torch.Size([1, 768])\n",
            "Shape of stacked embeddings for user 2377230032.0: torch.Size([85, 1, 768])\n",
            "Final embedding shape for user 2377230032.0: torch.Size([1, 768])\n",
            "Shape of stacked embeddings for user 2377407865.0: torch.Size([84, 1, 768])\n",
            "Final embedding shape for user 2377407865.0: torch.Size([1, 768])\n",
            "Shape of stacked embeddings for user 2377039507.0: torch.Size([98, 1, 768])\n",
            "Final embedding shape for user 2377039507.0: torch.Size([1, 768])\n",
            "Shape of stacked embeddings for user 2379106592.0: torch.Size([83, 1, 768])\n",
            "Final embedding shape for user 2379106592.0: torch.Size([1, 768])\n",
            "Shape of stacked embeddings for user 2379050120.0: torch.Size([80, 1, 768])\n",
            "Final embedding shape for user 2379050120.0: torch.Size([1, 768])\n",
            "Shape of stacked embeddings for user 2377127558.0: torch.Size([83, 1, 768])\n",
            "Final embedding shape for user 2377127558.0: torch.Size([1, 768])\n",
            "Shape of stacked embeddings for user 2377545649.0: torch.Size([81, 1, 768])\n",
            "Final embedding shape for user 2377545649.0: torch.Size([1, 768])\n",
            "Shape of stacked embeddings for user 2378002104.0: torch.Size([103, 1, 768])\n",
            "Final embedding shape for user 2378002104.0: torch.Size([1, 768])\n",
            "Shape of stacked embeddings for user 2378500051.0: torch.Size([93, 1, 768])\n",
            "Final embedding shape for user 2378500051.0: torch.Size([1, 768])\n",
            "Shape of stacked embeddings for user 2378102185.0: torch.Size([95, 1, 768])\n",
            "Final embedding shape for user 2378102185.0: torch.Size([1, 768])\n",
            "Shape of stacked embeddings for user 2378429094.0: torch.Size([87, 1, 768])\n",
            "Final embedding shape for user 2378429094.0: torch.Size([1, 768])\n",
            "Shape of stacked embeddings for user 2380768238.0: torch.Size([77, 1, 768])\n",
            "Final embedding shape for user 2380768238.0: torch.Size([1, 768])\n",
            "Shape of stacked embeddings for user 2378299286.0: torch.Size([102, 1, 768])\n",
            "Final embedding shape for user 2378299286.0: torch.Size([1, 768])\n",
            "Shape of stacked embeddings for user 2378115960.0: torch.Size([88, 1, 768])\n",
            "Final embedding shape for user 2378115960.0: torch.Size([1, 768])\n",
            "Shape of stacked embeddings for user 2376841279.0: torch.Size([77, 1, 768])\n",
            "Final embedding shape for user 2376841279.0: torch.Size([1, 768])\n",
            "Shape of stacked embeddings for user 2380406281.0: torch.Size([98, 1, 768])\n",
            "Final embedding shape for user 2380406281.0: torch.Size([1, 768])\n",
            "Shape of stacked embeddings for user 2377636812.0: torch.Size([83, 1, 768])\n",
            "Final embedding shape for user 2377636812.0: torch.Size([1, 768])\n",
            "Shape of stacked embeddings for user 2377034816.0: torch.Size([92, 1, 768])\n",
            "Final embedding shape for user 2377034816.0: torch.Size([1, 768])\n",
            "Shape of stacked embeddings for user 2380045964.0: torch.Size([92, 1, 768])\n",
            "Final embedding shape for user 2380045964.0: torch.Size([1, 768])\n",
            "Shape of stacked embeddings for user 2376967352.0: torch.Size([72, 1, 768])\n",
            "Final embedding shape for user 2376967352.0: torch.Size([1, 768])\n",
            "Shape of stacked embeddings for user 2378075172.0: torch.Size([78, 1, 768])\n",
            "Final embedding shape for user 2378075172.0: torch.Size([1, 768])\n",
            "Shape of stacked embeddings for user 2379801618.0: torch.Size([77, 1, 768])\n",
            "Final embedding shape for user 2379801618.0: torch.Size([1, 768])\n",
            "Shape of stacked embeddings for user 2378230656.0: torch.Size([76, 1, 768])\n",
            "Final embedding shape for user 2378230656.0: torch.Size([1, 768])\n",
            "Shape of stacked embeddings for user 2378650778.0: torch.Size([97, 1, 768])\n",
            "Final embedding shape for user 2378650778.0: torch.Size([1, 768])\n",
            "Shape of stacked embeddings for user 2377769551.0: torch.Size([89, 1, 768])\n",
            "Final embedding shape for user 2377769551.0: torch.Size([1, 768])\n",
            "Shape of stacked embeddings for user 2379473820.0: torch.Size([90, 1, 768])\n",
            "Final embedding shape for user 2379473820.0: torch.Size([1, 768])\n",
            "Shape of stacked embeddings for user 2378868756.0: torch.Size([82, 1, 768])\n",
            "Final embedding shape for user 2378868756.0: torch.Size([1, 768])\n",
            "Shape of stacked embeddings for user 2378875842.0: torch.Size([77, 1, 768])\n",
            "Final embedding shape for user 2378875842.0: torch.Size([1, 768])\n",
            "Shape of stacked embeddings for user 2378157224.0: torch.Size([91, 1, 768])\n",
            "Final embedding shape for user 2378157224.0: torch.Size([1, 768])\n",
            "Shape of stacked embeddings for user 2379836293.0: torch.Size([67, 1, 768])\n",
            "Final embedding shape for user 2379836293.0: torch.Size([1, 768])\n",
            "Shape of stacked embeddings for user 2380773902.0: torch.Size([92, 1, 768])\n",
            "Final embedding shape for user 2380773902.0: torch.Size([1, 768])\n",
            "Shape of stacked embeddings for user 2376954991.0: torch.Size([85, 1, 768])\n",
            "Final embedding shape for user 2376954991.0: torch.Size([1, 768])\n",
            "Shape of stacked embeddings for user 2379517262.0: torch.Size([97, 1, 768])\n",
            "Final embedding shape for user 2379517262.0: torch.Size([1, 768])\n",
            "Shape of stacked embeddings for user 2380413493.0: torch.Size([101, 1, 768])\n",
            "Final embedding shape for user 2380413493.0: torch.Size([1, 768])\n",
            "Shape of stacked embeddings for user 2376957437.0: torch.Size([5, 1, 768])\n",
            "Final embedding shape for user 2376957437.0: torch.Size([1, 768])\n",
            "Shape of stacked embeddings for user 2377835432.0: torch.Size([82, 1, 768])\n",
            "Final embedding shape for user 2377835432.0: torch.Size([1, 768])\n",
            "Shape of stacked embeddings for user 2378318810.0: torch.Size([77, 1, 768])\n",
            "Final embedding shape for user 2378318810.0: torch.Size([1, 768])\n",
            "Shape of stacked embeddings for user 2378980568.0: torch.Size([81, 1, 768])\n",
            "Final embedding shape for user 2378980568.0: torch.Size([1, 768])\n",
            "Shape of stacked embeddings for user 2377206811.0: torch.Size([79, 1, 768])\n",
            "Final embedding shape for user 2377206811.0: torch.Size([1, 768])\n",
            "Shape of stacked embeddings for user 2377870790.0: torch.Size([90, 1, 768])\n",
            "Final embedding shape for user 2377870790.0: torch.Size([1, 768])\n",
            "Shape of stacked embeddings for user 2380231328.0: torch.Size([101, 1, 768])\n",
            "Final embedding shape for user 2380231328.0: torch.Size([1, 768])\n",
            "Shape of stacked embeddings for user 2377656308.0: torch.Size([100, 1, 768])\n",
            "Final embedding shape for user 2377656308.0: torch.Size([1, 768])\n",
            "Shape of stacked embeddings for user 2380444051.0: torch.Size([95, 1, 768])\n",
            "Final embedding shape for user 2380444051.0: torch.Size([1, 768])\n",
            "Shape of stacked embeddings for user 2377056618.0: torch.Size([80, 1, 768])\n",
            "Final embedding shape for user 2377056618.0: torch.Size([1, 768])\n",
            "Shape of stacked embeddings for user 2378847420.0: torch.Size([80, 1, 768])\n",
            "Final embedding shape for user 2378847420.0: torch.Size([1, 768])\n",
            "Shape of stacked embeddings for user 2379174853.0: torch.Size([88, 1, 768])\n",
            "Final embedding shape for user 2379174853.0: torch.Size([1, 768])\n",
            "Shape of stacked embeddings for user 2377297692.0: torch.Size([92, 1, 768])\n",
            "Final embedding shape for user 2377297692.0: torch.Size([1, 768])\n",
            "Shape of stacked embeddings for user 2378440728.0: torch.Size([99, 1, 768])\n",
            "Final embedding shape for user 2378440728.0: torch.Size([1, 768])\n",
            "Shape of stacked embeddings for user 2378044849.0: torch.Size([90, 1, 768])\n",
            "Final embedding shape for user 2378044849.0: torch.Size([1, 768])\n",
            "Shape of stacked embeddings for user 2379454507.0: torch.Size([82, 1, 768])\n",
            "Final embedding shape for user 2379454507.0: torch.Size([1, 768])\n",
            "Shape of stacked embeddings for user 2380630098.0: torch.Size([86, 1, 768])\n",
            "Final embedding shape for user 2380630098.0: torch.Size([1, 768])\n",
            "Shape of stacked embeddings for user 2376970520.0: torch.Size([89, 1, 768])\n",
            "Final embedding shape for user 2376970520.0: torch.Size([1, 768])\n",
            "Shape of stacked embeddings for user 2376467790.0: torch.Size([89, 1, 768])\n",
            "Final embedding shape for user 2376467790.0: torch.Size([1, 768])\n",
            "Shape of stacked embeddings for user 2377877443.0: torch.Size([90, 1, 768])\n",
            "Final embedding shape for user 2377877443.0: torch.Size([1, 768])\n",
            "Shape of stacked embeddings for user 2377571616.0: torch.Size([77, 1, 768])\n",
            "Final embedding shape for user 2377571616.0: torch.Size([1, 768])\n",
            "Shape of stacked embeddings for user 2376483733.0: torch.Size([69, 1, 768])\n",
            "Final embedding shape for user 2376483733.0: torch.Size([1, 768])\n",
            "Shape of stacked embeddings for user 2378140945.0: torch.Size([1266, 1, 768])\n",
            "Final embedding shape for user 2378140945.0: torch.Size([1, 768])\n",
            "Shape of stacked embeddings for user 2378812603.0: torch.Size([87, 1, 768])\n",
            "Final embedding shape for user 2378812603.0: torch.Size([1, 768])\n",
            "Shape of stacked embeddings for user 2380303262.0: torch.Size([96, 1, 768])\n",
            "Final embedding shape for user 2380303262.0: torch.Size([1, 768])\n",
            "Shape of stacked embeddings for user 2376815587.0: torch.Size([97, 1, 768])\n",
            "Final embedding shape for user 2376815587.0: torch.Size([1, 768])\n",
            "Shape of stacked embeddings for user 2377126058.0: torch.Size([70, 1, 768])\n",
            "Final embedding shape for user 2377126058.0: torch.Size([1, 768])\n",
            "Shape of stacked embeddings for user 2378460950.0: torch.Size([88, 1, 768])\n",
            "Final embedding shape for user 2378460950.0: torch.Size([1, 768])\n",
            "Shape of stacked embeddings for user 2377625022.0: torch.Size([78, 1, 768])\n",
            "Final embedding shape for user 2377625022.0: torch.Size([1, 768])\n",
            "Shape of stacked embeddings for user 2376423918.0: torch.Size([87, 1, 768])\n",
            "Final embedding shape for user 2376423918.0: torch.Size([1, 768])\n",
            "Shape of stacked embeddings for user 2376839882.0: torch.Size([75, 1, 768])\n",
            "Final embedding shape for user 2376839882.0: torch.Size([1, 768])\n",
            "Shape of stacked embeddings for user 2378825264.0: torch.Size([86, 1, 768])\n",
            "Final embedding shape for user 2378825264.0: torch.Size([1, 768])\n",
            "Shape of stacked embeddings for user 2377718964.0: torch.Size([90, 1, 768])\n",
            "Final embedding shape for user 2377718964.0: torch.Size([1, 768])\n",
            "Shape of stacked embeddings for user 2378226494.0: torch.Size([100, 1, 768])\n",
            "Final embedding shape for user 2378226494.0: torch.Size([1, 768])\n",
            "Shape of stacked embeddings for user 2380507915.0: torch.Size([80, 1, 768])\n",
            "Final embedding shape for user 2380507915.0: torch.Size([1, 768])\n",
            "Shape of stacked embeddings for user 2380766137.0: torch.Size([87, 1, 768])\n",
            "Final embedding shape for user 2380766137.0: torch.Size([1, 768])\n",
            "Shape of stacked embeddings for user 2377853522.0: torch.Size([85, 1, 768])\n",
            "Final embedding shape for user 2377853522.0: torch.Size([1, 768])\n",
            "Shape of stacked embeddings for user 2379958296.0: torch.Size([87, 1, 768])\n",
            "Final embedding shape for user 2379958296.0: torch.Size([1, 768])\n",
            "Shape of stacked embeddings for user 2380473392.0: torch.Size([78, 1, 768])\n",
            "Final embedding shape for user 2380473392.0: torch.Size([1, 768])\n",
            "Shape of stacked embeddings for user 2378653928.0: torch.Size([87, 1, 768])\n",
            "Final embedding shape for user 2378653928.0: torch.Size([1, 768])\n",
            "Shape of stacked embeddings for user 2378091613.0: torch.Size([83, 1, 768])\n",
            "Final embedding shape for user 2378091613.0: torch.Size([1, 768])\n",
            "Shape of stacked embeddings for user 2379771720.0: torch.Size([75, 1, 768])\n",
            "Final embedding shape for user 2379771720.0: torch.Size([1, 768])\n",
            "Shape of stacked embeddings for user 2378475132.0: torch.Size([93, 1, 768])\n",
            "Final embedding shape for user 2378475132.0: torch.Size([1, 768])\n",
            "Shape of stacked embeddings for user 2380459284.0: torch.Size([94, 1, 768])\n",
            "Final embedding shape for user 2380459284.0: torch.Size([1, 768])\n",
            "Shape of stacked embeddings for user 2377029840.0: torch.Size([80, 1, 768])\n",
            "Final embedding shape for user 2377029840.0: torch.Size([1, 768])\n",
            "Shape of stacked embeddings for user 2380452584.0: torch.Size([78, 1, 768])\n",
            "Final embedding shape for user 2380452584.0: torch.Size([1, 768])\n",
            "Shape of stacked embeddings for user 2377722692.0: torch.Size([71, 1, 768])\n",
            "Final embedding shape for user 2377722692.0: torch.Size([1, 768])\n",
            "Shape of stacked embeddings for user 2376429912.0: torch.Size([81, 1, 768])\n",
            "Final embedding shape for user 2376429912.0: torch.Size([1, 768])\n",
            "Shape of stacked embeddings for user 2379797204.0: torch.Size([95, 1, 768])\n",
            "Final embedding shape for user 2379797204.0: torch.Size([1, 768])\n",
            "Shape of stacked embeddings for user 2376495600.0: torch.Size([86, 1, 768])\n",
            "Final embedding shape for user 2376495600.0: torch.Size([1, 768])\n",
            "Shape of stacked embeddings for user 2380214491.0: torch.Size([88, 1, 768])\n",
            "Final embedding shape for user 2380214491.0: torch.Size([1, 768])\n",
            "Shape of stacked embeddings for user 2379874970.0: torch.Size([87, 1, 768])\n",
            "Final embedding shape for user 2379874970.0: torch.Size([1, 768])\n",
            "Shape of stacked embeddings for user 2377130654.0: torch.Size([81, 1, 768])\n",
            "Final embedding shape for user 2377130654.0: torch.Size([1, 768])\n",
            "Shape of stacked embeddings for user 2377678136.0: torch.Size([87, 1, 768])\n",
            "Final embedding shape for user 2377678136.0: torch.Size([1, 768])\n",
            "Shape of stacked embeddings for user 2380777692.0: torch.Size([83, 1, 768])\n",
            "Final embedding shape for user 2380777692.0: torch.Size([1, 768])\n",
            "Shape of stacked embeddings for user 2379541638.0: torch.Size([86, 1, 768])\n",
            "Final embedding shape for user 2379541638.0: torch.Size([1, 768])\n",
            "Shape of stacked embeddings for user 2380043263.0: torch.Size([81, 1, 768])\n",
            "Final embedding shape for user 2380043263.0: torch.Size([1, 768])\n",
            "Shape of stacked embeddings for user 2379750060.0: torch.Size([83, 1, 768])\n",
            "Final embedding shape for user 2379750060.0: torch.Size([1, 768])\n",
            "Shape of stacked embeddings for user 2379108673.0: torch.Size([90, 1, 768])\n",
            "Final embedding shape for user 2379108673.0: torch.Size([1, 768])\n",
            "Shape of stacked embeddings for user 2379422593.0: torch.Size([3179, 1, 768])\n",
            "Final embedding shape for user 2379422593.0: torch.Size([1, 768])\n",
            "Shape of stacked embeddings for user 2380797054.0: torch.Size([79, 1, 768])\n",
            "Final embedding shape for user 2380797054.0: torch.Size([1, 768])\n",
            "Shape of stacked embeddings for user 2380732760.0: torch.Size([104, 1, 768])\n",
            "Final embedding shape for user 2380732760.0: torch.Size([1, 768])\n",
            "Shape of stacked embeddings for user 2380724089.0: torch.Size([78, 1, 768])\n",
            "Final embedding shape for user 2380724089.0: torch.Size([1, 768])\n",
            "Shape of stacked embeddings for user 2380458997.0: torch.Size([79, 1, 768])\n",
            "Final embedding shape for user 2380458997.0: torch.Size([1, 768])\n",
            "Shape of stacked embeddings for user 2380402136.0: torch.Size([90, 1, 768])\n",
            "Final embedding shape for user 2380402136.0: torch.Size([1, 768])\n",
            "Shape of stacked embeddings for user 2380368409.0: torch.Size([94, 1, 768])\n",
            "Final embedding shape for user 2380368409.0: torch.Size([1, 768])\n",
            "Shape of stacked embeddings for user 2380298010.0: torch.Size([96, 1, 768])\n",
            "Final embedding shape for user 2380298010.0: torch.Size([1, 768])\n",
            "Shape of stacked embeddings for user 2380151005.0: torch.Size([91, 1, 768])\n",
            "Final embedding shape for user 2380151005.0: torch.Size([1, 768])\n",
            "Shape of stacked embeddings for user 2379663571.0: torch.Size([87, 1, 768])\n",
            "Final embedding shape for user 2379663571.0: torch.Size([1, 768])\n",
            "Shape of stacked embeddings for user 2379608905.0: torch.Size([76, 1, 768])\n",
            "Final embedding shape for user 2379608905.0: torch.Size([1, 768])\n",
            "Shape of stacked embeddings for user 2379443893.0: torch.Size([85, 1, 768])\n",
            "Final embedding shape for user 2379443893.0: torch.Size([1, 768])\n",
            "Shape of stacked embeddings for user 2379407449.0: torch.Size([91, 1, 768])\n",
            "Final embedding shape for user 2379407449.0: torch.Size([1, 768])\n",
            "Shape of stacked embeddings for user 2379389678.0: torch.Size([81, 1, 768])\n",
            "Final embedding shape for user 2379389678.0: torch.Size([1, 768])\n",
            "Shape of stacked embeddings for user 2379132271.0: torch.Size([92, 1, 768])\n",
            "Final embedding shape for user 2379132271.0: torch.Size([1, 768])\n",
            "Shape of stacked embeddings for user 2379096589.0: torch.Size([87, 1, 768])\n",
            "Final embedding shape for user 2379096589.0: torch.Size([1, 768])\n",
            "Shape of stacked embeddings for user 2379032874.0: torch.Size([81, 1, 768])\n",
            "Final embedding shape for user 2379032874.0: torch.Size([1, 768])\n",
            "Shape of stacked embeddings for user 2378500346.0: torch.Size([76, 1, 768])\n",
            "Final embedding shape for user 2378500346.0: torch.Size([1, 768])\n",
            "Shape of stacked embeddings for user 2378481212.0: torch.Size([87, 1, 768])\n",
            "Final embedding shape for user 2378481212.0: torch.Size([1, 768])\n",
            "Shape of stacked embeddings for user 2378402216.0: torch.Size([75, 1, 768])\n",
            "Final embedding shape for user 2378402216.0: torch.Size([1, 768])\n",
            "Shape of stacked embeddings for user 2378380094.0: torch.Size([83, 1, 768])\n",
            "Final embedding shape for user 2378380094.0: torch.Size([1, 768])\n",
            "Shape of stacked embeddings for user 2378379048.0: torch.Size([78, 1, 768])\n",
            "Final embedding shape for user 2378379048.0: torch.Size([1, 768])\n",
            "Shape of stacked embeddings for user 2378357743.0: torch.Size([82, 1, 768])\n",
            "Final embedding shape for user 2378357743.0: torch.Size([1, 768])\n",
            "Shape of stacked embeddings for user 2378322306.0: torch.Size([79, 1, 768])\n",
            "Final embedding shape for user 2378322306.0: torch.Size([1, 768])\n",
            "Shape of stacked embeddings for user 2378299190.0: torch.Size([88, 1, 768])\n",
            "Final embedding shape for user 2378299190.0: torch.Size([1, 768])\n",
            "Shape of stacked embeddings for user 2378298858.0: torch.Size([83, 1, 768])\n",
            "Final embedding shape for user 2378298858.0: torch.Size([1, 768])\n",
            "Shape of stacked embeddings for user 2378251466.0: torch.Size([82, 1, 768])\n",
            "Final embedding shape for user 2378251466.0: torch.Size([1, 768])\n",
            "Shape of stacked embeddings for user 2378057370.0: torch.Size([93, 1, 768])\n",
            "Final embedding shape for user 2378057370.0: torch.Size([1, 768])\n",
            "Shape of stacked embeddings for user 2378030814.0: torch.Size([88, 1, 768])\n",
            "Final embedding shape for user 2378030814.0: torch.Size([1, 768])\n",
            "Shape of stacked embeddings for user 2378023658.0: torch.Size([85, 1, 768])\n",
            "Final embedding shape for user 2378023658.0: torch.Size([1, 768])\n",
            "Shape of stacked embeddings for user 2377921482.0: torch.Size([82, 1, 768])\n",
            "Final embedding shape for user 2377921482.0: torch.Size([1, 768])\n",
            "Shape of stacked embeddings for user 2377908372.0: torch.Size([88, 1, 768])\n",
            "Final embedding shape for user 2377908372.0: torch.Size([1, 768])\n",
            "Shape of stacked embeddings for user 2377830320.0: torch.Size([81, 1, 768])\n",
            "Final embedding shape for user 2377830320.0: torch.Size([1, 768])\n",
            "Shape of stacked embeddings for user 2377625168.0: torch.Size([92, 1, 768])\n",
            "Final embedding shape for user 2377625168.0: torch.Size([1, 768])\n",
            "Shape of stacked embeddings for user 2377623764.0: torch.Size([103, 1, 768])\n",
            "Final embedding shape for user 2377623764.0: torch.Size([1, 768])\n",
            "Shape of stacked embeddings for user 2377411488.0: torch.Size([81, 1, 768])\n",
            "Final embedding shape for user 2377411488.0: torch.Size([1, 768])\n",
            "Shape of stacked embeddings for user 2377311883.0: torch.Size([90, 1, 768])\n",
            "Final embedding shape for user 2377311883.0: torch.Size([1, 768])\n",
            "Shape of stacked embeddings for user 2377282590.0: torch.Size([81, 1, 768])\n",
            "Final embedding shape for user 2377282590.0: torch.Size([1, 768])\n",
            "Shape of stacked embeddings for user 2377279662.0: torch.Size([83, 1, 768])\n",
            "Final embedding shape for user 2377279662.0: torch.Size([1, 768])\n",
            "Shape of stacked embeddings for user 2377261470.0: torch.Size([89, 1, 768])\n",
            "Final embedding shape for user 2377261470.0: torch.Size([1, 768])\n",
            "Shape of stacked embeddings for user 2377225074.0: torch.Size([92, 1, 768])\n",
            "Final embedding shape for user 2377225074.0: torch.Size([1, 768])\n",
            "Shape of stacked embeddings for user 2377101750.0: torch.Size([94, 1, 768])\n",
            "Final embedding shape for user 2377101750.0: torch.Size([1, 768])\n",
            "Shape of stacked embeddings for user 2377061208.0: torch.Size([96, 1, 768])\n",
            "Final embedding shape for user 2377061208.0: torch.Size([1, 768])\n",
            "Shape of stacked embeddings for user 2377055413.0: torch.Size([80, 1, 768])\n",
            "Final embedding shape for user 2377055413.0: torch.Size([1, 768])\n",
            "Shape of stacked embeddings for user 2377028120.0: torch.Size([79, 1, 768])\n",
            "Final embedding shape for user 2377028120.0: torch.Size([1, 768])\n",
            "Shape of stacked embeddings for user 2377024164.0: torch.Size([85, 1, 768])\n",
            "Final embedding shape for user 2377024164.0: torch.Size([1, 768])\n",
            "Shape of stacked embeddings for user 2376974335.0: torch.Size([81, 1, 768])\n",
            "Final embedding shape for user 2376974335.0: torch.Size([1, 768])\n",
            "Shape of stacked embeddings for user 2376896916.0: torch.Size([84, 1, 768])\n",
            "Final embedding shape for user 2376896916.0: torch.Size([1, 768])\n",
            "Shape of stacked embeddings for user 2376832255.0: torch.Size([81, 1, 768])\n",
            "Final embedding shape for user 2376832255.0: torch.Size([1, 768])\n",
            "Shape of stacked embeddings for user 2376811856.0: torch.Size([91, 1, 768])\n",
            "Final embedding shape for user 2376811856.0: torch.Size([1, 768])\n",
            "Shape of stacked embeddings for user 2376714811.0: torch.Size([93, 1, 768])\n",
            "Final embedding shape for user 2376714811.0: torch.Size([1, 768])\n",
            "Shape of final user embeddings: torch.Size([286, 768])\n",
            "torch.Size([286, 768])\n"
          ]
        }
      ]
    }
  ]
}