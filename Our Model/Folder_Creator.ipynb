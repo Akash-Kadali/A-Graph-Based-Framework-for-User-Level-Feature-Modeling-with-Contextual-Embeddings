{
  "nbformat": 4,
  "nbformat_minor": 0,
  "metadata": {
    "colab": {
      "provenance": [],
      "gpuType": "T4"
    },
    "kernelspec": {
      "name": "python3",
      "display_name": "Python 3"
    },
    "language_info": {
      "name": "python"
    },
    "accelerator": "GPU"
  },
  "cells": [
    {
      "cell_type": "code",
      "execution_count": 1,
      "metadata": {
        "colab": {
          "base_uri": "https://localhost:8080/"
        },
        "id": "2aFTyoNxvo3-",
        "outputId": "0eb698d9-c014-4ed0-e786-b50b8c89f68f"
      },
      "outputs": [
        {
          "output_type": "stream",
          "name": "stdout",
          "text": [
            "Mounted at /content/drive/\n"
          ]
        }
      ],
      "source": [
        "from google.colab import drive\n",
        "drive.mount('/content/drive/')\n",
        "\n",
        "import pandas as pd\n",
        "import numpy as np\n",
        "\n",
        "import os\n",
        "import shutil\n",
        "\n",
        "# Directory containing the CSV files\n",
        "source_dir = '/content/drive/MyDrive/MiB Dataset/NPY Files/user_csv_files'\n",
        "\n",
        "# Directory to move subfolders into\n",
        "destination_dir = '/content/drive/MyDrive/MiB Dataset/NPY Files/split files'\n",
        "\n",
        "# Number of subfolders\n",
        "num_subfolders = 20\n",
        "\n",
        "# Create subfolders\n",
        "for i in range(num_subfolders):\n",
        "    subfolder_name = f'subfolder_{i+1}'\n",
        "    os.makedirs(os.path.join(destination_dir, subfolder_name), exist_ok=True)\n",
        "\n",
        "# Get list of CSV files\n",
        "csv_files = [f for f in os.listdir(source_dir) if f.endswith('.csv')]\n",
        "\n",
        "# Calculate number of files per subfolder\n",
        "files_per_subfolder = len(csv_files) // num_subfolders\n",
        "extra_files = len(csv_files) % num_subfolders\n",
        "\n",
        "# Move files into subfolders\n",
        "file_index = 0\n",
        "for i in range(num_subfolders):\n",
        "    subfolder_name = f'subfolder_{i+1}'\n",
        "    subfolder_path = os.path.join(destination_dir, subfolder_name)\n",
        "\n",
        "    # Determine the number of files for this subfolder\n",
        "    if i < extra_files:\n",
        "        num_files = files_per_subfolder + 1\n",
        "    else:\n",
        "        num_files = files_per_subfolder\n",
        "\n",
        "    # Move files\n",
        "    for _ in range(num_files):\n",
        "        if file_index < len(csv_files):\n",
        "            src_file = os.path.join(source_dir, csv_files[file_index])\n",
        "            dst_file = os.path.join(subfolder_path, csv_files[file_index])\n",
        "            shutil.move(src_file, dst_file)\n",
        "            file_index += 1\n"
      ]
    },
    {
      "cell_type": "code",
      "source": [
        "# Count CSV files in each subfolder\n",
        "for i in range(num_subfolders):\n",
        "    subfolder_name = f'subfolder_{i+1}'\n",
        "    subfolder_path = os.path.join(destination_dir, subfolder_name)\n",
        "\n",
        "    # List CSV files in the subfolder\n",
        "    csv_files_in_subfolder = [f for f in os.listdir(subfolder_path) if f.endswith('.csv')]\n",
        "\n",
        "    # Count and print the number of CSV files\n",
        "    count = len(csv_files_in_subfolder)\n",
        "    print(f'{subfolder_name} contains {count} CSV files.')\n"
      ],
      "metadata": {
        "colab": {
          "base_uri": "https://localhost:8080/"
        },
        "id": "zDXyfDtS10Ga",
        "outputId": "d3c4e984-1a33-4ff0-d6de-932bbe41c149"
      },
      "execution_count": 2,
      "outputs": [
        {
          "output_type": "stream",
          "name": "stdout",
          "text": [
            "subfolder_1 contains 286 CSV files.\n",
            "subfolder_2 contains 286 CSV files.\n",
            "subfolder_3 contains 286 CSV files.\n",
            "subfolder_4 contains 286 CSV files.\n",
            "subfolder_5 contains 286 CSV files.\n",
            "subfolder_6 contains 285 CSV files.\n",
            "subfolder_7 contains 285 CSV files.\n",
            "subfolder_8 contains 285 CSV files.\n",
            "subfolder_9 contains 285 CSV files.\n",
            "subfolder_10 contains 285 CSV files.\n",
            "subfolder_11 contains 285 CSV files.\n",
            "subfolder_12 contains 285 CSV files.\n",
            "subfolder_13 contains 285 CSV files.\n",
            "subfolder_14 contains 285 CSV files.\n",
            "subfolder_15 contains 285 CSV files.\n",
            "subfolder_16 contains 285 CSV files.\n",
            "subfolder_17 contains 285 CSV files.\n",
            "subfolder_18 contains 285 CSV files.\n",
            "subfolder_19 contains 285 CSV files.\n",
            "subfolder_20 contains 285 CSV files.\n"
          ]
        }
      ]
    }
  ]
}